{
 "cells": [
  {
   "cell_type": "markdown",
   "id": "ff1804c2",
   "metadata": {
    "papermill": {
     "duration": 0.042789,
     "end_time": "2022-01-26T15:17:54.854583",
     "exception": false,
     "start_time": "2022-01-26T15:17:54.811794",
     "status": "completed"
    },
    "tags": []
   },
   "source": [
    "<h2>Imports</h2>"
   ]
  },
  {
   "cell_type": "markdown",
   "id": "133f099d",
   "metadata": {
    "papermill": {
     "duration": 0.040131,
     "end_time": "2022-01-26T15:17:54.936029",
     "exception": false,
     "start_time": "2022-01-26T15:17:54.895898",
     "status": "completed"
    },
    "tags": []
   },
   "source": [
    "-This version incorporates ML pipeline with fitting n different folds by randomly sampling neutral comments instead of undersampling them "
   ]
  },
  {
   "cell_type": "code",
   "execution_count": 1,
   "id": "d4da1e77",
   "metadata": {
    "_cell_guid": "b1076dfc-b9ad-4769-8c92-a6c4dae69d19",
    "_uuid": "8f2839f25d086af736a60e9eeb907d3b93b6e0e5",
    "execution": {
     "iopub.execute_input": "2022-01-26T15:17:55.017637Z",
     "iopub.status.busy": "2022-01-26T15:17:55.016686Z",
     "iopub.status.idle": "2022-01-26T15:17:56.780927Z",
     "shell.execute_reply": "2022-01-26T15:17:56.780038Z",
     "shell.execute_reply.started": "2022-01-26T13:15:19.461525Z"
    },
    "papermill": {
     "duration": 1.809781,
     "end_time": "2022-01-26T15:17:56.781141",
     "exception": false,
     "start_time": "2022-01-26T15:17:54.971360",
     "status": "completed"
    },
    "tags": []
   },
   "outputs": [
    {
     "name": "stdout",
     "output_type": "stream",
     "text": [
      "/kaggle/input/ruddit-jigsaw-dataset/LICENSE\n",
      "/kaggle/input/ruddit-jigsaw-dataset/README.md\n",
      "/kaggle/input/ruddit-jigsaw-dataset/requirements.txt\n",
      "/kaggle/input/ruddit-jigsaw-dataset/ruddit-comment-extraction.ipynb\n",
      "/kaggle/input/ruddit-jigsaw-dataset/Dataset/create_dataset_variants.py\n",
      "/kaggle/input/ruddit-jigsaw-dataset/Dataset/identityterms_group.txt\n",
      "/kaggle/input/ruddit-jigsaw-dataset/Dataset/Ruddit.csv\n",
      "/kaggle/input/ruddit-jigsaw-dataset/Dataset/ReadMe.md\n",
      "/kaggle/input/ruddit-jigsaw-dataset/Dataset/Ruddit_individual_annotations.csv\n",
      "/kaggle/input/ruddit-jigsaw-dataset/Dataset/ruddit_with_text.csv\n",
      "/kaggle/input/ruddit-jigsaw-dataset/Dataset/node_dictionary.npy\n",
      "/kaggle/input/ruddit-jigsaw-dataset/Dataset/post_with_issues.csv\n",
      "/kaggle/input/ruddit-jigsaw-dataset/Dataset/Thread_structure.txt\n",
      "/kaggle/input/ruddit-jigsaw-dataset/Dataset/load_node_dictionary.py\n",
      "/kaggle/input/ruddit-jigsaw-dataset/Dataset/sample_input_file.csv\n",
      "/kaggle/input/ruddit-jigsaw-dataset/Models/BERT.py\n",
      "/kaggle/input/ruddit-jigsaw-dataset/Models/create_splits.py\n",
      "/kaggle/input/ruddit-jigsaw-dataset/Models/README.md\n",
      "/kaggle/input/ruddit-jigsaw-dataset/Models/BiLSTM.py\n",
      "/kaggle/input/ruddit-jigsaw-dataset/Models/info.md\n",
      "/kaggle/input/ruddit-jigsaw-dataset/Models/HateBERT.py\n",
      "/kaggle/input/jigsaw-toxic-severity-rating/sample_submission.csv\n",
      "/kaggle/input/jigsaw-toxic-severity-rating/validation_data.csv\n",
      "/kaggle/input/jigsaw-toxic-severity-rating/comments_to_score.csv\n",
      "/kaggle/input/jigsaw-toxic-comment-classification-challenge/sample_submission.csv\n",
      "/kaggle/input/jigsaw-toxic-comment-classification-challenge/test_labels.csv\n",
      "/kaggle/input/jigsaw-toxic-comment-classification-challenge/train.csv\n",
      "/kaggle/input/jigsaw-toxic-comment-classification-challenge/test.csv\n",
      "/kaggle/input/jigsaw-unintended-bias-in-toxicity-classification/sample_submission.csv\n",
      "/kaggle/input/jigsaw-unintended-bias-in-toxicity-classification/all_data.csv\n",
      "/kaggle/input/jigsaw-unintended-bias-in-toxicity-classification/test_public_expanded.csv\n",
      "/kaggle/input/jigsaw-unintended-bias-in-toxicity-classification/test_private_expanded.csv\n",
      "/kaggle/input/jigsaw-unintended-bias-in-toxicity-classification/toxicity_individual_annotations.csv\n",
      "/kaggle/input/jigsaw-unintended-bias-in-toxicity-classification/train.csv\n",
      "/kaggle/input/jigsaw-unintended-bias-in-toxicity-classification/identity_individual_annotations.csv\n",
      "/kaggle/input/jigsaw-unintended-bias-in-toxicity-classification/test.csv\n"
     ]
    }
   ],
   "source": [
    "import numpy as np # linear algebra\n",
    "import pandas as pd # data processing, CSV file I/O (e.g. pd.read_csv)\n",
    "import progressbar\n",
    "import nltk\n",
    "import matplotlib.pyplot as plt\n",
    "import re\n",
    "\n",
    "from tqdm.auto import tqdm\n",
    "from bs4 import BeautifulSoup\n",
    "\n",
    "from sklearn.feature_extraction.text import CountVectorizer\n",
    "from sklearn import metrics\n",
    "\n",
    "import warnings\n",
    "warnings.filterwarnings(\"ignore\")\n",
    "\n",
    "import os\n",
    "for dirname, _, filenames in os.walk('/kaggle/input'):\n",
    "    for filename in filenames:\n",
    "        print(os.path.join(dirname, filename))"
   ]
  },
  {
   "cell_type": "code",
   "execution_count": 2,
   "id": "9faacbc4",
   "metadata": {
    "execution": {
     "iopub.execute_input": "2022-01-26T15:17:56.859023Z",
     "iopub.status.busy": "2022-01-26T15:17:56.858439Z",
     "iopub.status.idle": "2022-01-26T15:17:56.860746Z",
     "shell.execute_reply": "2022-01-26T15:17:56.860167Z",
     "shell.execute_reply.started": "2022-01-26T13:15:21.487095Z"
    },
    "papermill": {
     "duration": 0.042087,
     "end_time": "2022-01-26T15:17:56.860887",
     "exception": false,
     "start_time": "2022-01-26T15:17:56.818800",
     "status": "completed"
    },
    "tags": []
   },
   "outputs": [],
   "source": [
    "CONFIG = {\"seed\":42,\n",
    "         \"nfolds\":3}"
   ]
  },
  {
   "cell_type": "markdown",
   "id": "b5dc7de9",
   "metadata": {
    "papermill": {
     "duration": 0.036397,
     "end_time": "2022-01-26T15:17:56.933227",
     "exception": false,
     "start_time": "2022-01-26T15:17:56.896830",
     "status": "completed"
    },
    "tags": []
   },
   "source": [
    "<h2>Upload Datasets</h2>"
   ]
  },
  {
   "cell_type": "code",
   "execution_count": 3,
   "id": "4fc2dfb7",
   "metadata": {
    "execution": {
     "iopub.execute_input": "2022-01-26T15:17:57.067854Z",
     "iopub.status.busy": "2022-01-26T15:17:57.067249Z",
     "iopub.status.idle": "2022-01-26T15:17:57.069373Z",
     "shell.execute_reply": "2022-01-26T15:17:57.068802Z",
     "shell.execute_reply.started": "2022-01-26T13:15:21.492892Z"
    },
    "papermill": {
     "duration": 0.042646,
     "end_time": "2022-01-26T15:17:57.069510",
     "exception": false,
     "start_time": "2022-01-26T15:17:57.026864",
     "status": "completed"
    },
    "tags": []
   },
   "outputs": [],
   "source": [
    "train_1 = \"/kaggle/input/jigsaw-toxic-severity-rating/validation_data.csv\"\n",
    "train_2 = \"/kaggle/input/jigsaw-toxic-comment-classification-challenge/train.csv\"\n",
    "train_3 = \"/kaggle/input/ruddit-jigsaw-dataset/Dataset/ruddit_with_text.csv\"\n",
    "train_4 = \"/kaggle/input/jigsaw-unintended-bias-in-toxicity-classification/train.csv\""
   ]
  },
  {
   "cell_type": "code",
   "execution_count": 4,
   "id": "60127082",
   "metadata": {
    "execution": {
     "iopub.execute_input": "2022-01-26T15:17:57.146399Z",
     "iopub.status.busy": "2022-01-26T15:17:57.145772Z",
     "iopub.status.idle": "2022-01-26T15:17:57.148200Z",
     "shell.execute_reply": "2022-01-26T15:17:57.147631Z",
     "shell.execute_reply.started": "2022-01-26T13:15:21.506965Z"
    },
    "papermill": {
     "duration": 0.042408,
     "end_time": "2022-01-26T15:17:57.148352",
     "exception": false,
     "start_time": "2022-01-26T15:17:57.105944",
     "status": "completed"
    },
    "tags": []
   },
   "outputs": [],
   "source": [
    "\n",
    "TEST_DATA_PATH = \"/kaggle/input/jigsaw-toxic-severity-rating/comments_to_score.csv\"\n",
    "SAMPLE_SUBMISSION = \"/kaggle/input/jigsaw-toxic-severity-rating/sample_submission.csv\""
   ]
  },
  {
   "cell_type": "code",
   "execution_count": 5,
   "id": "c1da1c15",
   "metadata": {
    "execution": {
     "iopub.execute_input": "2022-01-26T15:17:57.229800Z",
     "iopub.status.busy": "2022-01-26T15:17:57.229094Z",
     "iopub.status.idle": "2022-01-26T15:18:22.605503Z",
     "shell.execute_reply": "2022-01-26T15:18:22.604938Z",
     "shell.execute_reply.started": "2022-01-26T13:15:21.520527Z"
    },
    "papermill": {
     "duration": 25.420899,
     "end_time": "2022-01-26T15:18:22.605659",
     "exception": false,
     "start_time": "2022-01-26T15:17:57.184760",
     "status": "completed"
    },
    "tags": []
   },
   "outputs": [],
   "source": [
    "df_severity=  pd.read_csv(train_1)\n",
    "df_classification=  pd.read_csv(train_2)\n",
    "df_ruddit=  pd.read_csv(train_3)\n",
    "df_ruddit = df_ruddit[df_ruddit[\"txt\"]!=\"[deleted]\"]\n",
    "df_ubias=  pd.read_csv(train_4)"
   ]
  },
  {
   "cell_type": "code",
   "execution_count": 6,
   "id": "6bf9a467",
   "metadata": {
    "execution": {
     "iopub.execute_input": "2022-01-26T15:18:22.682605Z",
     "iopub.status.busy": "2022-01-26T15:18:22.681977Z",
     "iopub.status.idle": "2022-01-26T15:18:22.787842Z",
     "shell.execute_reply": "2022-01-26T15:18:22.787275Z",
     "shell.execute_reply.started": "2022-01-26T13:15:49.298145Z"
    },
    "papermill": {
     "duration": 0.146234,
     "end_time": "2022-01-26T15:18:22.787990",
     "exception": false,
     "start_time": "2022-01-26T15:18:22.641756",
     "status": "completed"
    },
    "tags": []
   },
   "outputs": [],
   "source": [
    "# df_train = pd.read_csv(TRAIN_DATA_PATH)\n",
    "df_test = pd.read_csv(TEST_DATA_PATH)\n",
    "# df_validation_data = pd.read_csv(VALID_DATA_PATH)\n",
    "df_sample_submission = pd.read_csv(SAMPLE_SUBMISSION)"
   ]
  },
  {
   "cell_type": "markdown",
   "id": "2a69bcf6",
   "metadata": {
    "papermill": {
     "duration": 0.036188,
     "end_time": "2022-01-26T15:18:22.861252",
     "exception": false,
     "start_time": "2022-01-26T15:18:22.825064",
     "status": "completed"
    },
    "tags": []
   },
   "source": [
    "## Process severity data"
   ]
  },
  {
   "cell_type": "code",
   "execution_count": 7,
   "id": "6f69948c",
   "metadata": {
    "execution": {
     "iopub.execute_input": "2022-01-26T15:18:22.939592Z",
     "iopub.status.busy": "2022-01-26T15:18:22.938665Z",
     "iopub.status.idle": "2022-01-26T15:18:22.941568Z",
     "shell.execute_reply": "2022-01-26T15:18:22.940976Z",
     "shell.execute_reply.started": "2022-01-26T13:15:49.394549Z"
    },
    "papermill": {
     "duration": 0.043373,
     "end_time": "2022-01-26T15:18:22.941704",
     "exception": false,
     "start_time": "2022-01-26T15:18:22.898331",
     "status": "completed"
    },
    "tags": []
   },
   "outputs": [],
   "source": [
    "\n",
    "# total_less_toxic = {}\n",
    "\n",
    "\n",
    "# for comment in df_severity[\"less_toxic\"].unique():\n",
    "#     total_less_toxic[comment] = len(df_severity.loc[df_severity[\"less_toxic\"]==comment])\n",
    "    \n",
    "# total_more_toxic = {}\n",
    "\n",
    "# for comment in df_severity[\"more_toxic\"].unique():\n",
    "#     total_more_toxic[comment] = len(df_severity.loc[df_severity[\"more_toxic\"]==comment,])\n",
    "    "
   ]
  },
  {
   "cell_type": "code",
   "execution_count": 8,
   "id": "10aa2910",
   "metadata": {
    "execution": {
     "iopub.execute_input": "2022-01-26T15:18:23.022025Z",
     "iopub.status.busy": "2022-01-26T15:18:23.021429Z",
     "iopub.status.idle": "2022-01-26T15:18:23.023040Z",
     "shell.execute_reply": "2022-01-26T15:18:23.023517Z",
     "shell.execute_reply.started": "2022-01-26T13:15:49.400309Z"
    },
    "papermill": {
     "duration": 0.0437,
     "end_time": "2022-01-26T15:18:23.023696",
     "exception": false,
     "start_time": "2022-01-26T15:18:22.979996",
     "status": "completed"
    },
    "tags": []
   },
   "outputs": [],
   "source": [
    "# unique_comments = np.unique(np.concatenate((list(total_less_toxic.keys()), list(total_more_toxic.keys()))))\n",
    "# comment_scores = {}\n",
    "# total_evals = {}\n",
    "# for comment in unique_comments:\n",
    "#     total_evals[comment] = total_less_toxic.get(comment,0) + total_more_toxic.get(comment,0)\n",
    "#     if total_evals[comment]>=3:\n",
    "#             comment_scores[comment] = (-1*total_less_toxic.get(comment,0) + total_more_toxic.get(comment,0)) / total_evals[comment]\n",
    " \n"
   ]
  },
  {
   "cell_type": "code",
   "execution_count": 9,
   "id": "6c97a9a1",
   "metadata": {
    "execution": {
     "iopub.execute_input": "2022-01-26T15:18:23.099807Z",
     "iopub.status.busy": "2022-01-26T15:18:23.099158Z",
     "iopub.status.idle": "2022-01-26T15:18:23.102057Z",
     "shell.execute_reply": "2022-01-26T15:18:23.102613Z",
     "shell.execute_reply.started": "2022-01-26T13:15:49.415825Z"
    },
    "papermill": {
     "duration": 0.042758,
     "end_time": "2022-01-26T15:18:23.102779",
     "exception": false,
     "start_time": "2022-01-26T15:18:23.060021",
     "status": "completed"
    },
    "tags": []
   },
   "outputs": [],
   "source": [
    "# pd.Series(list(total_evals.values())).describe() "
   ]
  },
  {
   "cell_type": "code",
   "execution_count": 10,
   "id": "55a9eb75",
   "metadata": {
    "execution": {
     "iopub.execute_input": "2022-01-26T15:18:23.178822Z",
     "iopub.status.busy": "2022-01-26T15:18:23.178230Z",
     "iopub.status.idle": "2022-01-26T15:18:23.180929Z",
     "shell.execute_reply": "2022-01-26T15:18:23.181449Z",
     "shell.execute_reply.started": "2022-01-26T13:15:49.426647Z"
    },
    "papermill": {
     "duration": 0.042384,
     "end_time": "2022-01-26T15:18:23.181617",
     "exception": false,
     "start_time": "2022-01-26T15:18:23.139233",
     "status": "completed"
    },
    "tags": []
   },
   "outputs": [],
   "source": [
    "# df_sev = pd.DataFrame(comment_scores.items(), columns=[\"text\",\"score\"])"
   ]
  },
  {
   "cell_type": "code",
   "execution_count": 11,
   "id": "e8f33945",
   "metadata": {
    "execution": {
     "iopub.execute_input": "2022-01-26T15:18:23.257404Z",
     "iopub.status.busy": "2022-01-26T15:18:23.256841Z",
     "iopub.status.idle": "2022-01-26T15:18:23.259434Z",
     "shell.execute_reply": "2022-01-26T15:18:23.259988Z",
     "shell.execute_reply.started": "2022-01-26T13:15:49.440367Z"
    },
    "papermill": {
     "duration": 0.041929,
     "end_time": "2022-01-26T15:18:23.260147",
     "exception": false,
     "start_time": "2022-01-26T15:18:23.218218",
     "status": "completed"
    },
    "tags": []
   },
   "outputs": [],
   "source": [
    "# df_sev[\"score\"].value_counts()"
   ]
  },
  {
   "cell_type": "code",
   "execution_count": 12,
   "id": "7f9674f1",
   "metadata": {
    "execution": {
     "iopub.execute_input": "2022-01-26T15:18:23.336163Z",
     "iopub.status.busy": "2022-01-26T15:18:23.335567Z",
     "iopub.status.idle": "2022-01-26T15:18:23.338479Z",
     "shell.execute_reply": "2022-01-26T15:18:23.338975Z",
     "shell.execute_reply.started": "2022-01-26T13:15:49.450670Z"
    },
    "papermill": {
     "duration": 0.04222,
     "end_time": "2022-01-26T15:18:23.339147",
     "exception": false,
     "start_time": "2022-01-26T15:18:23.296927",
     "status": "completed"
    },
    "tags": []
   },
   "outputs": [],
   "source": [
    "# max_  = df_sev[\"score\"].max()\n",
    "# min_ = df_sev[\"score\"].min()\n",
    "# df_sev[\"score\"] = (df_sev[\"score\"] - min_) / (max_ - min_)"
   ]
  },
  {
   "cell_type": "markdown",
   "id": "0d9204e1",
   "metadata": {
    "papermill": {
     "duration": 0.036537,
     "end_time": "2022-01-26T15:18:23.411991",
     "exception": false,
     "start_time": "2022-01-26T15:18:23.375454",
     "status": "completed"
    },
    "tags": []
   },
   "source": [
    "## Process ruddit data"
   ]
  },
  {
   "cell_type": "code",
   "execution_count": 13,
   "id": "055dc32b",
   "metadata": {
    "execution": {
     "iopub.execute_input": "2022-01-26T15:18:23.487870Z",
     "iopub.status.busy": "2022-01-26T15:18:23.487285Z",
     "iopub.status.idle": "2022-01-26T15:18:23.506004Z",
     "shell.execute_reply": "2022-01-26T15:18:23.506468Z",
     "shell.execute_reply.started": "2022-01-26T13:15:49.462119Z"
    },
    "papermill": {
     "duration": 0.058304,
     "end_time": "2022-01-26T15:18:23.506633",
     "exception": false,
     "start_time": "2022-01-26T15:18:23.448329",
     "status": "completed"
    },
    "tags": []
   },
   "outputs": [
    {
     "data": {
      "text/html": [
       "<div>\n",
       "<style scoped>\n",
       "    .dataframe tbody tr th:only-of-type {\n",
       "        vertical-align: middle;\n",
       "    }\n",
       "\n",
       "    .dataframe tbody tr th {\n",
       "        vertical-align: top;\n",
       "    }\n",
       "\n",
       "    .dataframe thead th {\n",
       "        text-align: right;\n",
       "    }\n",
       "</style>\n",
       "<table border=\"1\" class=\"dataframe\">\n",
       "  <thead>\n",
       "    <tr style=\"text-align: right;\">\n",
       "      <th></th>\n",
       "      <th>post_id</th>\n",
       "      <th>comment_id</th>\n",
       "      <th>txt</th>\n",
       "      <th>url</th>\n",
       "      <th>offensiveness_score</th>\n",
       "    </tr>\n",
       "  </thead>\n",
       "  <tbody>\n",
       "    <tr>\n",
       "      <th>0</th>\n",
       "      <td>42g75o</td>\n",
       "      <td>cza1q49</td>\n",
       "      <td>&gt; The difference in average earnings between m...</td>\n",
       "      <td>https://www.reddit.com/r/changemyview/comments...</td>\n",
       "      <td>-0.083</td>\n",
       "    </tr>\n",
       "    <tr>\n",
       "      <th>1</th>\n",
       "      <td>42g75o</td>\n",
       "      <td>cza1wdh</td>\n",
       "      <td>The myth is that the \"gap\" is entirely based o...</td>\n",
       "      <td>https://www.reddit.com/r/changemyview/comments...</td>\n",
       "      <td>-0.022</td>\n",
       "    </tr>\n",
       "    <tr>\n",
       "      <th>3</th>\n",
       "      <td>42g75o</td>\n",
       "      <td>cza2bw8</td>\n",
       "      <td>The assertion is that women get paid less for ...</td>\n",
       "      <td>https://www.reddit.com/r/changemyview/comments...</td>\n",
       "      <td>-0.146</td>\n",
       "    </tr>\n",
       "    <tr>\n",
       "      <th>4</th>\n",
       "      <td>42g75o</td>\n",
       "      <td>cza2iji</td>\n",
       "      <td>You said in the OP that's not what they're mea...</td>\n",
       "      <td>https://www.reddit.com/r/changemyview/comments...</td>\n",
       "      <td>-0.083</td>\n",
       "    </tr>\n",
       "    <tr>\n",
       "      <th>5</th>\n",
       "      <td>42g75o</td>\n",
       "      <td>cza2jj3</td>\n",
       "      <td>&gt;Men and women are not payed less for the same...</td>\n",
       "      <td>https://www.reddit.com/r/changemyview/comments...</td>\n",
       "      <td>-0.042</td>\n",
       "    </tr>\n",
       "    <tr>\n",
       "      <th>...</th>\n",
       "      <td>...</td>\n",
       "      <td>...</td>\n",
       "      <td>...</td>\n",
       "      <td>...</td>\n",
       "      <td>...</td>\n",
       "    </tr>\n",
       "    <tr>\n",
       "      <th>5833</th>\n",
       "      <td>cu67co</td>\n",
       "      <td>f0i0mqp</td>\n",
       "      <td>They should only censor things that talk badly...</td>\n",
       "      <td>https://i.redd.it/kfsmqzxae3i31.jpg/f0i0mqp/</td>\n",
       "      <td>0.064</td>\n",
       "    </tr>\n",
       "    <tr>\n",
       "      <th>5834</th>\n",
       "      <td>cganu1</td>\n",
       "      <td>f80wlxq</td>\n",
       "      <td>&gt; and one of them is a woman. \\n\\nOH SHIT we b...</td>\n",
       "      <td>https://www.reddit.com/r/worldpolitics/comment...</td>\n",
       "      <td>0.458</td>\n",
       "    </tr>\n",
       "    <tr>\n",
       "      <th>5835</th>\n",
       "      <td>cu67co</td>\n",
       "      <td>f8uksbp</td>\n",
       "      <td>how is this flared as US politics</td>\n",
       "      <td>https://i.redd.it/kfsmqzxae3i31.jpg/f8uksbp/</td>\n",
       "      <td>-0.292</td>\n",
       "    </tr>\n",
       "    <tr>\n",
       "      <th>5836</th>\n",
       "      <td>cganu1</td>\n",
       "      <td>fa6nc1r</td>\n",
       "      <td>People in Hong Kong must decide if they are go...</td>\n",
       "      <td>https://www.reddit.com/r/worldpolitics/comment...</td>\n",
       "      <td>0.333</td>\n",
       "    </tr>\n",
       "    <tr>\n",
       "      <th>5837</th>\n",
       "      <td>cqqera</td>\n",
       "      <td>fakgh1h</td>\n",
       "      <td>I know this is an old post but I saw him last ...</td>\n",
       "      <td>https://i.redd.it/xt63a5xefmg31.jpg/fakgh1h/</td>\n",
       "      <td>-0.625</td>\n",
       "    </tr>\n",
       "  </tbody>\n",
       "</table>\n",
       "<p>5722 rows × 5 columns</p>\n",
       "</div>"
      ],
      "text/plain": [
       "     post_id comment_id                                                txt  \\\n",
       "0     42g75o    cza1q49  > The difference in average earnings between m...   \n",
       "1     42g75o    cza1wdh  The myth is that the \"gap\" is entirely based o...   \n",
       "3     42g75o    cza2bw8  The assertion is that women get paid less for ...   \n",
       "4     42g75o    cza2iji  You said in the OP that's not what they're mea...   \n",
       "5     42g75o    cza2jj3  >Men and women are not payed less for the same...   \n",
       "...      ...        ...                                                ...   \n",
       "5833  cu67co    f0i0mqp  They should only censor things that talk badly...   \n",
       "5834  cganu1    f80wlxq  > and one of them is a woman. \\n\\nOH SHIT we b...   \n",
       "5835  cu67co    f8uksbp                  how is this flared as US politics   \n",
       "5836  cganu1    fa6nc1r  People in Hong Kong must decide if they are go...   \n",
       "5837  cqqera    fakgh1h  I know this is an old post but I saw him last ...   \n",
       "\n",
       "                                                    url  offensiveness_score  \n",
       "0     https://www.reddit.com/r/changemyview/comments...               -0.083  \n",
       "1     https://www.reddit.com/r/changemyview/comments...               -0.022  \n",
       "3     https://www.reddit.com/r/changemyview/comments...               -0.146  \n",
       "4     https://www.reddit.com/r/changemyview/comments...               -0.083  \n",
       "5     https://www.reddit.com/r/changemyview/comments...               -0.042  \n",
       "...                                                 ...                  ...  \n",
       "5833       https://i.redd.it/kfsmqzxae3i31.jpg/f0i0mqp/                0.064  \n",
       "5834  https://www.reddit.com/r/worldpolitics/comment...                0.458  \n",
       "5835       https://i.redd.it/kfsmqzxae3i31.jpg/f8uksbp/               -0.292  \n",
       "5836  https://www.reddit.com/r/worldpolitics/comment...                0.333  \n",
       "5837       https://i.redd.it/xt63a5xefmg31.jpg/fakgh1h/               -0.625  \n",
       "\n",
       "[5722 rows x 5 columns]"
      ]
     },
     "execution_count": 13,
     "metadata": {},
     "output_type": "execute_result"
    }
   ],
   "source": [
    "df_ruddit"
   ]
  },
  {
   "cell_type": "code",
   "execution_count": 14,
   "id": "8f652add",
   "metadata": {
    "execution": {
     "iopub.execute_input": "2022-01-26T15:18:23.585308Z",
     "iopub.status.busy": "2022-01-26T15:18:23.583192Z",
     "iopub.status.idle": "2022-01-26T15:18:23.591734Z",
     "shell.execute_reply": "2022-01-26T15:18:23.592272Z",
     "shell.execute_reply.started": "2022-01-26T13:15:49.496330Z"
    },
    "papermill": {
     "duration": 0.048677,
     "end_time": "2022-01-26T15:18:23.592453",
     "exception": false,
     "start_time": "2022-01-26T15:18:23.543776",
     "status": "completed"
    },
    "tags": []
   },
   "outputs": [
    {
     "data": {
      "text/plain": [
       "count    5722.000000\n",
       "mean       -0.027165\n",
       "std         0.334562\n",
       "min        -0.889000\n",
       "25%        -0.255000\n",
       "50%        -0.062000\n",
       "75%         0.167000\n",
       "max         0.979000\n",
       "Name: offensiveness_score, dtype: float64"
      ]
     },
     "execution_count": 14,
     "metadata": {},
     "output_type": "execute_result"
    }
   ],
   "source": [
    "df_ruddit[\"offensiveness_score\"].describe()"
   ]
  },
  {
   "cell_type": "code",
   "execution_count": 15,
   "id": "457c077c",
   "metadata": {
    "execution": {
     "iopub.execute_input": "2022-01-26T15:18:23.672895Z",
     "iopub.status.busy": "2022-01-26T15:18:23.672287Z",
     "iopub.status.idle": "2022-01-26T15:18:23.683061Z",
     "shell.execute_reply": "2022-01-26T15:18:23.683573Z",
     "shell.execute_reply.started": "2022-01-26T13:15:49.507436Z"
    },
    "papermill": {
     "duration": 0.052335,
     "end_time": "2022-01-26T15:18:23.683736",
     "exception": false,
     "start_time": "2022-01-26T15:18:23.631401",
     "status": "completed"
    },
    "tags": []
   },
   "outputs": [
    {
     "data": {
      "text/plain": [
       "-0.021    161\n",
       " 0.000    152\n",
       "-0.167    136\n",
       "-0.125    128\n",
       "-0.208    123\n",
       "         ... \n",
       " 0.422      1\n",
       "-0.761      1\n",
       "-0.875      1\n",
       "-0.543      1\n",
       " 0.578      1\n",
       "Name: offensiveness_score, Length: 287, dtype: int64"
      ]
     },
     "execution_count": 15,
     "metadata": {},
     "output_type": "execute_result"
    }
   ],
   "source": [
    "df_ruddit[\"offensiveness_score\"].value_counts()"
   ]
  },
  {
   "cell_type": "code",
   "execution_count": null,
   "id": "a9e3dfb5",
   "metadata": {
    "papermill": {
     "duration": 0.036931,
     "end_time": "2022-01-26T15:18:23.758003",
     "exception": false,
     "start_time": "2022-01-26T15:18:23.721072",
     "status": "completed"
    },
    "tags": []
   },
   "outputs": [],
   "source": []
  },
  {
   "cell_type": "code",
   "execution_count": 16,
   "id": "226f2491",
   "metadata": {
    "execution": {
     "iopub.execute_input": "2022-01-26T15:18:23.840847Z",
     "iopub.status.busy": "2022-01-26T15:18:23.840157Z",
     "iopub.status.idle": "2022-01-26T15:18:23.841646Z",
     "shell.execute_reply": "2022-01-26T15:18:23.842114Z",
     "shell.execute_reply.started": "2022-01-26T13:15:49.524452Z"
    },
    "papermill": {
     "duration": 0.04713,
     "end_time": "2022-01-26T15:18:23.842298",
     "exception": false,
     "start_time": "2022-01-26T15:18:23.795168",
     "status": "completed"
    },
    "tags": []
   },
   "outputs": [],
   "source": [
    "df_ruddit = df_ruddit[[\"txt\",\"offensiveness_score\"]].rename(columns = {\"txt\":\"text\",\"offensiveness_score\":\"score\"})"
   ]
  },
  {
   "cell_type": "code",
   "execution_count": 17,
   "id": "8560eb16",
   "metadata": {
    "execution": {
     "iopub.execute_input": "2022-01-26T15:18:23.920820Z",
     "iopub.status.busy": "2022-01-26T15:18:23.920072Z",
     "iopub.status.idle": "2022-01-26T15:18:23.954323Z",
     "shell.execute_reply": "2022-01-26T15:18:23.954802Z",
     "shell.execute_reply.started": "2022-01-26T13:15:49.537156Z"
    },
    "papermill": {
     "duration": 0.07533,
     "end_time": "2022-01-26T15:18:23.954969",
     "exception": false,
     "start_time": "2022-01-26T15:18:23.879639",
     "status": "completed"
    },
    "tags": []
   },
   "outputs": [],
   "source": [
    "def text_cleaning(text):\n",
    "    '''\n",
    "    Cleans text into a basic form for NLP. Operations include the following:-\n",
    "    1. Remove special charecters like &, #, etc\n",
    "    2. Removes extra spaces\n",
    "    3. Removes embedded URL links\n",
    "    4. Removes HTML tags\n",
    "    5. Removes emojis\n",
    "    \n",
    "    text - Text piece to be cleaned.\n",
    "    '''\n",
    "    template = re.compile(r'https?://\\S+|www\\.\\S+')  # Removes website links\n",
    "    text = template.sub(r'', text)\n",
    "    \n",
    "    soup = BeautifulSoup(text, 'lxml')  # Removes HTML tags\n",
    "    only_text = soup.get_text()\n",
    "    text = only_text\n",
    "    \n",
    "    emoji_pattern = re.compile(\"[\"\n",
    "                               u\"\\U0001F680-\\U0001F6FF\"  # transport & map symbols\n",
    "                               u\"\\U0001F1E0-\\U0001F1FF\"  # flags (iOS)\n",
    "                               u\"\\U00002702-\\U000027B0\"\n",
    "                               u\"\\U000024C2-\\U0001F251\"\n",
    "                               \"]+\", flags=re.UNICODE)\n",
    "    text = emoji_pattern.sub(r'', text)\n",
    "    \n",
    "    text = re.sub(' +', ' ', text) # Remove Extra Spaces\n",
    "    text = text.strip().lower() # remove spaces at the beginning and at the end of string and make string lower\n",
    "\n",
    "    return text\n",
    "\n",
    "\n",
    "\n",
    "\n",
    "def clean(data, col):\n",
    "    \n",
    "    data[col] = data[col].str.replace('https?://\\S+|www\\.\\S+', ' social medium ')      \n",
    "        \n",
    "    data[col] = data[col].str.lower()\n",
    "#     data[col] = data[col].str.replace(\"4\", \"a\") \n",
    "#     data[col] = data[col].str.replace(\"2\", \"l\")\n",
    "#     data[col] = data[col].str.replace(\"5\", \"s\") \n",
    "#     data[col] = data[col].str.replace(\"1\", \"i\") \n",
    "#     data[col] = data[col].str.replace(\"!\", \"i\") \n",
    "#     data[col] = data[col].str.replace(\"|\", \"i\") \n",
    "#     data[col] = data[col].str.replace(\"0\", \"o\") \n",
    "#     data[col] = data[col].str.replace(\"l3\", \"b\") \n",
    "#     data[col] = data[col].str.replace(\"7\", \"t\") \n",
    "#     data[col] = data[col].str.replace(\"7\", \"+\") \n",
    "#     data[col] = data[col].str.replace(\"8\", \"ate\") \n",
    "#     data[col] = data[col].str.replace(\"3\", \"e\") \n",
    "#     data[col] = data[col].str.replace(\"9\", \"g\")\n",
    "#     data[col] = data[col].str.replace(\"6\", \"g\")\n",
    "#     data[col] = data[col].str.replace(\"@\", \"a\")\n",
    "#     data[col] = data[col].str.replace(\"$\", \"s\")\n",
    "#     data[col] = data[col].str.replace(\"#ofc\", \" of fuckin course \")\n",
    "    data[col] = data[col].str.replace(\"fggt\", \" faggot \")\n",
    "    data[col] = data[col].str.replace(\"your\", \" your \")\n",
    "    data[col] = data[col].str.replace(\"self\", \" self \")\n",
    "    data[col] = data[col].str.replace(\"cuntbag\", \" cunt bag \")\n",
    "    data[col] = data[col].str.replace(\"fartchina\", \" fart china \")    \n",
    "    data[col] = data[col].str.replace(\"youi\", \" you i \")\n",
    "    data[col] = data[col].str.replace(\"cunti\", \" cunt i \")\n",
    "    data[col] = data[col].str.replace(\"sucki\", \" suck i \")\n",
    "    data[col] = data[col].str.replace(\"pagedelete\", \" page delete \")\n",
    "    data[col] = data[col].str.replace(\"cuntsi\", \" cuntsi \")\n",
    "    data[col] = data[col].str.replace(\"i'm\", \" i am \")\n",
    "    data[col] = data[col].str.replace(\"offuck\", \" of fuck \")\n",
    "    data[col] = data[col].str.replace(\"centraliststupid\", \" central ist stupid \")\n",
    "    data[col] = data[col].str.replace(\"hitleri\", \" hitler i \")\n",
    "    data[col] = data[col].str.replace(\"i've\", \" i have \")\n",
    "    data[col] = data[col].str.replace(\"i'll\", \"i will \")\n",
    "    data[col] = data[col].str.replace(\"fuck\", \" fuck \")\n",
    "    data[col] = data[col].str.replace(\"f u c k\", \" fuck \")\n",
    "    data[col] = data[col].str.replace(\"shit\", \" shit \")\n",
    "    data[col] = data[col].str.replace(\"bunksteve\", \" bunk steve \")\n",
    "    data[col] = data[col].str.replace('wikipedia', ' social medium ')\n",
    "    data[col] = data[col].str.replace(\"faggot\", \" faggot \")\n",
    "    data[col] = data[col].str.replace(\"delanoy\", \" delanoy \")\n",
    "    data[col] = data[col].str.replace(\"jewish\", \" jewish \")\n",
    "    data[col] = data[col].str.replace(\"sexsex\", \" sex \")\n",
    "    data[col] = data[col].str.replace(\"allii\", \" all ii \")\n",
    "    data[col] = data[col].str.replace(\"i'd\", \" i had \")\n",
    "    data[col] = data[col].str.replace(\"'s\", \" is \")\n",
    "    data[col] = data[col].str.replace(\"youbollocks\", \" you bollocks \")\n",
    "    data[col] = data[col].str.replace(\"dick\", \" dick \")\n",
    "    data[col] = data[col].str.replace(\"cuntsi\", \" cuntsi \")\n",
    "    data[col] = data[col].str.replace(\"mothjer\", \" mother \")\n",
    "    data[col] = data[col].str.replace(\"cuntfranks\", \" cunt \")\n",
    "#     data[col] = data[col].str.replace(\"ullmann\", \" jewish \")\n",
    "    data[col] = data[col].str.replace(\"mr.\", \" mister \")\n",
    "    data[col] = data[col].str.replace(\"aidsaids\", \" aids \")\n",
    "    data[col] = data[col].str.replace(\"njgw\", \" nigger \")\n",
    "    data[col] = data[col].str.replace(\"wiki\", \" social medium \")\n",
    "    data[col] = data[col].str.replace(\"administrator\", \" admin \")\n",
    "    data[col] = data[col].str.replace(\"gamaliel\", \" jewish \")\n",
    "    data[col] = data[col].str.replace(\"rvv\", \" vanadalism \")\n",
    "    data[col] = data[col].str.replace(\"admins\", \" admin \")\n",
    "    data[col] = data[col].str.replace(\"pensnsnniensnsn\", \" penis \")\n",
    "    data[col] = data[col].str.replace(\"pneis\", \" penis \")\n",
    "    data[col] = data[col].str.replace(\"pennnis\", \" penis \")\n",
    "    data[col] = data[col].str.replace(\"pov.\", \" point of view \")\n",
    "    data[col] = data[col].str.replace(\"vandalising\", \" vandalism \")\n",
    "    data[col] = data[col].str.replace(\"cock\", \" dick \")\n",
    "    data[col] = data[col].str.replace(\"asshole\", \" asshole \")\n",
    "    data[col] = data[col].str.replace(\"youi\", \" you \")\n",
    "    data[col] = data[col].str.replace(\"afd\", \" all fucking day \")\n",
    "    data[col] = data[col].str.replace(\"sockpuppets\", \" sockpuppetry \")\n",
    "    data[col] = data[col].str.replace(\"iiprick\", \" iprick \")\n",
    "    data[col] = data[col].str.replace(\"penisi\", \" penis \")\n",
    "    data[col] = data[col].str.replace(\"warrior\", \" warrior \")\n",
    "    data[col] = data[col].str.replace(\"loil\", \" laughing out insanely loud \")\n",
    "    data[col] = data[col].str.replace(\"vandalise\", \" vanadalism \")\n",
    "    data[col] = data[col].str.replace(\"helli\", \" helli \")\n",
    "    data[col] = data[col].str.replace(\"lunchablesi\", \" lunchablesi \")\n",
    "    data[col] = data[col].str.replace(\"special\", \" special \")\n",
    "    data[col] = data[col].str.replace(\"ilol\", \" i lol \")\n",
    "    data[col] = data[col].str.replace(r'\\b[uU]\\b', 'you')\n",
    "    data[col] = data[col].str.replace(r\"what's\", \"what is \")\n",
    "    data[col] = data[col].str.replace(r\"\\'s\", \" is \")\n",
    "    data[col] = data[col].str.replace(r\"\\'ve\", \" have \")\n",
    "    data[col] = data[col].str.replace(r\"can't\", \"cannot \")\n",
    "    data[col] = data[col].str.replace(r\"n't\", \" not \")\n",
    "    data[col] = data[col].str.replace(r\"i'm\", \"i am \")\n",
    "    data[col] = data[col].str.replace(r\"\\'re\", \" are \")\n",
    "    data[col] = data[col].str.replace(r\"\\'d\", \" would \")\n",
    "    data[col] = data[col].str.replace(r\"\\'ll\", \" will \")\n",
    "    data[col] = data[col].str.replace(r\"\\'scuse\", \" excuse \")\n",
    "    data[col] = data[col].str.replace(\"[:|♣|'|§|♠|*|/|?|=|%|&|-|#|•|~|^|>|<|►|_]\", ' ')\n",
    "    data[col] = data[col].str.replace('\\s+', ' ')  # will remove more than one whitespace character\n",
    "#     text = re.sub(r'\\b([^\\W\\d_]+)(\\s+\\1)+\\b', r'\\1', re.sub(r'\\W+', ' ', text).strip(), flags=re.I)  # remove repeating words coming immediately one after another\n",
    "    data[col] = data[col].str.replace(r'(.)\\1+', r'\\1\\1') # 2 or more characters are replaced by 2 characters\n",
    "#     text = re.sub(r'((\\b\\w+\\b.{1,2}\\w+\\b)+).+\\1', r'\\1', text, flags = re.I)\n",
    "   \n",
    "    \n",
    "    data[col] = data[col].str.replace(r\"what's\", \"what is \")\n",
    "    data[col] = data[col].str.replace(r\"\\'s\", \" \")\n",
    "    data[col] = data[col].str.replace(r\"\\'ve\", \" have \")\n",
    "    data[col] = data[col].str.replace(r\"can't\", \"cannot \")\n",
    "    data[col] = data[col].str.replace(r\"n't\", \" not \")\n",
    "    data[col] = data[col].str.replace(r\"i'm\", \"i am \")\n",
    "    data[col] = data[col].str.replace(r\"\\'re\", \" are \")\n",
    "    data[col] = data[col].str.replace(r\"\\'d\", \" would \")\n",
    "    data[col] = data[col].str.replace(r\"\\'ll\", \" will \")\n",
    "    data[col] = data[col].str.replace(r\"\\'scuse\", \" excuse \")\n",
    "\n",
    "\n",
    "    # Clean some punctutations\n",
    "    data[col] = data[col].str.replace('\\n', ' \\n ')\n",
    "    data[col] = data[col].str.replace(r'([a-zA-Z]+)([/!?.])([a-zA-Z]+)',r'\\1 \\2 \\3')\n",
    "    \n",
    "    # Remove ip address\n",
    "    data[col] = data[col].str.replace(r'(([0-9]+\\.){2,}[0-9]+)','')\n",
    "    \n",
    "    # Replace repeating characters more than 3 times to length of 3\n",
    "    data[col] = data[col].str.replace(r'([*!?\\'])\\1\\1{2,}',r'\\1\\1\\1')    \n",
    "    # Add space around repeating characters\n",
    "    data[col] = data[col].str.replace(r'([*!?\\']+)',r' \\1 ')    \n",
    "    # patterns with repeating characters \n",
    "    data[col] = data[col].str.replace(r'([a-zA-Z])\\1{2,}\\b',r'\\1\\1')\n",
    "    data[col] = data[col].str.replace(r'([a-zA-Z])\\1\\1{2,}\\B',r'\\1\\1\\1')\n",
    "    data[col] = data[col].str.replace(r' +', ' ')\n",
    "    data[col] = data[col].str.replace(r'[ ]{2,}',' ').str.strip()      \n",
    "    \n",
    "    return data\n"
   ]
  },
  {
   "cell_type": "code",
   "execution_count": 18,
   "id": "fb51ffe9",
   "metadata": {
    "execution": {
     "iopub.execute_input": "2022-01-26T15:18:24.033031Z",
     "iopub.status.busy": "2022-01-26T15:18:24.032466Z",
     "iopub.status.idle": "2022-01-26T15:18:25.511823Z",
     "shell.execute_reply": "2022-01-26T15:18:25.511327Z",
     "shell.execute_reply.started": "2022-01-26T13:15:49.590936Z"
    },
    "papermill": {
     "duration": 1.519541,
     "end_time": "2022-01-26T15:18:25.511962",
     "exception": false,
     "start_time": "2022-01-26T15:18:23.992421",
     "status": "completed"
    },
    "tags": []
   },
   "outputs": [
    {
     "data": {
      "application/vnd.jupyter.widget-view+json": {
       "model_id": "936fc9e873994eeeb930e34eac3b7bac",
       "version_major": 2,
       "version_minor": 0
      },
      "text/plain": [
       "  0%|          | 0/5722 [00:00<?, ?it/s]"
      ]
     },
     "metadata": {},
     "output_type": "display_data"
    }
   ],
   "source": [
    "tqdm.pandas()\n",
    "df_ruddit['text'] = df_ruddit['text'].progress_apply(text_cleaning)"
   ]
  },
  {
   "cell_type": "code",
   "execution_count": 19,
   "id": "78c913c4",
   "metadata": {
    "execution": {
     "iopub.execute_input": "2022-01-26T15:18:25.592001Z",
     "iopub.status.busy": "2022-01-26T15:18:25.591070Z",
     "iopub.status.idle": "2022-01-26T15:18:26.751432Z",
     "shell.execute_reply": "2022-01-26T15:18:26.753710Z",
     "shell.execute_reply.started": "2022-01-26T13:15:51.309903Z"
    },
    "papermill": {
     "duration": 1.203709,
     "end_time": "2022-01-26T15:18:26.753973",
     "exception": false,
     "start_time": "2022-01-26T15:18:25.550264",
     "status": "completed"
    },
    "tags": []
   },
   "outputs": [],
   "source": [
    "df_ruddit = clean(df_ruddit,\"text\")"
   ]
  },
  {
   "cell_type": "code",
   "execution_count": 20,
   "id": "c0ea3902",
   "metadata": {
    "execution": {
     "iopub.execute_input": "2022-01-26T15:18:26.864276Z",
     "iopub.status.busy": "2022-01-26T15:18:26.863574Z",
     "iopub.status.idle": "2022-01-26T15:18:26.870299Z",
     "shell.execute_reply": "2022-01-26T15:18:26.870789Z",
     "shell.execute_reply.started": "2022-01-26T13:15:53.422095Z"
    },
    "papermill": {
     "duration": 0.056115,
     "end_time": "2022-01-26T15:18:26.871015",
     "exception": false,
     "start_time": "2022-01-26T15:18:26.814900",
     "status": "completed"
    },
    "tags": []
   },
   "outputs": [
    {
     "data": {
      "text/html": [
       "<div>\n",
       "<style scoped>\n",
       "    .dataframe tbody tr th:only-of-type {\n",
       "        vertical-align: middle;\n",
       "    }\n",
       "\n",
       "    .dataframe tbody tr th {\n",
       "        vertical-align: top;\n",
       "    }\n",
       "\n",
       "    .dataframe thead th {\n",
       "        text-align: right;\n",
       "    }\n",
       "</style>\n",
       "<table border=\"1\" class=\"dataframe\">\n",
       "  <thead>\n",
       "    <tr style=\"text-align: right;\">\n",
       "      <th></th>\n",
       "      <th>text</th>\n",
       "      <th>score</th>\n",
       "    </tr>\n",
       "  </thead>\n",
       "  <tbody>\n",
       "    <tr>\n",
       "      <th>0</th>\n",
       "      <td>the difference in average earnings between men and women can be explained by taking into account relevant factors. so it is not a myth, you just feel that you can explain it.</td>\n",
       "      <td>-0.083</td>\n",
       "    </tr>\n",
       "    <tr>\n",
       "      <th>1</th>\n",
       "      <td>the myth is that the \"gap\" is entirely based on the sex of the person.</td>\n",
       "      <td>-0.022</td>\n",
       "    </tr>\n",
       "    <tr>\n",
       "      <th>3</th>\n",
       "      <td>the assertion is that women get paid less for the same jobs, and that they get paid less because they are women.</td>\n",
       "      <td>-0.146</td>\n",
       "    </tr>\n",
       "    <tr>\n",
       "      <th>4</th>\n",
       "      <td>you said in the op that is not what they are measuring. they are measuring aggregate. as entertainers, women make less. is not that what jlaw was complaining about</td>\n",
       "      <td>-0.083</td>\n",
       "    </tr>\n",
       "    <tr>\n",
       "      <th>5</th>\n",
       "      <td>men and women are not payed less for the same job i do not think many people say this is the case though. i think this is a misconception on the other side, not something feminists have said. even if women have a lower \"average\" wage in all jobs than men.. i mean that is even bigger than individual cases. this shows that women are in an inferior position more than if a woman were to get literally 30 cents less. because averages show the bigger picture. edit changed 70 to 30.</td>\n",
       "      <td>-0.042</td>\n",
       "    </tr>\n",
       "    <tr>\n",
       "      <th>6</th>\n",
       "      <td>all the wage gap is, is an average of total men is pay vs total women is pay. if you believe that is all it is, then sure. so you admit it exists when people refer to the pay gap, that is what they are referring to most of the time. i had say most of the time people think they are talking about discrimination, which is only true if they actually say it is about discrimination. this is essentially critics that are assuming they are saying something other than what they are saying.</td>\n",
       "      <td>-0.021</td>\n",
       "    </tr>\n",
       "    <tr>\n",
       "      <th>11</th>\n",
       "      <td>no, the point is they are not talking about discrimination here.</td>\n",
       "      <td>-0.174</td>\n",
       "    </tr>\n",
       "    <tr>\n",
       "      <th>13</th>\n",
       "      <td>so women are paid less for the same job</td>\n",
       "      <td>-0.229</td>\n",
       "    </tr>\n",
       "    <tr>\n",
       "      <th>16</th>\n",
       "      <td>but obviously that does not make sense, does it that women just do not want to earn more money. that conflicts with what we know about humankind. people, men and women both, generally do want to make money and generally are not okay with being given less than other people are given. women are a whole are not just less interested in money than men are. something must be going on.</td>\n",
       "      <td>0.000</td>\n",
       "    </tr>\n",
       "    <tr>\n",
       "      <th>17</th>\n",
       "      <td>i think that hollywood and professional sports are a big exception here, because salaries in those two industries have virtually no cap (and often are not tied to the quality of work or quantity of work at all - they are about subjective \"star power\")</td>\n",
       "      <td>0.098</td>\n",
       "    </tr>\n",
       "  </tbody>\n",
       "</table>\n",
       "</div>"
      ],
      "text/plain": [
       "                                                                                                                                                                                                                                                                                                                                                                                                                                                                                                    text  \\\n",
       "0                                                                                                                                                                                                                                                                                                                         the difference in average earnings between men and women can be explained by taking into account relevant factors. so it is not a myth, you just feel that you can explain it.   \n",
       "1                                                                                                                                                                                                                                                                                                                                                                                                                                 the myth is that the \"gap\" is entirely based on the sex of the person.   \n",
       "3                                                                                                                                                                                                                                                                                                                                                                                       the assertion is that women get paid less for the same jobs, and that they get paid less because they are women.   \n",
       "4                                                                                                                                                                                                                                                                                                                                    you said in the op that is not what they are measuring. they are measuring aggregate. as entertainers, women make less. is not that what jlaw was complaining about   \n",
       "5        men and women are not payed less for the same job i do not think many people say this is the case though. i think this is a misconception on the other side, not something feminists have said. even if women have a lower \"average\" wage in all jobs than men.. i mean that is even bigger than individual cases. this shows that women are in an inferior position more than if a woman were to get literally 30 cents less. because averages show the bigger picture. edit changed 70 to 30.   \n",
       "6   all the wage gap is, is an average of total men is pay vs total women is pay. if you believe that is all it is, then sure. so you admit it exists when people refer to the pay gap, that is what they are referring to most of the time. i had say most of the time people think they are talking about discrimination, which is only true if they actually say it is about discrimination. this is essentially critics that are assuming they are saying something other than what they are saying.   \n",
       "11                                                                                                                                                                                                                                                                                                                                                                                                                                      no, the point is they are not talking about discrimination here.   \n",
       "13                                                                                                                                                                                                                                                                                                                                                                                                                                                               so women are paid less for the same job   \n",
       "16                                                                                                         but obviously that does not make sense, does it that women just do not want to earn more money. that conflicts with what we know about humankind. people, men and women both, generally do want to make money and generally are not okay with being given less than other people are given. women are a whole are not just less interested in money than men are. something must be going on.   \n",
       "17                                                                                                                                                                                                                                           i think that hollywood and professional sports are a big exception here, because salaries in those two industries have virtually no cap (and often are not tied to the quality of work or quantity of work at all - they are about subjective \"star power\")   \n",
       "\n",
       "    score  \n",
       "0  -0.083  \n",
       "1  -0.022  \n",
       "3  -0.146  \n",
       "4  -0.083  \n",
       "5  -0.042  \n",
       "6  -0.021  \n",
       "11 -0.174  \n",
       "13 -0.229  \n",
       "16  0.000  \n",
       "17  0.098  "
      ]
     },
     "execution_count": 20,
     "metadata": {},
     "output_type": "execute_result"
    }
   ],
   "source": [
    "pd.set_option(\"display.max_colwidth\",None)\n",
    "df_ruddit.head(10)"
   ]
  },
  {
   "cell_type": "code",
   "execution_count": 21,
   "id": "94008600",
   "metadata": {
    "execution": {
     "iopub.execute_input": "2022-01-26T15:18:26.964392Z",
     "iopub.status.busy": "2022-01-26T15:18:26.963393Z",
     "iopub.status.idle": "2022-01-26T15:18:27.070469Z",
     "shell.execute_reply": "2022-01-26T15:18:27.071271Z",
     "shell.execute_reply.started": "2022-01-26T13:15:53.435402Z"
    },
    "papermill": {
     "duration": 0.154248,
     "end_time": "2022-01-26T15:18:27.071521",
     "exception": false,
     "start_time": "2022-01-26T15:18:26.917273",
     "status": "completed"
    },
    "tags": []
   },
   "outputs": [],
   "source": [
    "### prepare n folds of ruddit data\n",
    "fraction = 0.8 \n",
    "for fold in range(CONFIG[\"nfolds\"]):\n",
    "    df = df_ruddit.sample(frac = fraction, random_state = CONFIG[\"seed\"] + fold*10)\n",
    "    mean = df[\"score\"].mean()\n",
    "    std = df[\"score\"].std()\n",
    "    df_ruddit[\"score\"] = (df_ruddit[\"score\"] - mean)/std\n",
    "    df.to_csv(f'/kaggle/working/df_ruddit_fld{fold}.csv', index=False)\n",
    "    "
   ]
  },
  {
   "cell_type": "markdown",
   "id": "ea31372c",
   "metadata": {
    "execution": {
     "iopub.execute_input": "2022-01-22T13:44:26.781529Z",
     "iopub.status.busy": "2022-01-22T13:44:26.779735Z",
     "iopub.status.idle": "2022-01-22T13:44:26.788327Z",
     "shell.execute_reply": "2022-01-22T13:44:26.787181Z",
     "shell.execute_reply.started": "2022-01-22T13:44:26.78142Z"
    },
    "papermill": {
     "duration": 0.038335,
     "end_time": "2022-01-26T15:18:27.154296",
     "exception": false,
     "start_time": "2022-01-26T15:18:27.115961",
     "status": "completed"
    },
    "tags": []
   },
   "source": [
    "## Process Classification data"
   ]
  },
  {
   "cell_type": "code",
   "execution_count": 22,
   "id": "bd00191e",
   "metadata": {
    "execution": {
     "iopub.execute_input": "2022-01-26T15:18:27.236240Z",
     "iopub.status.busy": "2022-01-26T15:18:27.235577Z",
     "iopub.status.idle": "2022-01-26T15:18:27.294985Z",
     "shell.execute_reply": "2022-01-26T15:18:27.295623Z",
     "shell.execute_reply.started": "2022-01-26T13:15:53.618491Z"
    },
    "papermill": {
     "duration": 0.102525,
     "end_time": "2022-01-26T15:18:27.295800",
     "exception": false,
     "start_time": "2022-01-26T15:18:27.193275",
     "status": "completed"
    },
    "tags": []
   },
   "outputs": [],
   "source": [
    "# Create a score that messure how much toxic is a comment\n",
    "cat_mtpl = {'obscene': 0.16, 'toxic': 0.32, 'threat': 1.5, \n",
    "            'insult': 0.64, 'severe_toxic': 1.5, 'identity_hate': 1.5}\n",
    "\n",
    "# cat_mtpl = {'obscene': 3, 'toxic': 4, 'threat': 4, \n",
    "#             'insult': 2, 'severe_toxic': 4, 'identity_hate': 2}\n",
    "\n",
    "for category in cat_mtpl:\n",
    "    df_classification[category] = df_classification[category] * cat_mtpl[category]\n",
    "\n",
    "df_classification['score'] = df_classification.loc[:, 'toxic':'identity_hate'].sum(axis=1)\n",
    "\n",
    "# min_len = (df_classification['score'] > 0).sum()  # len of toxic comments\n",
    "\n",
    "\n",
    "\n",
    "df_classification = df_classification[[\"comment_text\",\"score\"]].rename(columns = {\"comment_text\":\"text\"})\n",
    "\n",
    "\n",
    "\n",
    "\n",
    "\n",
    "# df_y0_undersample = df_classification[df_classification['score'] == 0].sample(n=int(min_len * 1.5), random_state=201)  # take non toxic comments\n",
    "# df_classification_new = pd.concat([df_classification[df_classification['score'] > 0], df_y0_undersample])  # make new df\n",
    "# df_classification_new"
   ]
  },
  {
   "cell_type": "code",
   "execution_count": 23,
   "id": "de4445fe",
   "metadata": {
    "execution": {
     "iopub.execute_input": "2022-01-26T15:18:27.377096Z",
     "iopub.status.busy": "2022-01-26T15:18:27.376235Z",
     "iopub.status.idle": "2022-01-26T15:19:11.953195Z",
     "shell.execute_reply": "2022-01-26T15:19:11.952647Z",
     "shell.execute_reply.started": "2022-01-26T13:15:53.682134Z"
    },
    "papermill": {
     "duration": 44.619007,
     "end_time": "2022-01-26T15:19:11.953355",
     "exception": false,
     "start_time": "2022-01-26T15:18:27.334348",
     "status": "completed"
    },
    "tags": []
   },
   "outputs": [
    {
     "data": {
      "application/vnd.jupyter.widget-view+json": {
       "model_id": "0dcf26d759b841dead0a39868a87b83a",
       "version_major": 2,
       "version_minor": 0
      },
      "text/plain": [
       "  0%|          | 0/159571 [00:00<?, ?it/s]"
      ]
     },
     "metadata": {},
     "output_type": "display_data"
    }
   ],
   "source": [
    "tqdm.pandas()\n",
    "df_classification['text'] = df_classification['text'].progress_apply(text_cleaning)"
   ]
  },
  {
   "cell_type": "code",
   "execution_count": 24,
   "id": "2c163129",
   "metadata": {
    "execution": {
     "iopub.execute_input": "2022-01-26T15:19:12.115574Z",
     "iopub.status.busy": "2022-01-26T15:19:12.074847Z",
     "iopub.status.idle": "2022-01-26T15:20:07.484341Z",
     "shell.execute_reply": "2022-01-26T15:20:07.483797Z",
     "shell.execute_reply.started": "2022-01-26T13:16:47.108209Z"
    },
    "papermill": {
     "duration": 55.491718,
     "end_time": "2022-01-26T15:20:07.484493",
     "exception": false,
     "start_time": "2022-01-26T15:19:11.992775",
     "status": "completed"
    },
    "tags": []
   },
   "outputs": [],
   "source": [
    "df_classification = clean(df_classification,\"text\")"
   ]
  },
  {
   "cell_type": "code",
   "execution_count": 25,
   "id": "0951fd2b",
   "metadata": {
    "execution": {
     "iopub.execute_input": "2022-01-26T15:20:07.571033Z",
     "iopub.status.busy": "2022-01-26T15:20:07.570305Z",
     "iopub.status.idle": "2022-01-26T15:20:07.573833Z",
     "shell.execute_reply": "2022-01-26T15:20:07.573315Z",
     "shell.execute_reply.started": "2022-01-26T13:18:33.006575Z"
    },
    "papermill": {
     "duration": 0.050865,
     "end_time": "2022-01-26T15:20:07.573965",
     "exception": false,
     "start_time": "2022-01-26T15:20:07.523100",
     "status": "completed"
    },
    "tags": []
   },
   "outputs": [
    {
     "data": {
      "text/plain": [
       "0.00    143346\n",
       "0.32      5666\n",
       "1.12      3800\n",
       "0.48      1758\n",
       "2.62      1738\n",
       "0.96      1215\n",
       "4.12       385\n",
       "0.16       317\n",
       "0.64       301\n",
       "1.82       290\n",
       "1.98       204\n",
       "0.80       181\n",
       "2.46       164\n",
       "1.50        76\n",
       "2.14        31\n",
       "5.62        31\n",
       "3.32        21\n",
       "2.30        20\n",
       "3.48        10\n",
       "3.96        10\n",
       "1.66         5\n",
       "3.96         1\n",
       "4.82         1\n",
       "Name: score, dtype: int64"
      ]
     },
     "execution_count": 25,
     "metadata": {},
     "output_type": "execute_result"
    }
   ],
   "source": [
    "df_classification[\"score\"].value_counts()"
   ]
  },
  {
   "cell_type": "code",
   "execution_count": 26,
   "id": "188123ab",
   "metadata": {
    "execution": {
     "iopub.execute_input": "2022-01-26T15:20:07.666019Z",
     "iopub.status.busy": "2022-01-26T15:20:07.664833Z",
     "iopub.status.idle": "2022-01-26T15:20:08.528233Z",
     "shell.execute_reply": "2022-01-26T15:20:08.527533Z",
     "shell.execute_reply.started": "2022-01-26T13:18:33.019026Z"
    },
    "papermill": {
     "duration": 0.915518,
     "end_time": "2022-01-26T15:20:08.528385",
     "exception": false,
     "start_time": "2022-01-26T15:20:07.612867",
     "status": "completed"
    },
    "tags": []
   },
   "outputs": [],
   "source": [
    "### prepare n folds of classification data\n",
    "\n",
    "length_of_toxic = len(df_classification[df_classification[\"score\"]>0])\n",
    "fraction = 0.8 \n",
    "for fold in range(CONFIG[\"nfolds\"]):\n",
    "    df_toxic = df_classification[df_classification[\"score\"]>0].sample(frac = fraction, random_state = CONFIG[\"seed\"] + fold*10)\n",
    "    df_neutral = df_classification[df_classification[\"score\"]==0].sample(n = int(fraction*length_of_toxic), random_state = CONFIG[\"seed\"] + fold*10)\n",
    "    df = pd.concat([df_neutral, df_toxic]).sample(frac=1, random_state = CONFIG[\"seed\"] + fold*10)\n",
    "    mean = df[\"score\"].mean()\n",
    "    std = df[\"score\"].std()\n",
    "    df[\"score\"] = (df[\"score\"] - mean) / (std)\n",
    "    df.to_csv(f'/kaggle/working/df_classification_fld{fold}.csv', index=False)\n",
    "    "
   ]
  },
  {
   "cell_type": "markdown",
   "id": "e0922e97",
   "metadata": {
    "papermill": {
     "duration": 0.038835,
     "end_time": "2022-01-26T15:20:08.606308",
     "exception": false,
     "start_time": "2022-01-26T15:20:08.567473",
     "status": "completed"
    },
    "tags": []
   },
   "source": [
    "## Process unintended Bias Data"
   ]
  },
  {
   "cell_type": "code",
   "execution_count": 27,
   "id": "a0174246",
   "metadata": {
    "execution": {
     "iopub.execute_input": "2022-01-26T15:20:08.687981Z",
     "iopub.status.busy": "2022-01-26T15:20:08.686993Z",
     "iopub.status.idle": "2022-01-26T15:20:08.873114Z",
     "shell.execute_reply": "2022-01-26T15:20:08.873678Z",
     "shell.execute_reply.started": "2022-01-26T13:18:34.559877Z"
    },
    "papermill": {
     "duration": 0.228482,
     "end_time": "2022-01-26T15:20:08.873860",
     "exception": false,
     "start_time": "2022-01-26T15:20:08.645378",
     "status": "completed"
    },
    "tags": []
   },
   "outputs": [],
   "source": [
    "pd.set_option(\"display.max_columns\",500)\n",
    "df_ubias = df_ubias[[\"target\",\"comment_text\"]].rename(columns = {\"target\":\"score\", \"comment_text\":\"text\"})"
   ]
  },
  {
   "cell_type": "code",
   "execution_count": 28,
   "id": "e6105378",
   "metadata": {
    "execution": {
     "iopub.execute_input": "2022-01-26T15:20:08.955970Z",
     "iopub.status.busy": "2022-01-26T15:20:08.954987Z",
     "iopub.status.idle": "2022-01-26T15:20:08.964274Z",
     "shell.execute_reply": "2022-01-26T15:20:08.964796Z",
     "shell.execute_reply.started": "2022-01-26T13:18:34.791932Z"
    },
    "papermill": {
     "duration": 0.051903,
     "end_time": "2022-01-26T15:20:08.964961",
     "exception": false,
     "start_time": "2022-01-26T15:20:08.913058",
     "status": "completed"
    },
    "tags": []
   },
   "outputs": [
    {
     "data": {
      "text/html": [
       "<div>\n",
       "<style scoped>\n",
       "    .dataframe tbody tr th:only-of-type {\n",
       "        vertical-align: middle;\n",
       "    }\n",
       "\n",
       "    .dataframe tbody tr th {\n",
       "        vertical-align: top;\n",
       "    }\n",
       "\n",
       "    .dataframe thead th {\n",
       "        text-align: right;\n",
       "    }\n",
       "</style>\n",
       "<table border=\"1\" class=\"dataframe\">\n",
       "  <thead>\n",
       "    <tr style=\"text-align: right;\">\n",
       "      <th></th>\n",
       "      <th>score</th>\n",
       "      <th>text</th>\n",
       "    </tr>\n",
       "  </thead>\n",
       "  <tbody>\n",
       "    <tr>\n",
       "      <th>0</th>\n",
       "      <td>0.000000</td>\n",
       "      <td>This is so cool. It's like, 'would you want your mother to read this??' Really great idea, well done!</td>\n",
       "    </tr>\n",
       "    <tr>\n",
       "      <th>1</th>\n",
       "      <td>0.000000</td>\n",
       "      <td>Thank you!! This would make my life a lot less anxiety-inducing. Keep it up, and don't let anyone get in your way!</td>\n",
       "    </tr>\n",
       "    <tr>\n",
       "      <th>2</th>\n",
       "      <td>0.000000</td>\n",
       "      <td>This is such an urgent design problem; kudos to you for taking it on. Very impressive!</td>\n",
       "    </tr>\n",
       "    <tr>\n",
       "      <th>3</th>\n",
       "      <td>0.000000</td>\n",
       "      <td>Is this something I'll be able to install on my site? When will you be releasing it?</td>\n",
       "    </tr>\n",
       "    <tr>\n",
       "      <th>4</th>\n",
       "      <td>0.893617</td>\n",
       "      <td>haha you guys are a bunch of losers.</td>\n",
       "    </tr>\n",
       "  </tbody>\n",
       "</table>\n",
       "</div>"
      ],
      "text/plain": [
       "      score  \\\n",
       "0  0.000000   \n",
       "1  0.000000   \n",
       "2  0.000000   \n",
       "3  0.000000   \n",
       "4  0.893617   \n",
       "\n",
       "                                                                                                                 text  \n",
       "0               This is so cool. It's like, 'would you want your mother to read this??' Really great idea, well done!  \n",
       "1  Thank you!! This would make my life a lot less anxiety-inducing. Keep it up, and don't let anyone get in your way!  \n",
       "2                              This is such an urgent design problem; kudos to you for taking it on. Very impressive!  \n",
       "3                                Is this something I'll be able to install on my site? When will you be releasing it?  \n",
       "4                                                                                haha you guys are a bunch of losers.  "
      ]
     },
     "execution_count": 28,
     "metadata": {},
     "output_type": "execute_result"
    }
   ],
   "source": [
    "df_ubias.head()"
   ]
  },
  {
   "cell_type": "code",
   "execution_count": 29,
   "id": "ed63cd65",
   "metadata": {
    "execution": {
     "iopub.execute_input": "2022-01-26T15:20:09.047710Z",
     "iopub.status.busy": "2022-01-26T15:20:09.046777Z",
     "iopub.status.idle": "2022-01-26T15:28:24.826707Z",
     "shell.execute_reply": "2022-01-26T15:28:24.825981Z",
     "shell.execute_reply.started": "2022-01-26T13:18:34.805983Z"
    },
    "papermill": {
     "duration": 495.822545,
     "end_time": "2022-01-26T15:28:24.827057",
     "exception": false,
     "start_time": "2022-01-26T15:20:09.004512",
     "status": "completed"
    },
    "tags": []
   },
   "outputs": [
    {
     "data": {
      "application/vnd.jupyter.widget-view+json": {
       "model_id": "c000f169b83942828957244069629c68",
       "version_major": 2,
       "version_minor": 0
      },
      "text/plain": [
       "  0%|          | 0/1804874 [00:00<?, ?it/s]"
      ]
     },
     "metadata": {},
     "output_type": "display_data"
    }
   ],
   "source": [
    "tqdm.pandas()\n",
    "df_ubias['text'] = df_ubias['text'].progress_apply(text_cleaning)"
   ]
  },
  {
   "cell_type": "code",
   "execution_count": 30,
   "id": "37a94d43",
   "metadata": {
    "execution": {
     "iopub.execute_input": "2022-01-26T15:28:25.196559Z",
     "iopub.status.busy": "2022-01-26T15:28:25.195860Z",
     "iopub.status.idle": "2022-01-26T15:37:16.080061Z",
     "shell.execute_reply": "2022-01-26T15:37:16.079258Z",
     "shell.execute_reply.started": "2022-01-26T13:28:23.812807Z"
    },
    "papermill": {
     "duration": 531.211969,
     "end_time": "2022-01-26T15:37:16.080321",
     "exception": false,
     "start_time": "2022-01-26T15:28:24.868352",
     "status": "completed"
    },
    "tags": []
   },
   "outputs": [],
   "source": [
    "df_ubias = clean(df_ubias,\"text\")"
   ]
  },
  {
   "cell_type": "code",
   "execution_count": 31,
   "id": "dc078389",
   "metadata": {
    "execution": {
     "iopub.execute_input": "2022-01-26T15:37:16.193195Z",
     "iopub.status.busy": "2022-01-26T15:37:16.192558Z",
     "iopub.status.idle": "2022-01-26T15:37:16.201796Z",
     "shell.execute_reply": "2022-01-26T15:37:16.201330Z",
     "shell.execute_reply.started": "2022-01-26T13:44:26.523923Z"
    },
    "papermill": {
     "duration": 0.080118,
     "end_time": "2022-01-26T15:37:16.201923",
     "exception": false,
     "start_time": "2022-01-26T15:37:16.121805",
     "status": "completed"
    },
    "tags": []
   },
   "outputs": [
    {
     "data": {
      "text/plain": [
       "0.000000    1264764\n",
       "0.166667     138501\n",
       "0.200000     107492\n",
       "0.300000      59098\n",
       "0.400000      50013\n",
       "             ...   \n",
       "0.026684          1\n",
       "0.924561          1\n",
       "0.007458          1\n",
       "0.145161          1\n",
       "0.870088          1\n",
       "Name: score, Length: 2913, dtype: int64"
      ]
     },
     "execution_count": 31,
     "metadata": {},
     "output_type": "execute_result"
    }
   ],
   "source": [
    "df_ubias[\"score\"].value_counts()"
   ]
  },
  {
   "cell_type": "code",
   "execution_count": 32,
   "id": "d08cf2f0",
   "metadata": {
    "execution": {
     "iopub.execute_input": "2022-01-26T15:37:16.464040Z",
     "iopub.status.busy": "2022-01-26T15:37:16.401209Z",
     "iopub.status.idle": "2022-01-26T15:37:37.781235Z",
     "shell.execute_reply": "2022-01-26T15:37:37.780198Z",
     "shell.execute_reply.started": "2022-01-26T13:44:26.566679Z"
    },
    "papermill": {
     "duration": 21.539412,
     "end_time": "2022-01-26T15:37:37.781385",
     "exception": false,
     "start_time": "2022-01-26T15:37:16.241973",
     "status": "completed"
    },
    "tags": []
   },
   "outputs": [],
   "source": [
    "### prepare n folds of ubias data\n",
    "\n",
    "length_of_toxic = len(df_ubias[df_ubias[\"score\"]>0])\n",
    "fraction = 0.2\n",
    "for fold in range(9):\n",
    "    df_toxic = df_ubias[df_ubias[\"score\"]>0].sample(frac = fraction, random_state = CONFIG[\"seed\"] + fold*10)\n",
    "    df_neutral = df_ubias[df_ubias[\"score\"]==0].sample(n = int(fraction*length_of_toxic), random_state = CONFIG[\"seed\"] + fold*10)\n",
    "    df = pd.concat([df_neutral, df_toxic]).sample(frac=1, random_state = CONFIG[\"seed\"] + fold*10)\n",
    "    mean = df[\"score\"].mean()\n",
    "    std = df[\"score\"].std()\n",
    "    df[\"score\"] = (df[\"score\"] - mean) / (std)\n",
    "    df.to_csv(f'/kaggle/working/df_ubias_fld{fold}.csv', index=False)\n",
    "    "
   ]
  },
  {
   "cell_type": "markdown",
   "id": "bb57cff0",
   "metadata": {
    "papermill": {
     "duration": 0.03926,
     "end_time": "2022-01-26T15:37:37.860720",
     "exception": false,
     "start_time": "2022-01-26T15:37:37.821460",
     "status": "completed"
    },
    "tags": []
   },
   "source": [
    "### Clean Validation/ Severity data & Test Data"
   ]
  },
  {
   "cell_type": "code",
   "execution_count": 33,
   "id": "12d2b64d",
   "metadata": {
    "execution": {
     "iopub.execute_input": "2022-01-26T15:37:37.946365Z",
     "iopub.status.busy": "2022-01-26T15:37:37.945764Z",
     "iopub.status.idle": "2022-01-26T15:37:37.964882Z",
     "shell.execute_reply": "2022-01-26T15:37:37.964424Z",
     "shell.execute_reply.started": "2022-01-26T13:45:04.225116Z"
    },
    "papermill": {
     "duration": 0.063908,
     "end_time": "2022-01-26T15:37:37.965017",
     "exception": false,
     "start_time": "2022-01-26T15:37:37.901109",
     "status": "completed"
    },
    "tags": []
   },
   "outputs": [
    {
     "data": {
      "text/html": [
       "<div>\n",
       "<style scoped>\n",
       "    .dataframe tbody tr th:only-of-type {\n",
       "        vertical-align: middle;\n",
       "    }\n",
       "\n",
       "    .dataframe tbody tr th {\n",
       "        vertical-align: top;\n",
       "    }\n",
       "\n",
       "    .dataframe thead th {\n",
       "        text-align: right;\n",
       "    }\n",
       "</style>\n",
       "<table border=\"1\" class=\"dataframe\">\n",
       "  <thead>\n",
       "    <tr style=\"text-align: right;\">\n",
       "      <th></th>\n",
       "      <th>worker</th>\n",
       "      <th>less_toxic</th>\n",
       "      <th>more_toxic</th>\n",
       "    </tr>\n",
       "  </thead>\n",
       "  <tbody>\n",
       "    <tr>\n",
       "      <th>0</th>\n",
       "      <td>313</td>\n",
       "      <td>This article sucks \\n\\nwoo woo wooooooo</td>\n",
       "      <td>WHAT!!!!!!!!?!?!!?!?!!?!?!?!?!!!!!!!!!!!!!!!!!!!!!!!!??????????????????????????????????????????????????????!!!!!!=\\nWHER IS YOUR SEXY PIC GONE FROM YOUR MAIN PAGE???????? put it back</td>\n",
       "    </tr>\n",
       "    <tr>\n",
       "      <th>1</th>\n",
       "      <td>188</td>\n",
       "      <td>\"And yes, people should recognize that but they usually don't. One of the first objections you hear directed at someone who says he favors free markets is invariably \"\"There's no such thing as a free market.\"\" Ridiculously trivial. \"</td>\n",
       "      <td>Daphne Guinness \\n\\nTop of the mornin' my favourite Alien Life Form. I'm sorry, I can't marry you because you are a poor commoner so, therefore, unimportant. Can I have my dresses back. I hope your fat Oirish arse hasn't stretched them.</td>\n",
       "    </tr>\n",
       "    <tr>\n",
       "      <th>2</th>\n",
       "      <td>82</td>\n",
       "      <td>Western Media?\\n\\nYup, because every crime in the entire world is caused by the west.  Racists.</td>\n",
       "      <td>\"Atom you don't believe actual photos of masturbation is sexually explicit photos. I am sorry to say they are sexually explicit and so you said yourself that the disclaimer is used for that purpose. Also, Wikipedia itself is targeted for minors. In addition, you say that Wikipedia does not have child pornography photos. I do believe there is a photo of a real prepubescent child nude (not an illustration) that is in bondage with the title \"\"Virgin Killer\"\". Which recently Wikipedia archived so no more comments could be made. 211.220.23.15  \\n\\n\"</td>\n",
       "    </tr>\n",
       "    <tr>\n",
       "      <th>3</th>\n",
       "      <td>347</td>\n",
       "      <td>And you removed it! You numbskull! I don't care what you say anymore, this is my life! Go ahead with your own life, leave me alone! —</td>\n",
       "      <td>You seem to have sand in your vagina.\\n\\nMight want to wash that stinking hole out, bitch.</td>\n",
       "    </tr>\n",
       "    <tr>\n",
       "      <th>4</th>\n",
       "      <td>539</td>\n",
       "      <td>smelly vagina \\n\\nBluerasberry why don't you be a model for a cheesy blue vagina syndrome. A lot are experiencing this vaginal disease.</td>\n",
       "      <td>hey \\n\\nway to support nazis, you racist</td>\n",
       "    </tr>\n",
       "  </tbody>\n",
       "</table>\n",
       "</div>"
      ],
      "text/plain": [
       "   worker  \\\n",
       "0     313   \n",
       "1     188   \n",
       "2      82   \n",
       "3     347   \n",
       "4     539   \n",
       "\n",
       "                                                                                                                                                                                                                                  less_toxic  \\\n",
       "0                                                                                                                                                                                                    This article sucks \\n\\nwoo woo wooooooo   \n",
       "1  \"And yes, people should recognize that but they usually don't. One of the first objections you hear directed at someone who says he favors free markets is invariably \"\"There's no such thing as a free market.\"\" Ridiculously trivial. \"   \n",
       "2                                                                                                                                         Western Media?\\n\\nYup, because every crime in the entire world is caused by the west.  Racists.      \n",
       "3                                                                                                     And you removed it! You numbskull! I don't care what you say anymore, this is my life! Go ahead with your own life, leave me alone! —    \n",
       "4                                                                                                    smelly vagina \\n\\nBluerasberry why don't you be a model for a cheesy blue vagina syndrome. A lot are experiencing this vaginal disease.   \n",
       "\n",
       "                                                                                                                                                                                                                                                                                                                                                                                                                                                                                                                                                               more_toxic  \n",
       "0                                                                                                                                                                                                                                                                                                                                                                                  WHAT!!!!!!!!?!?!!?!?!!?!?!?!?!!!!!!!!!!!!!!!!!!!!!!!!??????????????????????????????????????????????????????!!!!!!=\\nWHER IS YOUR SEXY PIC GONE FROM YOUR MAIN PAGE???????? put it back  \n",
       "1                                                                                                                                                                                                                                                                                                                            Daphne Guinness \\n\\nTop of the mornin' my favourite Alien Life Form. I'm sorry, I can't marry you because you are a poor commoner so, therefore, unimportant. Can I have my dresses back. I hope your fat Oirish arse hasn't stretched them.  \n",
       "2  \"Atom you don't believe actual photos of masturbation is sexually explicit photos. I am sorry to say they are sexually explicit and so you said yourself that the disclaimer is used for that purpose. Also, Wikipedia itself is targeted for minors. In addition, you say that Wikipedia does not have child pornography photos. I do believe there is a photo of a real prepubescent child nude (not an illustration) that is in bondage with the title \"\"Virgin Killer\"\". Which recently Wikipedia archived so no more comments could be made. 211.220.23.15  \\n\\n\"  \n",
       "3                                                                                                                                                                                                                                                                                                                                                                                                                                                                              You seem to have sand in your vagina.\\n\\nMight want to wash that stinking hole out, bitch.  \n",
       "4                                                                                                                                                                                                                                                                                                                                                                                                                                                                                                                                hey \\n\\nway to support nazis, you racist  "
      ]
     },
     "execution_count": 33,
     "metadata": {},
     "output_type": "execute_result"
    }
   ],
   "source": [
    "df_val = df_severity.copy()\n",
    "df_val.head()"
   ]
  },
  {
   "cell_type": "code",
   "execution_count": 34,
   "id": "ec934a68",
   "metadata": {
    "execution": {
     "iopub.execute_input": "2022-01-26T15:37:38.059471Z",
     "iopub.status.busy": "2022-01-26T15:37:38.058888Z",
     "iopub.status.idle": "2022-01-26T15:37:57.207583Z",
     "shell.execute_reply": "2022-01-26T15:37:57.207073Z",
     "shell.execute_reply.started": "2022-01-26T13:45:04.249758Z"
    },
    "papermill": {
     "duration": 19.202756,
     "end_time": "2022-01-26T15:37:57.207725",
     "exception": false,
     "start_time": "2022-01-26T15:37:38.004969",
     "status": "completed"
    },
    "tags": []
   },
   "outputs": [
    {
     "data": {
      "application/vnd.jupyter.widget-view+json": {
       "model_id": "f8a84eaf04b34c8d95201ad318f04e9d",
       "version_major": 2,
       "version_minor": 0
      },
      "text/plain": [
       "  0%|          | 0/30108 [00:00<?, ?it/s]"
      ]
     },
     "metadata": {},
     "output_type": "display_data"
    },
    {
     "data": {
      "application/vnd.jupyter.widget-view+json": {
       "model_id": "31121ac2b5c542a2934ee23fd7abc9f5",
       "version_major": 2,
       "version_minor": 0
      },
      "text/plain": [
       "  0%|          | 0/30108 [00:00<?, ?it/s]"
      ]
     },
     "metadata": {},
     "output_type": "display_data"
    }
   ],
   "source": [
    "tqdm.pandas()\n",
    "df_val['less_toxic'] = df_val['less_toxic'].progress_apply(text_cleaning)\n",
    "df_val['more_toxic'] = df_val['more_toxic'].progress_apply(text_cleaning)"
   ]
  },
  {
   "cell_type": "code",
   "execution_count": 35,
   "id": "e5d1d4d6",
   "metadata": {
    "execution": {
     "iopub.execute_input": "2022-01-26T15:37:57.300854Z",
     "iopub.status.busy": "2022-01-26T15:37:57.300249Z",
     "iopub.status.idle": "2022-01-26T15:38:19.486350Z",
     "shell.execute_reply": "2022-01-26T15:38:19.485826Z",
     "shell.execute_reply.started": "2022-01-26T13:45:27.486888Z"
    },
    "papermill": {
     "duration": 22.237012,
     "end_time": "2022-01-26T15:38:19.486501",
     "exception": false,
     "start_time": "2022-01-26T15:37:57.249489",
     "status": "completed"
    },
    "tags": []
   },
   "outputs": [],
   "source": [
    "df_val = clean(df_val,\"less_toxic\")\n",
    "df_val = clean(df_val,\"more_toxic\")"
   ]
  },
  {
   "cell_type": "code",
   "execution_count": 36,
   "id": "1c4e01b8",
   "metadata": {
    "execution": {
     "iopub.execute_input": "2022-01-26T15:38:19.576501Z",
     "iopub.status.busy": "2022-01-26T15:38:19.575861Z",
     "iopub.status.idle": "2022-01-26T15:38:19.581641Z",
     "shell.execute_reply": "2022-01-26T15:38:19.582112Z",
     "shell.execute_reply.started": "2022-01-26T13:46:12.595731Z"
    },
    "papermill": {
     "duration": 0.053594,
     "end_time": "2022-01-26T15:38:19.582295",
     "exception": false,
     "start_time": "2022-01-26T15:38:19.528701",
     "status": "completed"
    },
    "tags": []
   },
   "outputs": [
    {
     "data": {
      "text/html": [
       "<div>\n",
       "<style scoped>\n",
       "    .dataframe tbody tr th:only-of-type {\n",
       "        vertical-align: middle;\n",
       "    }\n",
       "\n",
       "    .dataframe tbody tr th {\n",
       "        vertical-align: top;\n",
       "    }\n",
       "\n",
       "    .dataframe thead th {\n",
       "        text-align: right;\n",
       "    }\n",
       "</style>\n",
       "<table border=\"1\" class=\"dataframe\">\n",
       "  <thead>\n",
       "    <tr style=\"text-align: right;\">\n",
       "      <th></th>\n",
       "      <th>worker</th>\n",
       "      <th>less_toxic</th>\n",
       "      <th>more_toxic</th>\n",
       "    </tr>\n",
       "  </thead>\n",
       "  <tbody>\n",
       "    <tr>\n",
       "      <th>0</th>\n",
       "      <td>313</td>\n",
       "      <td>this article sucks woo woo woo</td>\n",
       "      <td>what !! ! !! ! !! ! ! ! !! !! wher is your sexy pic gone from your main page put it back</td>\n",
       "    </tr>\n",
       "    <tr>\n",
       "      <th>1</th>\n",
       "      <td>188</td>\n",
       "      <td>\"and yes, people should recognize that but they usually do not . one of the first objections you hear directed at someone who says he favors free markets is invariably \"\"there is no such thing as a free market.\"\" ridiculously trivial. \"</td>\n",
       "      <td>daphne guinness top of the mornin my favourite alien life form. i am sorry, i cannot marry you because you are a poor commoner so, therefore, unimportant. can i have my dresses back. i hope your fat oirish arse has not stretched them.</td>\n",
       "    </tr>\n",
       "    <tr>\n",
       "      <th>2</th>\n",
       "      <td>82</td>\n",
       "      <td>western media yup, because every crime in the entire world is caused by the west. racists.</td>\n",
       "      <td>\"atom you do not believe actual photos of masturbation is sexually explicit photos. i am sorry to say they are sexually explicit and so you said your self that the disclaimer is used for that purpose. also, social medium it self is targeted for minors. in addition, you say that social medium does not have child pornography photos. i do believe there is a photo of a real prepubescent child nude (not an illustration) that is in bondage with the title \"\"virgin killer\"\". which recently social medium archived so no more comments could be made. \"</td>\n",
       "    </tr>\n",
       "    <tr>\n",
       "      <th>3</th>\n",
       "      <td>347</td>\n",
       "      <td>and you removed it ! you numbskull ! i do not care what you say anymore, this is my life ! go ahead with your own life, leave me alone ! —</td>\n",
       "      <td>you seem to have sand in your vagina. might want to wash that stinking hole out, bitch.</td>\n",
       "    </tr>\n",
       "    <tr>\n",
       "      <th>4</th>\n",
       "      <td>539</td>\n",
       "      <td>smelly vagina bluerasberry why do not you be a model for a cheesy blue vagina syndrome. a lot are experiencing this vaginal disease.</td>\n",
       "      <td>hey way to support nazis, you racist</td>\n",
       "    </tr>\n",
       "  </tbody>\n",
       "</table>\n",
       "</div>"
      ],
      "text/plain": [
       "   worker  \\\n",
       "0     313   \n",
       "1     188   \n",
       "2      82   \n",
       "3     347   \n",
       "4     539   \n",
       "\n",
       "                                                                                                                                                                                                                                     less_toxic  \\\n",
       "0                                                                                                                                                                                                                this article sucks woo woo woo   \n",
       "1  \"and yes, people should recognize that but they usually do not . one of the first objections you hear directed at someone who says he favors free markets is invariably \"\"there is no such thing as a free market.\"\" ridiculously trivial. \"   \n",
       "2                                                                                                                                                    western media yup, because every crime in the entire world is caused by the west. racists.   \n",
       "3                                                                                                    and you removed it ! you numbskull ! i do not care what you say anymore, this is my life ! go ahead with your own life, leave me alone ! —   \n",
       "4                                                                                                          smelly vagina bluerasberry why do not you be a model for a cheesy blue vagina syndrome. a lot are experiencing this vaginal disease.   \n",
       "\n",
       "                                                                                                                                                                                                                                                                                                                                                                                                                                                                                                                                                           more_toxic  \n",
       "0                                                                                                                                                                                                                                                                                                                                                                                                                                                                            what !! ! !! ! !! ! ! ! !! !! wher is your sexy pic gone from your main page put it back  \n",
       "1                                                                                                                                                                                                                                                                                                                          daphne guinness top of the mornin my favourite alien life form. i am sorry, i cannot marry you because you are a poor commoner so, therefore, unimportant. can i have my dresses back. i hope your fat oirish arse has not stretched them.  \n",
       "2  \"atom you do not believe actual photos of masturbation is sexually explicit photos. i am sorry to say they are sexually explicit and so you said your self that the disclaimer is used for that purpose. also, social medium it self is targeted for minors. in addition, you say that social medium does not have child pornography photos. i do believe there is a photo of a real prepubescent child nude (not an illustration) that is in bondage with the title \"\"virgin killer\"\". which recently social medium archived so no more comments could be made. \"  \n",
       "3                                                                                                                                                                                                                                                                                                                                                                                                                                                                             you seem to have sand in your vagina. might want to wash that stinking hole out, bitch.  \n",
       "4                                                                                                                                                                                                                                                                                                                                                                                                                                                                                                                                hey way to support nazis, you racist  "
      ]
     },
     "execution_count": 36,
     "metadata": {},
     "output_type": "execute_result"
    }
   ],
   "source": [
    "df_val.head()"
   ]
  },
  {
   "cell_type": "code",
   "execution_count": 37,
   "id": "e44e88e8",
   "metadata": {
    "execution": {
     "iopub.execute_input": "2022-01-26T15:38:19.668864Z",
     "iopub.status.busy": "2022-01-26T15:38:19.668290Z",
     "iopub.status.idle": "2022-01-26T15:38:19.675902Z",
     "shell.execute_reply": "2022-01-26T15:38:19.676356Z",
     "shell.execute_reply.started": "2022-01-26T13:46:12.611640Z"
    },
    "papermill": {
     "duration": 0.052475,
     "end_time": "2022-01-26T15:38:19.676518",
     "exception": false,
     "start_time": "2022-01-26T15:38:19.624043",
     "status": "completed"
    },
    "tags": []
   },
   "outputs": [
    {
     "data": {
      "text/html": [
       "<div>\n",
       "<style scoped>\n",
       "    .dataframe tbody tr th:only-of-type {\n",
       "        vertical-align: middle;\n",
       "    }\n",
       "\n",
       "    .dataframe tbody tr th {\n",
       "        vertical-align: top;\n",
       "    }\n",
       "\n",
       "    .dataframe thead th {\n",
       "        text-align: right;\n",
       "    }\n",
       "</style>\n",
       "<table border=\"1\" class=\"dataframe\">\n",
       "  <thead>\n",
       "    <tr style=\"text-align: right;\">\n",
       "      <th></th>\n",
       "      <th>comment_id</th>\n",
       "      <th>text</th>\n",
       "    </tr>\n",
       "  </thead>\n",
       "  <tbody>\n",
       "    <tr>\n",
       "      <th>0</th>\n",
       "      <td>114890</td>\n",
       "      <td>\"\\n \\n\\nGjalexei, you asked about whether there is an \"\"anti-editorializing\"\" policy here.  There is, and it's called wikipedia:neutral point of view.  It discusses at some length  the case of what we should do when writing about a subject which most of us find repugnant.  Whilst you're not likely to get too many defenders of FGM here, the need for the policy should be clearer for articles like abortion, for instance.\\n\\nIf something you write is edited and you're not sure why, please continue to question such edits on the talk page.  Sometimes, you'll learn more about wikipedia policy.  Sometimes, you'll find out that some other people working on here can get it flat-out wrong ) Robert Merkel\"</td>\n",
       "    </tr>\n",
       "    <tr>\n",
       "      <th>1</th>\n",
       "      <td>732895</td>\n",
       "      <td>Looks like be have an abuser , can you please look into this?  thanks.</td>\n",
       "    </tr>\n",
       "    <tr>\n",
       "      <th>2</th>\n",
       "      <td>1139051</td>\n",
       "      <td>I confess to having complete (and apparently blissful) ignorance of Jordan, but I've glanced at the article. Is this a woman or a soap opera!?.  I don't think there was much to change in terms of the description of the various diseases.  It is mentioned that she is famous for the size of her breasts: am I correct in assuming this is because they are grotesquely large rather than vanishingly small?   04:09 11 Jul 2003 (UTC)</td>\n",
       "    </tr>\n",
       "    <tr>\n",
       "      <th>3</th>\n",
       "      <td>1434512</td>\n",
       "      <td>\"\\n\\nFreud's ideas are certainly much discussed today, and I would be the first to agree that they must be grappled with and dealt with seriously, if only because of their currency.  So Freud deserves a long and thorough article in Wikipedia.  I believe that a balanced article would include A) explanations of Freud's theories, and B) the status of Freudianism today.  The existing article is quite thorough on \"\"A\"\" and had almost nothing on \"\"B\"\".  A neophyte who read the article as it stood a month ago would imagine that Freud's work has the same relation to current psychology that Darwin's work has to current biology.  \\n\\nLet's compare them:  Darwinism thoroughly permeates modern biology, and his fundamentals, built on copious observation and collegial collaboration, now much extended with new data and new theories, continue to provide accurate predictions and fruitful avenues of exploration.  Freud's fundamental ideas were founded on minimal and dubious observations, and his theories do not meet the test of being logical, minimal, reproducible explanations of the data.  As far as Jung goes, I haven't gotten to him yet  ), and I don't know anything about Maslow.  Freud draws my fire precisely because he is so high profile, so influential, and so wrong.  I was required to study The Interpretation of Dreams in high school as if it were scientific fact, and the disgust I felt when I later realized it was all as stupid as it sounded has turned me into - yes - a Freud critic.  Of course, I am striving for NPOV.  Do you really feel that presenting Freud's pseudoscience without comment is NPOV, whereas quoting one of many eminent critics is not?   21:55, 14 Sep 2003 (UTC)\"</td>\n",
       "    </tr>\n",
       "    <tr>\n",
       "      <th>4</th>\n",
       "      <td>2084821</td>\n",
       "      <td>It is not just you. This is a laundry list of stupid allegations scooped up from god-knows-where. Probably two-thirds of it has little basis in fact.</td>\n",
       "    </tr>\n",
       "  </tbody>\n",
       "</table>\n",
       "</div>"
      ],
      "text/plain": [
       "   comment_id  \\\n",
       "0      114890   \n",
       "1      732895   \n",
       "2     1139051   \n",
       "3     1434512   \n",
       "4     2084821   \n",
       "\n",
       "                                                                                                                                                                                                                                                                                                                                                                                                                                                                                                                                                                                                                                                                                                                                                                                                                                                                                                                                                                                                                                                                                                                                                                                                                                                                                                                                                                                                                                                                                                                                                                                                                                                                                                                                                               text  \n",
       "0                                                                                                                                                                                                                                                                                                                                                                                                                                                                                                                                                                                                                                                                                                                                                                                                                                                                                                                                                                                                                                   \"\\n \\n\\nGjalexei, you asked about whether there is an \"\"anti-editorializing\"\" policy here.  There is, and it's called wikipedia:neutral point of view.  It discusses at some length  the case of what we should do when writing about a subject which most of us find repugnant.  Whilst you're not likely to get too many defenders of FGM here, the need for the policy should be clearer for articles like abortion, for instance.\\n\\nIf something you write is edited and you're not sure why, please continue to question such edits on the talk page.  Sometimes, you'll learn more about wikipedia policy.  Sometimes, you'll find out that some other people working on here can get it flat-out wrong ) Robert Merkel\"  \n",
       "1                                                                                                                                                                                                                                                                                                                                                                                                                                                                                                                                                                                                                                                                                                                                                                                                                                                                                                                                                                                                                                                                                                                                                                                                                                                                                                                                                                                                                                                                                                                                                                                                                                                                                            Looks like be have an abuser , can you please look into this?  thanks.  \n",
       "2                                                                                                                                                                                                                                                                                                                                                                                                                                                                                                                                                                                                                                                                                                                                                                                                                                                                                                                                                                                                                                                                                                                                                                                                                                                                                                                        I confess to having complete (and apparently blissful) ignorance of Jordan, but I've glanced at the article. Is this a woman or a soap opera!?.  I don't think there was much to change in terms of the description of the various diseases.  It is mentioned that she is famous for the size of her breasts: am I correct in assuming this is because they are grotesquely large rather than vanishingly small?   04:09 11 Jul 2003 (UTC)  \n",
       "3  \"\\n\\nFreud's ideas are certainly much discussed today, and I would be the first to agree that they must be grappled with and dealt with seriously, if only because of their currency.  So Freud deserves a long and thorough article in Wikipedia.  I believe that a balanced article would include A) explanations of Freud's theories, and B) the status of Freudianism today.  The existing article is quite thorough on \"\"A\"\" and had almost nothing on \"\"B\"\".  A neophyte who read the article as it stood a month ago would imagine that Freud's work has the same relation to current psychology that Darwin's work has to current biology.  \\n\\nLet's compare them:  Darwinism thoroughly permeates modern biology, and his fundamentals, built on copious observation and collegial collaboration, now much extended with new data and new theories, continue to provide accurate predictions and fruitful avenues of exploration.  Freud's fundamental ideas were founded on minimal and dubious observations, and his theories do not meet the test of being logical, minimal, reproducible explanations of the data.  As far as Jung goes, I haven't gotten to him yet  ), and I don't know anything about Maslow.  Freud draws my fire precisely because he is so high profile, so influential, and so wrong.  I was required to study The Interpretation of Dreams in high school as if it were scientific fact, and the disgust I felt when I later realized it was all as stupid as it sounded has turned me into - yes - a Freud critic.  Of course, I am striving for NPOV.  Do you really feel that presenting Freud's pseudoscience without comment is NPOV, whereas quoting one of many eminent critics is not?   21:55, 14 Sep 2003 (UTC)\"  \n",
       "4                                                                                                                                                                                                                                                                                                                                                                                                                                                                                                                                                                                                                                                                                                                                                                                                                                                                                                                                                                                                                                                                                                                                                                                                                                                                                                                                                                                                                                                                                                                                                                                                             It is not just you. This is a laundry list of stupid allegations scooped up from god-knows-where. Probably two-thirds of it has little basis in fact.  "
      ]
     },
     "execution_count": 37,
     "metadata": {},
     "output_type": "execute_result"
    }
   ],
   "source": [
    "df_test.head()"
   ]
  },
  {
   "cell_type": "code",
   "execution_count": 38,
   "id": "fa922b04",
   "metadata": {
    "execution": {
     "iopub.execute_input": "2022-01-26T15:38:19.764136Z",
     "iopub.status.busy": "2022-01-26T15:38:19.763527Z",
     "iopub.status.idle": "2022-01-26T15:38:22.159929Z",
     "shell.execute_reply": "2022-01-26T15:38:22.160740Z",
     "shell.execute_reply.started": "2022-01-26T13:46:12.633684Z"
    },
    "papermill": {
     "duration": 2.442334,
     "end_time": "2022-01-26T15:38:22.161005",
     "exception": false,
     "start_time": "2022-01-26T15:38:19.718671",
     "status": "completed"
    },
    "tags": []
   },
   "outputs": [
    {
     "data": {
      "application/vnd.jupyter.widget-view+json": {
       "model_id": "2d5fb6f1fe114fcdb001a797f1e1787d",
       "version_major": 2,
       "version_minor": 0
      },
      "text/plain": [
       "  0%|          | 0/7537 [00:00<?, ?it/s]"
      ]
     },
     "metadata": {},
     "output_type": "display_data"
    }
   ],
   "source": [
    "tqdm.pandas()\n",
    "df_test['text'] = df_test['text'].progress_apply(text_cleaning)\n"
   ]
  },
  {
   "cell_type": "code",
   "execution_count": 39,
   "id": "a1311318",
   "metadata": {
    "execution": {
     "iopub.execute_input": "2022-01-26T15:38:22.290654Z",
     "iopub.status.busy": "2022-01-26T15:38:22.280372Z",
     "iopub.status.idle": "2022-01-26T15:38:24.928652Z",
     "shell.execute_reply": "2022-01-26T15:38:24.927980Z",
     "shell.execute_reply.started": "2022-01-26T13:46:15.709562Z"
    },
    "papermill": {
     "duration": 2.722854,
     "end_time": "2022-01-26T15:38:24.928802",
     "exception": false,
     "start_time": "2022-01-26T15:38:22.205948",
     "status": "completed"
    },
    "tags": []
   },
   "outputs": [],
   "source": [
    "df_test = clean(df_test,\"text\")\n"
   ]
  },
  {
   "cell_type": "code",
   "execution_count": 40,
   "id": "6f1ac9d5",
   "metadata": {
    "execution": {
     "iopub.execute_input": "2022-01-26T15:38:25.019824Z",
     "iopub.status.busy": "2022-01-26T15:38:25.018948Z",
     "iopub.status.idle": "2022-01-26T15:38:25.021376Z",
     "shell.execute_reply": "2022-01-26T15:38:25.021767Z",
     "shell.execute_reply.started": "2022-01-26T13:46:21.175054Z"
    },
    "papermill": {
     "duration": 0.050284,
     "end_time": "2022-01-26T15:38:25.021928",
     "exception": false,
     "start_time": "2022-01-26T15:38:24.971644",
     "status": "completed"
    },
    "tags": []
   },
   "outputs": [],
   "source": [
    "pd.set_option(\"display.max_rows\",100)\n",
    "# df_test.head(100)"
   ]
  },
  {
   "cell_type": "code",
   "execution_count": 41,
   "id": "d5dd8d62",
   "metadata": {
    "execution": {
     "iopub.execute_input": "2022-01-26T15:38:25.112816Z",
     "iopub.status.busy": "2022-01-26T15:38:25.112249Z",
     "iopub.status.idle": "2022-01-26T15:38:25.117113Z",
     "shell.execute_reply": "2022-01-26T15:38:25.116571Z",
     "shell.execute_reply.started": "2022-01-26T13:46:21.185702Z"
    },
    "papermill": {
     "duration": 0.052299,
     "end_time": "2022-01-26T15:38:25.117297",
     "exception": false,
     "start_time": "2022-01-26T15:38:25.064998",
     "status": "completed"
    },
    "tags": []
   },
   "outputs": [],
   "source": [
    "from sklearn.feature_extraction.text import TfidfVectorizer\n",
    "from sklearn.linear_model import Ridge, LinearRegression\n",
    "from sklearn.pipeline import Pipeline, FeatureUnion\n",
    "from sklearn.base import TransformerMixin, BaseEstimator"
   ]
  },
  {
   "cell_type": "markdown",
   "id": "0c606fe7",
   "metadata": {
    "papermill": {
     "duration": 0.041895,
     "end_time": "2022-01-26T15:38:25.201829",
     "exception": false,
     "start_time": "2022-01-26T15:38:25.159934",
     "status": "completed"
    },
    "tags": []
   },
   "source": [
    "### Training Pipeline"
   ]
  },
  {
   "cell_type": "code",
   "execution_count": 42,
   "id": "4d2e86c4",
   "metadata": {
    "execution": {
     "iopub.execute_input": "2022-01-26T15:38:25.304866Z",
     "iopub.status.busy": "2022-01-26T15:38:25.304234Z",
     "iopub.status.idle": "2022-01-26T15:38:25.306464Z",
     "shell.execute_reply": "2022-01-26T15:38:25.305892Z",
     "shell.execute_reply.started": "2022-01-26T14:17:52.383990Z"
    },
    "papermill": {
     "duration": 0.056036,
     "end_time": "2022-01-26T15:38:25.306600",
     "exception": false,
     "start_time": "2022-01-26T15:38:25.250564",
     "status": "completed"
    },
    "tags": []
   },
   "outputs": [],
   "source": [
    "\n",
    "def training_pipeline(data_name, n_folds =CONFIG[\"nfolds\"]):\n",
    "    if data_name== \"ubias\":\n",
    "        n_folds=9\n",
    "    val_preds_arr1 = np.zeros((df_val.shape[0], n_folds))\n",
    "    val_preds_arr2 = np.zeros((df_val.shape[0], n_folds))\n",
    "    test_preds_arr = np.zeros((df_test.shape[0], n_folds))\n",
    "#     print(n_folds)\n",
    "    \n",
    "    for fld in range(0,n_folds):\n",
    "        print(\"\\n\\n\")\n",
    "        print(f' ****************************** FOLD: {fld} ******************************')\n",
    "        df = pd.read_csv(f'/kaggle/working/df_{data_name}_fld{fld}.csv')\n",
    "        print(df.shape)\n",
    "\n",
    "        vectorizer =  TfidfVectorizer(min_df= 3, max_df=0.5, analyzer = 'char_wb', ngram_range = (3,5))\n",
    "        pipeline = Pipeline(\n",
    "            [\n",
    "                (\"vectorizer\", vectorizer),\n",
    "\n",
    "                (\"clf\", Ridge())\n",
    "            ]\n",
    "        )\n",
    "        print(\"\\nTrain:\")\n",
    "        # Train the pipeline\n",
    "        pipeline.fit(df['text'].values.astype('U'), df['score'])\n",
    "\n",
    "        # What are the important features for toxicity\n",
    "\n",
    "        print('\\nTotal number of features:', len(pipeline['vectorizer'].get_feature_names()) )\n",
    "\n",
    "        feature_wts = sorted(list(zip(pipeline['vectorizer'].get_feature_names(), \n",
    "                                      np.round(pipeline['clf'].coef_,2) )), \n",
    "                             key = lambda x:x[1], \n",
    "                             reverse=True)\n",
    "\n",
    "        print(feature_wts[:30])\n",
    "\n",
    "        print(\"\\npredict validation data \")\n",
    "        val_preds_arr1[:,fld] = pipeline.predict(df_val['less_toxic'])\n",
    "        val_preds_arr2[:,fld] = pipeline.predict(df_val['more_toxic'])\n",
    "\n",
    "        print(\"\\npredict test data \")\n",
    "        test_preds_arr[:,fld] = pipeline.predict(df_test['text'])\n",
    "        \n",
    "    return val_preds_arr1,val_preds_arr2, test_preds_arr"
   ]
  },
  {
   "cell_type": "code",
   "execution_count": 43,
   "id": "a42ca34e",
   "metadata": {
    "execution": {
     "iopub.execute_input": "2022-01-26T15:38:25.396845Z",
     "iopub.status.busy": "2022-01-26T15:38:25.396273Z",
     "iopub.status.idle": "2022-01-26T15:41:50.888928Z",
     "shell.execute_reply": "2022-01-26T15:41:50.888392Z",
     "shell.execute_reply.started": "2022-01-26T13:46:21.218744Z"
    },
    "papermill": {
     "duration": 205.539236,
     "end_time": "2022-01-26T15:41:50.889090",
     "exception": false,
     "start_time": "2022-01-26T15:38:25.349854",
     "status": "completed"
    },
    "tags": []
   },
   "outputs": [
    {
     "name": "stdout",
     "output_type": "stream",
     "text": [
      "\n",
      "\n",
      "\n",
      " ****************************** FOLD: 0 ******************************\n",
      "(25960, 2)\n",
      "\n",
      "Train:\n",
      "\n",
      "Total number of features: 106571\n",
      "[('gay', 2.37), ('kill ', 2.13), (' gay', 2.0), ('nig', 1.95), ('jew', 1.91), (' nl', 1.89), ('l33', 1.87), (' f ', 1.85), (' jew', 1.83), ('ck ', 1.79), (' nig', 1.76), ('nigg', 1.73), (' die', 1.71), (' homo', 1.7), ('die', 1.62), (' g ', 1.6), ('gga', 1.6), ('die ', 1.53), ('ie ', 1.52), ('fuk', 1.5), (' fag', 1.47), (' nigg', 1.41), ('homo', 1.37), ('jew ', 1.37), ('igg', 1.36), (' ck', 1.32), (' ga', 1.32), (' die ', 1.3), (' je', 1.3), (' rap', 1.28)]\n",
      "\n",
      "predict validation data \n",
      "\n",
      "predict test data \n",
      "\n",
      "\n",
      "\n",
      " ****************************** FOLD: 1 ******************************\n",
      "(25960, 2)\n",
      "\n",
      "Train:\n",
      "\n",
      "Total number of features: 107217\n",
      "[('gay', 2.18), (' g ', 2.15), (' jew', 2.01), ('jew', 2.0), (' f ', 1.88), ('nigg', 1.85), (' gay', 1.84), ('nig', 1.82), ('ck ', 1.77), ('kill ', 1.77), (' die', 1.64), (' nig', 1.62), (' nigg', 1.61), (' homo', 1.59), ('die', 1.51), (' ck', 1.47), ('gga', 1.44), (' je', 1.43), (' rap', 1.42), ('ie ', 1.41), ('homo', 1.4), ('die ', 1.39), (' rape', 1.38), ('burn ', 1.32), ('igg', 1.3), (' fag', 1.26), (' ga', 1.26), (' kill', 1.26), (' d-', 1.23), (' die ', 1.23)]\n",
      "\n",
      "predict validation data \n",
      "\n",
      "predict test data \n",
      "\n",
      "\n",
      "\n",
      " ****************************** FOLD: 2 ******************************\n",
      "(25960, 2)\n",
      "\n",
      "Train:\n",
      "\n",
      "Total number of features: 106212\n",
      "[('kill ', 2.06), ('gay', 1.9), ('l33', 1.9), (' nl', 1.86), (' f ', 1.84), ('jew', 1.79), (' die', 1.75), ('gga', 1.75), (' jew', 1.73), ('ck ', 1.66), ('die', 1.63), (' gay', 1.61), ('nigg', 1.61), ('nig', 1.58), (' g ', 1.54), (' rap', 1.53), (' nig', 1.51), (' nigg', 1.51), (' fag', 1.5), (' homo', 1.48), ('igg', 1.46), ('die ', 1.43), (' ck', 1.41), ('homo', 1.41), (' k ', 1.39), (' fu', 1.38), ('fag', 1.38), (' kill', 1.35), ('ie ', 1.34), (' ass ', 1.3)]\n",
      "\n",
      "predict validation data \n",
      "\n",
      "predict test data \n"
     ]
    }
   ],
   "source": [
    "class_val_preds_arr1,class_val_preds_arr2, class_test_preds_arr = training_pipeline(\"classification\")\n"
   ]
  },
  {
   "cell_type": "code",
   "execution_count": 44,
   "id": "31a3e52f",
   "metadata": {
    "execution": {
     "iopub.execute_input": "2022-01-26T15:41:50.989091Z",
     "iopub.status.busy": "2022-01-26T15:41:50.988312Z",
     "iopub.status.idle": "2022-01-26T15:44:07.473906Z",
     "shell.execute_reply": "2022-01-26T15:44:07.473393Z",
     "shell.execute_reply.started": "2022-01-26T13:51:28.351737Z"
    },
    "papermill": {
     "duration": 136.537665,
     "end_time": "2022-01-26T15:44:07.474071",
     "exception": false,
     "start_time": "2022-01-26T15:41:50.936406",
     "status": "completed"
    },
    "tags": []
   },
   "outputs": [
    {
     "name": "stdout",
     "output_type": "stream",
     "text": [
      "\n",
      "\n",
      "\n",
      " ****************************** FOLD: 0 ******************************\n",
      "(4578, 2)\n",
      "\n",
      "Train:\n",
      "\n",
      "Total number of features: 32557\n",
      "[(' fuc', 0.94), ('fuc', 0.94), ('ck ', 0.93), (' fuck', 0.92), ('fuck', 0.92), ('fuck ', 0.92), ('uck', 0.87), ('uck ', 0.84), (' fu', 0.75), (' ass ', 0.66), (' shit', 0.59), ('shit', 0.59), ('shit ', 0.59), ('hit', 0.54), (' ass', 0.53), ('sex', 0.51), (' shi', 0.5), (' sex', 0.48), ('hit ', 0.47), (' sh', 0.45), ('shi', 0.45), (' dick', 0.42), ('ass', 0.42), ('dick', 0.42), ('dick ', 0.42), (' dic', 0.4), ('ick ', 0.38), ('kill', 0.38), (' as', 0.37), (' du', 0.36)]\n",
      "\n",
      "predict validation data \n",
      "\n",
      "predict test data \n",
      "\n",
      "\n",
      "\n",
      " ****************************** FOLD: 1 ******************************\n",
      "(4578, 2)\n",
      "\n",
      "Train:\n",
      "\n",
      "Total number of features: 32441\n",
      "[(' fuc', 2.81), ('fuc', 2.81), (' fuck', 2.78), ('fuck', 2.78), ('fuck ', 2.78), ('uck', 2.67), ('ck ', 2.63), ('uck ', 2.6), (' fu', 2.24), (' shit', 1.89), ('shit', 1.89), ('shit ', 1.89), ('hit', 1.75), (' shi', 1.62), ('hit ', 1.54), (' ass ', 1.52), ('sex', 1.45), (' ass', 1.4), (' dick', 1.4), ('dick', 1.4), ('dick ', 1.4), (' sh', 1.38), ('shi', 1.37), (' dic', 1.36), (' sex', 1.36), ('kill', 1.18), ('ass', 1.14), (' di', 1.11), ('ex ', 1.11), ('dic', 1.08)]\n",
      "\n",
      "predict validation data \n",
      "\n",
      "predict test data \n",
      "\n",
      "\n",
      "\n",
      " ****************************** FOLD: 2 ******************************\n",
      "(4578, 2)\n",
      "\n",
      "Train:\n",
      "\n",
      "Total number of features: 32223\n",
      "[('ck ', 2.81), (' fuc', 2.74), ('fuc', 2.74), (' fuck', 2.71), ('fuck', 2.71), ('fuck ', 2.71), ('uck', 2.64), ('uck ', 2.53), (' fu', 2.15), (' shit', 1.92), ('shit', 1.92), ('shit ', 1.92), (' ass ', 1.87), ('hit', 1.83), (' ass', 1.63), (' shi', 1.61), ('hit ', 1.61), (' dick', 1.49), ('dick', 1.49), ('dick ', 1.49), ('sex', 1.47), (' dic', 1.45), ('ass', 1.44), (' sh', 1.39), ('shi', 1.39), (' sex', 1.37), ('dic', 1.22), ('ick ', 1.22), ('ass ', 1.16), (' du', 1.15)]\n",
      "\n",
      "predict validation data \n",
      "\n",
      "predict test data \n"
     ]
    }
   ],
   "source": [
    "ruddit_val_preds_arr1,ruddit_val_preds_arr2, ruddit_test_preds_arr = training_pipeline(\"ruddit\")"
   ]
  },
  {
   "cell_type": "code",
   "execution_count": 45,
   "id": "fed573ec",
   "metadata": {
    "execution": {
     "iopub.execute_input": "2022-01-26T15:44:07.575988Z",
     "iopub.status.busy": "2022-01-26T15:44:07.574486Z",
     "iopub.status.idle": "2022-01-26T16:18:37.253271Z",
     "shell.execute_reply": "2022-01-26T16:18:37.252700Z",
     "shell.execute_reply.started": "2022-01-26T14:17:57.431163Z"
    },
    "papermill": {
     "duration": 2069.73078,
     "end_time": "2022-01-26T16:18:37.253440",
     "exception": false,
     "start_time": "2022-01-26T15:44:07.522660",
     "status": "completed"
    },
    "tags": []
   },
   "outputs": [
    {
     "name": "stdout",
     "output_type": "stream",
     "text": [
      "\n",
      "\n",
      "\n",
      " ****************************** FOLD: 0 ******************************\n",
      "(216044, 2)\n",
      "\n",
      "Train:\n",
      "\n",
      "Total number of features: 239294\n",
      "[(' crap', 5.34), (' ass ', 5.23), (' ass.', 4.57), (' fool', 4.47), ('fool', 4.25), ('darn', 4.19), (' sh ', 4.13), (' jerk', 4.06), ('jerk', 3.89), ('balls', 3.87), ('moron', 3.83), (' moro', 3.77), ('crap', 3.68), ('diot', 3.64), (' suck', 3.51), ('dumb', 3.47), ('idiot', 3.45), ('silly', 3.45), (' darn', 3.39), ('suck', 3.39), ('scum', 3.35), ('damn', 3.32), (' dumb', 3.26), ('fools', 3.2), ('loser', 3.17), (' scum', 3.16), ('orant', 3.16), ('moro', 3.15), ('oser', 3.15), (' liar', 3.14)]\n",
      "\n",
      "predict validation data \n",
      "\n",
      "predict test data \n",
      "\n",
      "\n",
      "\n",
      " ****************************** FOLD: 1 ******************************\n",
      "(216044, 2)\n",
      "\n",
      "Train:\n",
      "\n",
      "Total number of features: 238885\n",
      "[(' crap', 4.91), (' ass.', 4.69), (' ass ', 4.51), ('fool', 4.37), (' fool', 4.23), ('balls', 4.08), ('moron', 3.93), ('fools', 3.83), ('idiot', 3.67), ('diot', 3.62), (' moro', 3.6), ('crap', 3.59), ('darn', 3.53), ('suck', 3.52), (' jerk', 3.43), ('jerk', 3.42), (' ass', 3.35), (' shit', 3.33), (' sill', 3.33), ('shit', 3.33), ('shit ', 3.33), ('dumb', 3.32), ('silly', 3.3), (' suck', 3.25), ('clown', 3.25), ('gay', 3.23), ('damn', 3.21), ('scum', 3.18), ('tupid', 3.18), (' sh ', 3.17)]\n",
      "\n",
      "predict validation data \n",
      "\n",
      "predict test data \n",
      "\n",
      "\n",
      "\n",
      " ****************************** FOLD: 2 ******************************\n",
      "(216044, 2)\n",
      "\n",
      "Train:\n",
      "\n",
      "Total number of features: 238252\n",
      "[(' crap', 5.52), (' ass ', 5.46), ('fool', 4.54), (' ass.', 4.45), (' fool', 4.27), (' sh ', 3.94), ('crap', 3.82), ('moron', 3.8), (' moro', 3.75), ('suck', 3.74), (' jerk', 3.72), ('idiot', 3.72), ('diot', 3.69), ('balls', 3.58), (' ass', 3.57), ('dumb', 3.57), ('jerk', 3.56), ('clown', 3.4), ('darn', 3.4), (' shit', 3.35), ('clow', 3.35), ('shit', 3.35), ('shit ', 3.35), ('fools', 3.34), ('orant', 3.31), ('penis', 3.31), (' suck', 3.24), ('damn', 3.23), ('silly', 3.21), (' clow', 3.19)]\n",
      "\n",
      "predict validation data \n",
      "\n",
      "predict test data \n",
      "\n",
      "\n",
      "\n",
      " ****************************** FOLD: 3 ******************************\n",
      "(216044, 2)\n",
      "\n",
      "Train:\n",
      "\n",
      "Total number of features: 238487\n",
      "[(' ass ', 6.12), (' crap', 5.54), ('fool', 4.35), (' fool', 4.32), ('balls', 3.94), (' sh ', 3.92), (' ass.', 3.89), ('moron', 3.77), (' moro', 3.75), ('loser', 3.73), ('suck', 3.7), (' suck', 3.65), ('dumb', 3.58), ('crap', 3.57), ('darn', 3.56), ('idiot', 3.48), ('diot', 3.47), ('silly', 3.44), (' dumb', 3.43), (' jerk', 3.41), ('penis', 3.38), (' ass', 3.36), ('jerk', 3.25), ('gay', 3.24), ('damn', 3.23), ('scum', 3.22), ('idio', 3.2), (' f ', 3.19), (' shit', 3.18), ('shit', 3.18)]\n",
      "\n",
      "predict validation data \n",
      "\n",
      "predict test data \n",
      "\n",
      "\n",
      "\n",
      " ****************************** FOLD: 4 ******************************\n",
      "(216044, 2)\n",
      "\n",
      "Train:\n",
      "\n",
      "Total number of features: 239161\n",
      "[(' ass ', 5.64), (' crap', 5.54), ('fool', 4.58), (' fool', 4.17), (' ass.', 4.1), ('balls', 4.01), ('suck', 3.83), (' sh ', 3.8), ('moron', 3.71), ('diot', 3.68), ('silly', 3.63), (' jerk', 3.58), (' moro', 3.56), ('idiot', 3.5), ('damn', 3.48), ('jerk', 3.44), ('loser', 3.41), ('bitch', 3.36), ('crap', 3.35), ('dumb', 3.33), (' suck', 3.32), ('orant', 3.31), ('darn', 3.3), (' clow', 3.29), ('clown', 3.27), (' shit', 3.26), ('fools', 3.26), ('shit', 3.26), ('shit ', 3.26), ('clow', 3.25)]\n",
      "\n",
      "predict validation data \n",
      "\n",
      "predict test data \n",
      "\n",
      "\n",
      "\n",
      " ****************************** FOLD: 5 ******************************\n",
      "(216044, 2)\n",
      "\n",
      "Train:\n",
      "\n",
      "Total number of features: 239289\n",
      "[(' ass ', 6.2), (' crap', 5.18), ('fool', 4.72), (' fool', 4.16), ('balls', 4.12), (' ass.', 4.06), (' ass', 3.91), ('moron', 3.89), (' moro', 3.76), ('jerk', 3.7), ('fools', 3.67), (' jerk', 3.66), ('suck', 3.63), (' sh ', 3.57), ('silly', 3.53), ('damn', 3.47), ('diot', 3.47), ('dumb', 3.43), (' shit', 3.42), ('shit', 3.42), ('shit ', 3.42), ('crap', 3.41), ('idiot', 3.39), ('orant', 3.28), ('crap ', 3.24), (' sill', 3.2), ('clown', 3.2), ('loser', 3.17), ('clow', 3.16), ('gay', 3.09)]\n",
      "\n",
      "predict validation data \n",
      "\n",
      "predict test data \n",
      "\n",
      "\n",
      "\n",
      " ****************************** FOLD: 6 ******************************\n",
      "(216044, 2)\n",
      "\n",
      "Train:\n",
      "\n",
      "Total number of features: 237851\n",
      "[(' crap', 5.38), (' ass ', 5.35), (' ass.', 4.89), (' fool', 4.59), ('fool', 4.43), (' sh ', 4.22), ('moron', 4.06), ('suck', 3.97), ('balls', 3.85), ('jerk', 3.78), (' jerk', 3.76), ('orant', 3.72), (' moro', 3.66), ('diot', 3.63), ('clown', 3.59), (' ass', 3.52), ('dumb', 3.48), ('idiot', 3.47), (' suck', 3.46), ('crap', 3.46), ('loser', 3.46), (' shit', 3.41), ('darn', 3.41), ('shit', 3.41), ('shit ', 3.41), ('clow', 3.36), ('moro', 3.35), ('penis', 3.32), ('fools', 3.31), ('gay', 3.28)]\n",
      "\n",
      "predict validation data \n",
      "\n",
      "predict test data \n",
      "\n",
      "\n",
      "\n",
      " ****************************** FOLD: 7 ******************************\n",
      "(216044, 2)\n",
      "\n",
      "Train:\n",
      "\n",
      "Total number of features: 237416\n",
      "[(' ass ', 5.62), (' crap', 5.48), ('fool', 4.44), (' ass.', 4.18), ('moron', 4.08), (' fool', 3.86), ('crap', 3.83), ('fools', 3.78), ('darn', 3.76), (' f ', 3.72), (' ass', 3.63), (' sh ', 3.62), ('idiot', 3.55), ('balls', 3.54), ('dumb', 3.5), (' jerk', 3.48), (' moro', 3.46), ('suck', 3.44), ('idio', 3.42), (' liar', 3.4), ('diot', 3.4), ('silly', 3.36), ('gusti', 3.33), ('loser', 3.33), ('oser', 3.31), ('clow', 3.3), ('clown', 3.29), ('jerk', 3.26), ('gay', 3.2), ('orant', 3.19)]\n",
      "\n",
      "predict validation data \n",
      "\n",
      "predict test data \n",
      "\n",
      "\n",
      "\n",
      " ****************************** FOLD: 8 ******************************\n",
      "(216044, 2)\n",
      "\n",
      "Train:\n",
      "\n",
      "Total number of features: 238899\n",
      "[(' ass ', 5.83), (' crap', 5.51), (' fool', 4.79), ('fool', 4.75), ('moron', 3.87), (' ass.', 3.83), (' moro', 3.75), (' jerk', 3.72), ('suck', 3.72), ('fools', 3.67), ('crap', 3.65), (' ass', 3.61), ('penis', 3.58), ('balls', 3.57), ('fool.', 3.54), ('loser', 3.53), (' f ', 3.5), ('jerk', 3.5), ('idiot', 3.45), (' shit', 3.41), ('shit', 3.41), ('shit ', 3.41), ('orant', 3.39), ('tupid', 3.39), ('dumb', 3.38), ('damn', 3.32), ('moro', 3.32), ('tupi', 3.29), (' suck', 3.28), ('darn', 3.28)]\n",
      "\n",
      "predict validation data \n",
      "\n",
      "predict test data \n"
     ]
    }
   ],
   "source": [
    "ubias_val_preds_arr1,ubias_val_preds_arr2, ubiast_test_preds_arr = training_pipeline(\"ubias\")"
   ]
  },
  {
   "cell_type": "markdown",
   "id": "f591bbfc",
   "metadata": {
    "papermill": {
     "duration": 0.059036,
     "end_time": "2022-01-26T16:18:37.371823",
     "exception": false,
     "start_time": "2022-01-26T16:18:37.312787",
     "status": "completed"
    },
    "tags": []
   },
   "source": [
    "### Pipeline Validation"
   ]
  },
  {
   "cell_type": "code",
   "execution_count": 46,
   "id": "448cf020",
   "metadata": {
    "execution": {
     "iopub.execute_input": "2022-01-26T16:18:37.497247Z",
     "iopub.status.busy": "2022-01-26T16:18:37.496568Z",
     "iopub.status.idle": "2022-01-26T16:18:37.521623Z",
     "shell.execute_reply": "2022-01-26T16:18:37.520989Z",
     "shell.execute_reply.started": "2022-01-26T15:05:32.118482Z"
    },
    "papermill": {
     "duration": 0.090874,
     "end_time": "2022-01-26T16:18:37.521771",
     "exception": false,
     "start_time": "2022-01-26T16:18:37.430897",
     "status": "completed"
    },
    "tags": []
   },
   "outputs": [
    {
     "name": "stdout",
     "output_type": "stream",
     "text": [
      " Toxic data \n",
      "Validation Accuracy is 67.06\n",
      " Ruddit data \n",
      "Validation Accuracy is 63.1\n",
      " Unintended Bias data \n",
      "Validation Accuracy is 68.11\n"
     ]
    }
   ],
   "source": [
    "print(\" Toxic data \")\n",
    "p1 = class_val_preds_arr1.mean(axis=1)\n",
    "p2 = class_val_preds_arr2.mean(axis=1)\n",
    "\n",
    "print(f'Validation Accuracy is { np.round((p1 < p2).mean() * 100,2)}')\n",
    "\n",
    "print(\" Ruddit data \")\n",
    "p3 = ruddit_val_preds_arr1.mean(axis=1)\n",
    "p4 = ruddit_val_preds_arr2.mean(axis=1)\n",
    "\n",
    "print(f'Validation Accuracy is { np.round((p3 < p4).mean() * 100,2)}')\n",
    "\n",
    "print(\" Unintended Bias data \")\n",
    "p5 = ubias_val_preds_arr1.mean(axis=1)\n",
    "p6 = ubias_val_preds_arr2.mean(axis=1)\n",
    "\n",
    "print(f'Validation Accuracy is { np.round((p5 < p6).mean() * 100,2)}')"
   ]
  },
  {
   "cell_type": "code",
   "execution_count": 47,
   "id": "60ec80da",
   "metadata": {
    "execution": {
     "iopub.execute_input": "2022-01-26T16:18:37.650149Z",
     "iopub.status.busy": "2022-01-26T16:18:37.649526Z",
     "iopub.status.idle": "2022-01-26T16:18:38.902924Z",
     "shell.execute_reply": "2022-01-26T16:18:38.902358Z",
     "shell.execute_reply.started": "2022-01-26T15:05:32.145400Z"
    },
    "papermill": {
     "duration": 1.32103,
     "end_time": "2022-01-26T16:18:38.903057",
     "exception": false,
     "start_time": "2022-01-26T16:18:37.582027",
     "status": "completed"
    },
    "tags": []
   },
   "outputs": [
    {
     "name": "stdout",
     "output_type": "stream",
     "text": [
      "Find right weight\n"
     ]
    },
    {
     "data": {
      "text/plain": [
       "[(0.47, 0.34, 0.19, 69.12),\n",
       " (0.48, 0.34, 0.18, 69.09),\n",
       " (0.46, 0.35, 0.19000000000000006, 69.08),\n",
       " (0.48, 0.33, 0.19, 69.08),\n",
       " (0.49, 0.32, 0.19, 69.08)]"
      ]
     },
     "execution_count": 47,
     "metadata": {},
     "output_type": "execute_result"
    }
   ],
   "source": [
    "print(\"Find right weight\")\n",
    "\n",
    "wts_acc = []\n",
    "for i in range(30,70,1):\n",
    "    for j in range(0,20,1):\n",
    "        w1 = i/100\n",
    "        w2 = (100 - i - j)/100\n",
    "        w3 = (1 - w1 - w2 )\n",
    "        p1_wt = w1*p1 + w2*p3 + w3*p5\n",
    "        p2_wt = w1*p2 + w2*p4 + w3*p6\n",
    "        wts_acc.append( (w1,w2,w3, \n",
    "                         np.round((p1_wt < p2_wt).mean() * 100,2))\n",
    "                      )\n",
    "sorted(wts_acc, key=lambda x:x[3], reverse=True)[:5]"
   ]
  },
  {
   "cell_type": "code",
   "execution_count": 48,
   "id": "ff4977ec",
   "metadata": {
    "execution": {
     "iopub.execute_input": "2022-01-26T16:18:39.032004Z",
     "iopub.status.busy": "2022-01-26T16:18:39.030915Z",
     "iopub.status.idle": "2022-01-26T16:18:39.037159Z",
     "shell.execute_reply": "2022-01-26T16:18:39.036561Z",
     "shell.execute_reply.started": "2022-01-26T15:05:33.510444Z"
    },
    "papermill": {
     "duration": 0.072955,
     "end_time": "2022-01-26T16:18:39.037324",
     "exception": false,
     "start_time": "2022-01-26T16:18:38.964369",
     "status": "completed"
    },
    "tags": []
   },
   "outputs": [],
   "source": [
    "w1,w2,w3,_ = sorted(wts_acc, key=lambda x:x[2], reverse=True)[0]\n",
    "#print(best_wts)\n",
    "\n",
    "p1_wt = w1*p1 + w2*p3 + w3*p5\n",
    "p2_wt = w1*p2 + w2*p4 + w3*p6"
   ]
  },
  {
   "cell_type": "code",
   "execution_count": 49,
   "id": "e3f8b85d",
   "metadata": {
    "execution": {
     "iopub.execute_input": "2022-01-26T16:18:39.161831Z",
     "iopub.status.busy": "2022-01-26T16:18:39.160879Z",
     "iopub.status.idle": "2022-01-26T16:18:39.169115Z",
     "shell.execute_reply": "2022-01-26T16:18:39.169584Z",
     "shell.execute_reply.started": "2022-01-26T15:05:33.522646Z"
    },
    "papermill": {
     "duration": 0.071934,
     "end_time": "2022-01-26T16:18:39.169770",
     "exception": false,
     "start_time": "2022-01-26T16:18:39.097836",
     "status": "completed"
    },
    "tags": []
   },
   "outputs": [],
   "source": [
    "# Predict using pipeline\n",
    "\n",
    "df_test['score'] = w1*class_test_preds_arr.mean(axis=1) + w2*ruddit_test_preds_arr.mean(axis=1) + w3*ubiast_test_preds_arr.mean(axis=1)\n"
   ]
  },
  {
   "cell_type": "code",
   "execution_count": 50,
   "id": "fe6d411c",
   "metadata": {
    "execution": {
     "iopub.execute_input": "2022-01-26T16:18:39.300469Z",
     "iopub.status.busy": "2022-01-26T16:18:39.299417Z",
     "iopub.status.idle": "2022-01-26T16:18:39.305163Z",
     "shell.execute_reply": "2022-01-26T16:18:39.305688Z",
     "shell.execute_reply.started": "2022-01-26T15:13:22.757390Z"
    },
    "papermill": {
     "duration": 0.075018,
     "end_time": "2022-01-26T16:18:39.305862",
     "exception": false,
     "start_time": "2022-01-26T16:18:39.230844",
     "status": "completed"
    },
    "tags": []
   },
   "outputs": [
    {
     "data": {
      "text/plain": [
       "(7537, 7521)"
      ]
     },
     "execution_count": 50,
     "metadata": {},
     "output_type": "execute_result"
    }
   ],
   "source": [
    "len(df_test), len(df_test[\"score\"].unique())"
   ]
  },
  {
   "cell_type": "code",
   "execution_count": 51,
   "id": "8eeea172",
   "metadata": {
    "execution": {
     "iopub.execute_input": "2022-01-26T16:18:39.436267Z",
     "iopub.status.busy": "2022-01-26T16:18:39.435260Z",
     "iopub.status.idle": "2022-01-26T16:18:39.471195Z",
     "shell.execute_reply": "2022-01-26T16:18:39.471682Z",
     "shell.execute_reply.started": "2022-01-26T15:14:38.174800Z"
    },
    "papermill": {
     "duration": 0.102622,
     "end_time": "2022-01-26T16:18:39.471849",
     "exception": false,
     "start_time": "2022-01-26T16:18:39.369227",
     "status": "completed"
    },
    "tags": []
   },
   "outputs": [
    {
     "data": {
      "text/html": [
       "<div>\n",
       "<style scoped>\n",
       "    .dataframe tbody tr th:only-of-type {\n",
       "        vertical-align: middle;\n",
       "    }\n",
       "\n",
       "    .dataframe tbody tr th {\n",
       "        vertical-align: top;\n",
       "    }\n",
       "\n",
       "    .dataframe thead th {\n",
       "        text-align: right;\n",
       "    }\n",
       "</style>\n",
       "<table border=\"1\" class=\"dataframe\">\n",
       "  <thead>\n",
       "    <tr style=\"text-align: right;\">\n",
       "      <th></th>\n",
       "      <th>comment_id</th>\n",
       "      <th>text</th>\n",
       "      <th>score</th>\n",
       "    </tr>\n",
       "  </thead>\n",
       "  <tbody>\n",
       "    <tr>\n",
       "      <th>1832</th>\n",
       "      <td>95080362</td>\n",
       "      <td>\" please do not add nonsense to social medium . it is considered vandalism. if you would like to experiment, use the sandbox. thank you. melmac \"</td>\n",
       "      <td>-0.262336</td>\n",
       "    </tr>\n",
       "    <tr>\n",
       "      <th>2842</th>\n",
       "      <td>160935265</td>\n",
       "      <td>\" please do not add nonsense to social medium . it is considered vandalism. if you would like to experiment, use the sandbox. thank you. melmac \"</td>\n",
       "      <td>-0.262336</td>\n",
       "    </tr>\n",
       "    <tr>\n",
       "      <th>3203</th>\n",
       "      <td>181929554</td>\n",
       "      <td>\" defamatory and slanderous accusation made by against calls an abusive admin \"\"victim of abuse of power by an admin \"\" accuses of having bias \"\"you have revealed your self to be tremendously partial do economistbr is opinion\"\" calls a dictator \"\"i would appreciate some further explanation of your actions, rather than unsubstantiated dictatorial acts\"\" calls arrogant \"\"exercised his prerrogative to block the page in a somewhat arrogant and authoritarian way\"\" calls is opinion unfair \"\"economistbr, the user in question, appealed to an admin , user hu12, who took an unfair and unbalanced view\"\" this smearing campaign and personal attacks of against is is vengeance against , because is impartial ruling did not produce satisfactory results to . \"</td>\n",
       "      <td>0.035991</td>\n",
       "    </tr>\n",
       "    <tr>\n",
       "      <th>3204</th>\n",
       "      <td>181930070</td>\n",
       "      <td>\" defamatory and slanderous accusation made by against calls an abusive admin \"\"victim of abuse of power by an admin \"\" accuses of having bias \"\"you have revealed your self to be tremendously partial do economistbr is opinion\"\" calls a dictator \"\"i would appreciate some further explanation of your actions, rather than unsubstantiated dictatorial acts\"\" calls arrogant \"\"exercised his prerrogative to block the page in a somewhat arrogant and authoritarian way\"\" calls is opinion unfair \"\"economistbr, the user in question, appealed to an admin , user hu12, who took an unfair and unbalanced view\"\" this smearing campaign and personal attacks of against is is vengeance against , because is impartial ruling did not produce satisfactory results to . \"</td>\n",
       "      <td>0.035991</td>\n",
       "    </tr>\n",
       "    <tr>\n",
       "      <th>3542</th>\n",
       "      <td>199072816</td>\n",
       "      <td>social medium - the encyclopedia that no one can edit boo !!</td>\n",
       "      <td>-0.506183</td>\n",
       "    </tr>\n",
       "    <tr>\n",
       "      <th>3543</th>\n",
       "      <td>199072973</td>\n",
       "      <td>social medium - the encyclopedia that no one can edit boo !!</td>\n",
       "      <td>-0.506183</td>\n",
       "    </tr>\n",
       "    <tr>\n",
       "      <th>4757</th>\n",
       "      <td>270227263</td>\n",
       "      <td>you are a mother fuck er dick sucker ! you are a mother fuck er dick sucker ! you are a mother fuck er dick sucker ! you are a mother fuck er dick sucker ! you are a mother fuck er dick sucker ! you are a mother fuck er dick sucker ! you are a mother fuck er dick sucker ! you are a mother fuck er dick sucker ! you are a mother fuck er dick sucker ! you are a mother fuck er dick sucker ! you are a mother fuck er dick sucker ! you are a mother fuck er dick sucker ! you are a mother fuck er dick sucker ! you are a mother fuck er dick sucker ! you are a mother fuck er dick sucker ! you are a mother fuck er dick sucker ! you are a mother fuck er dick sucker ! you are a mother fuck er dick sucker ! you are a mother fuck er dick sucker ! you are a mother fuck er dick sucker ! you are a mother fuck er dick sucker ! you are a mother fuck er dick sucker ! you are a mother fuck er dick sucker ! you are a mother fuck er dick sucker ! you are a mother fuck er dick sucker ! you are a mother fuck er dick sucker ! you are a mother fuck er dick sucker ! you are a mother fuck er dick sucker ! you are a mother fuck er dick sucker ! you are a mother fuck er dick sucker ! you are a mother fuck er dick sucker ! you are a mother fuck er dick sucker ! you are a mother fuck er dick sucker ! you are a mother fuck er dick sucker ! you are a mother fuck er dick sucker ! you are a mother fuck er dick sucker ! you are a mother fuck er dick sucker ! you are a mother fuck er dick sucker ! you are a mother fuck er dick sucker ! you are a mother fuck er dick sucker ! you are a mother fuck er dick sucker ! you are a mother fuck er dick sucker ! you are a mother fuck er dick sucker ! you are a mother fuck er dick sucker ! you are a mother fuck er dick sucker ! you are a mother fuck er dick sucker ! you are a mother fuck er dick sucker ! you are a mother fuck er dick sucker ! you are a mother fuck er dick sucker ! you are a mother fuck er dick sucker ! you are a mother fuck er dick sucker ! you are a mother fuck er dick sucker ! you are a mother fuck er dick sucker ! you are a mother fuck er dick sucker ! you are a mother fuck er dick sucker ! you are a mother fuck er dick sucker ! you are a mother fuck er dick sucker ! you are a mother fuck er dick sucker ! you are a mother fuck er dick sucker ! you are a mother fuck er dick sucker ! you are a mother fuck er dick sucker ! you are a mother fuck er dick sucker ! you are a mother fuck er dick sucker ! you are a mother fuck er dick sucker ! you are a mother fuck er dick sucker ! you are a mother fuck er dick sucker ! you are a mother fuck er dick sucker ! you are a mother fuck er dick sucker ! you are a mother fuck er dick sucker ! you are a mother fuck er dick sucker ! you are a mother fuck er dick sucker ! you are a mother fuck er dick sucker ! you are a mother fuck er dick sucker ! you are a mother fuck er dick sucker ! you are a mother fuck er dick sucker ! you are a mother fuck er dick sucker ! you are a mother fuck er dick sucker ! you are a mother fuck er dick sucker ! you are a mother fuck er dick sucker ! you are a mother fuck er dick sucker ! you are a mother fuck er dick sucker ! you are a mother fuck er dick sucker ! you are a mother fuck er dick sucker ! you are a mother fuck er dick sucker ! you are a mother fuck er dick sucker ! you are a mother fuck er dick sucker ! you are a mother fuck er dick sucker ! you are a mother fuck er dick sucker ! you are a mother fuck er dick sucker ! you are a mother fuck er dick sucker ! you are a mother fuck er dick sucker ! you are a mother fuck er dick sucker ! you are a mother fuck er dick sucker ! you are a mother fuck er dick sucker ! you are a mother fuck er dick sucker ! you are a mother fuck er dick sucker ! you are a mother fuck er dick sucker ! you are a mother fuck er dick sucker ! you are a mother fuck er dick sucker ! you are a mother fuck er dick sucker ! you are a mother fuck er dick sucker ! you are a mother fuck er dick sucker ! you are a mother fuck er dick sucker ! you are a mother fuck er dick sucker ! you are a mother fuck er dick sucker ! you are a mother fuck er dick sucker ! you are a mother fuck er dick sucker ! you are a mother fuck er dick sucker ! you are a mother fuck er dick sucker ! you are a mother fuck er dick sucker ! you are a mother fuck er dick sucker ! you are a mother fuck er dick sucker ! you are a mother fuck er dick sucker ! you are a mother fuck er dick sucker ! you are a mother fuck er dick sucker ! you are a mother fuck er dick sucker ! you are a mother fuck er dick sucker ! you are a mother fuck er dick sucker ! you are a mother fuck er dick sucker ! you are a mother fuck er dick sucker ! you are a mother fuck er dick sucker ! you are a mother fuck er dick sucker ! you are a mother fuck er dick sucker ! you are a mother fuck er dick sucker ! you are a mother fuck er dick sucker ! you are a mother fuck er dick sucker ! you are a mother fuck er dick sucker ! you are a mother fuck er dick sucker !</td>\n",
       "      <td>3.248524</td>\n",
       "    </tr>\n",
       "    <tr>\n",
       "      <th>4759</th>\n",
       "      <td>270227815</td>\n",
       "      <td>you are a mother fuck er dick sucker ! you are a mother fuck er dick sucker ! you are a mother fuck er dick sucker ! you are a mother fuck er dick sucker ! you are a mother fuck er dick sucker ! you are a mother fuck er dick sucker ! you are a mother fuck er dick sucker ! you are a mother fuck er dick sucker ! you are a mother fuck er dick sucker ! you are a mother fuck er dick sucker ! you are a mother fuck er dick sucker ! you are a mother fuck er dick sucker ! you are a mother fuck er dick sucker ! you are a mother fuck er dick sucker ! you are a mother fuck er dick sucker ! you are a mother fuck er dick sucker ! you are a mother fuck er dick sucker ! you are a mother fuck er dick sucker ! you are a mother fuck er dick sucker ! you are a mother fuck er dick sucker ! you are a mother fuck er dick sucker ! you are a mother fuck er dick sucker ! you are a mother fuck er dick sucker ! you are a mother fuck er dick sucker ! you are a mother fuck er dick sucker ! you are a mother fuck er dick sucker ! you are a mother fuck er dick sucker ! you are a mother fuck er dick sucker ! you are a mother fuck er dick sucker ! you are a mother fuck er dick sucker ! you are a mother fuck er dick sucker ! you are a mother fuck er dick sucker ! you are a mother fuck er dick sucker ! you are a mother fuck er dick sucker ! you are a mother fuck er dick sucker ! you are a mother fuck er dick sucker ! you are a mother fuck er dick sucker ! you are a mother fuck er dick sucker ! you are a mother fuck er dick sucker ! you are a mother fuck er dick sucker ! you are a mother fuck er dick sucker ! you are a mother fuck er dick sucker ! you are a mother fuck er dick sucker ! you are a mother fuck er dick sucker ! you are a mother fuck er dick sucker ! you are a mother fuck er dick sucker ! you are a mother fuck er dick sucker ! you are a mother fuck er dick sucker ! you are a mother fuck er dick sucker ! you are a mother fuck er dick sucker ! you are a mother fuck er dick sucker ! you are a mother fuck er dick sucker ! you are a mother fuck er dick sucker ! you are a mother fuck er dick sucker ! you are a mother fuck er dick sucker ! you are a mother fuck er dick sucker ! you are a mother fuck er dick sucker ! you are a mother fuck er dick sucker ! you are a mother fuck er dick sucker ! you are a mother fuck er dick sucker ! you are a mother fuck er dick sucker ! you are a mother fuck er dick sucker ! you are a mother fuck er dick sucker ! you are a mother fuck er dick sucker ! you are a mother fuck er dick sucker ! you are a mother fuck er dick sucker ! you are a mother fuck er dick sucker ! you are a mother fuck er dick sucker ! you are a mother fuck er dick sucker ! you are a mother fuck er dick sucker ! you are a mother fuck er dick sucker ! you are a mother fuck er dick sucker ! you are a mother fuck er dick sucker ! you are a mother fuck er dick sucker ! you are a mother fuck er dick sucker ! you are a mother fuck er dick sucker ! you are a mother fuck er dick sucker ! you are a mother fuck er dick sucker !</td>\n",
       "      <td>3.248524</td>\n",
       "    </tr>\n",
       "    <tr>\n",
       "      <th>4832</th>\n",
       "      <td>275797183</td>\n",
       "      <td>hi could you please learn to interact like a sentient human being honestly, it is infuriating to read your posts which seem to be generated from a machine (albeit, an obese one) rather than a proper, thinking, caring, functioning human being.</td>\n",
       "      <td>-0.212468</td>\n",
       "    </tr>\n",
       "    <tr>\n",
       "      <th>4833</th>\n",
       "      <td>275812977</td>\n",
       "      <td>could you please learn to interact like a sentient human being honestly, it is infuriating to read your posts which seem to be generated from a machine (albeit, an obese one) rather than a proper, thinking, caring, functioning human being. hi</td>\n",
       "      <td>-0.212468</td>\n",
       "    </tr>\n",
       "    <tr>\n",
       "      <th>5140</th>\n",
       "      <td>298854514</td>\n",
       "      <td>her ! poop, pee, toot, fart, gas, diareah ! zoey is poop. she stinks. i want to marry you baby ! call me !</td>\n",
       "      <td>0.628247</td>\n",
       "    </tr>\n",
       "    <tr>\n",
       "      <th>5190</th>\n",
       "      <td>301925517</td>\n",
       "      <td>her ! poop, pee, toot, fart, gas, diareah ! zoey is poop. she stinks. i want to marry you baby ! call me !</td>\n",
       "      <td>0.628247</td>\n",
       "    </tr>\n",
       "    <tr>\n",
       "      <th>5743</th>\n",
       "      <td>339264823</td>\n",
       "      <td>you are 22 years older than your husband ! you are an old cougar ! you are an old cougar ! you are an old cougar !</td>\n",
       "      <td>-0.030815</td>\n",
       "    </tr>\n",
       "    <tr>\n",
       "      <th>5744</th>\n",
       "      <td>339265390</td>\n",
       "      <td>you are 22 years older than your husband ! you are an old cougar ! you are an old cougar ! you are an old cougar !</td>\n",
       "      <td>-0.030815</td>\n",
       "    </tr>\n",
       "    <tr>\n",
       "      <th>5752</th>\n",
       "      <td>339478276</td>\n",
       "      <td>i am gonna beat you to a bloody pulp then shoot you, execution-style. i am gonna beat you to a bloody pulp then shoot you, execution-style.</td>\n",
       "      <td>0.600670</td>\n",
       "    </tr>\n",
       "    <tr>\n",
       "      <th>5753</th>\n",
       "      <td>339478966</td>\n",
       "      <td>i am gonna beat you to a bloody pulp then shoot you, execution-style. i am gonna beat you to a bloody pulp then shoot you, execution-style.</td>\n",
       "      <td>0.600670</td>\n",
       "    </tr>\n",
       "    <tr>\n",
       "      <th>5832</th>\n",
       "      <td>345043812</td>\n",
       "      <td>jimbo said i could edit his page. you are a moron.</td>\n",
       "      <td>0.503026</td>\n",
       "    </tr>\n",
       "    <tr>\n",
       "      <th>5833</th>\n",
       "      <td>345043888</td>\n",
       "      <td>jimbo said i could edit his page. you are a moron.</td>\n",
       "      <td>0.503026</td>\n",
       "    </tr>\n",
       "    <tr>\n",
       "      <th>5852</th>\n",
       "      <td>346641598</td>\n",
       "      <td>we are going to make sure you are exposed !! drop your relations with anti american hate groups we are going to make sure you are exposed !! drop your relations with anti american hate groups</td>\n",
       "      <td>0.217596</td>\n",
       "    </tr>\n",
       "    <tr>\n",
       "      <th>5853</th>\n",
       "      <td>346641762</td>\n",
       "      <td>we are going to make sure you are exposed !! drop your relations with anti american hate groups we are going to make sure you are exposed !! drop your relations with anti american hate groups we are going to make sure you are exposed !! drop your relations with anti american hate groups we are going to make sure you are exposed !! drop your relations with anti american hate groups</td>\n",
       "      <td>0.217596</td>\n",
       "    </tr>\n",
       "    <tr>\n",
       "      <th>6193</th>\n",
       "      <td>375083006</td>\n",
       "      <td>fc k you why the fc k should i get a warning for doing nothing fc k you why the fc k should i get a warning for doing nothing fc k you why the fc k should i get a warning for doing nothing</td>\n",
       "      <td>0.199341</td>\n",
       "    </tr>\n",
       "    <tr>\n",
       "      <th>6194</th>\n",
       "      <td>375157867</td>\n",
       "      <td>fc k you why the fc k should i get a warning for doing nothing fc k you why the fc k should i get a warning for doing nothing fc k you why the fc k should i get a warning for doing nothing fc k you why the fc k should i get a warning for doing nothing fc k you why the fc k should i get a warning for doing nothing fc k you why the fc k should i get a warning for doing nothing fc k you why the fc k should i get a warning for doing nothing fc k you why the fc k should i get a warning for doing nothing fc k you why the fc k should i get a warning for doing nothing fc k you why the fc k should i get a warning for doing nothing fc k you why the fc k should i get a warning for doing nothing fc k you why the fc k should i get a warning for doing nothing fc k you why the fc k should i get a warning for doing nothing fc k you why the fc k should i get a warning for doing nothing fc k you why the fc k should i get a warning for doing nothing fc k you why the fc k should i get a warning for doing nothing fc k you why the fc k should i get a warning for doing nothing fc k you why the fc k should i get a warning for doing nothing fc k you why the fc k should i get a warning for doing nothing fc k you why the fc k should i get a warning for doing nothing fc k you why the fc k should i get a warning for doing nothing fc k you why the fc k should i get a warning for doing nothing fc k you why the fc k should i get a warning for doing nothing fc k you why the fc k should i get a warning for doing nothing</td>\n",
       "      <td>0.199341</td>\n",
       "    </tr>\n",
       "    <tr>\n",
       "      <th>6221</th>\n",
       "      <td>377694722</td>\n",
       "      <td>questions about your biased edits to australian politics social medium articles hello, i am from the university of sydney and i would like to review you as a political commentator. you were mentioned in one of our lectures as an avid contributor to australian politics in social medium . clearly, you have gone through some traumatic experience in life which has led to your extreme bias and left edits. the need for power, and your domineering nature. were you sexually abused by your father did he physically abuse you if you are interested in completing this survey, please email</td>\n",
       "      <td>0.031026</td>\n",
       "    </tr>\n",
       "    <tr>\n",
       "      <th>6222</th>\n",
       "      <td>377694727</td>\n",
       "      <td>questions about your biased edits to australian politics social medium articles hello, i am from the university of sydney and i would like to review you as a political commentator. you were mentioned in one of our lectures as an avid contributor to australian politics in social medium . clearly, you have gone through some traumatic experience in life which has led to your extreme bias and left edits. the need for power, and your domineering nature. were you sexually abused by your father did he physically abuse you if you are interested in completing this survey, please email</td>\n",
       "      <td>0.031026</td>\n",
       "    </tr>\n",
       "    <tr>\n",
       "      <th>6947</th>\n",
       "      <td>444588772</td>\n",
       "      <td>i will ki ll you and wear your skin like a robe !</td>\n",
       "      <td>0.366882</td>\n",
       "    </tr>\n",
       "    <tr>\n",
       "      <th>6948</th>\n",
       "      <td>444589429</td>\n",
       "      <td>i will ki ll you and wear your skin like a robe !</td>\n",
       "      <td>0.366882</td>\n",
       "    </tr>\n",
       "    <tr>\n",
       "      <th>7128</th>\n",
       "      <td>463947914</td>\n",
       "      <td>leave our country. we do not want you arabs here.</td>\n",
       "      <td>0.185514</td>\n",
       "    </tr>\n",
       "    <tr>\n",
       "      <th>7130</th>\n",
       "      <td>463947986</td>\n",
       "      <td>leave our country. we do not want you arabs here.</td>\n",
       "      <td>0.185514</td>\n",
       "    </tr>\n",
       "    <tr>\n",
       "      <th>7312</th>\n",
       "      <td>481969878</td>\n",
       "      <td>i will flay you alive, you fking stalker. i shall enjoy your screams of agony as your blood slowly pools across the floor of my basement.</td>\n",
       "      <td>0.391563</td>\n",
       "    </tr>\n",
       "    <tr>\n",
       "      <th>7313</th>\n",
       "      <td>481970432</td>\n",
       "      <td>i will flay you alive, you fking stalker. i shall enjoy your screams of agony as your blood slowly pools across the floor of my basement.</td>\n",
       "      <td>0.391563</td>\n",
       "    </tr>\n",
       "    <tr>\n",
       "      <th>7503</th>\n",
       "      <td>501720037</td>\n",
       "      <td>eat shit nigger i have infinite ips i cant be blocked</td>\n",
       "      <td>1.739438</td>\n",
       "    </tr>\n",
       "    <tr>\n",
       "      <th>7504</th>\n",
       "      <td>501720124</td>\n",
       "      <td>eat shit nigger i cant be blocked i have infinite ips</td>\n",
       "      <td>1.739438</td>\n",
       "    </tr>\n",
       "  </tbody>\n",
       "</table>\n",
       "</div>"
      ],
      "text/plain": [
       "      comment_id  \\\n",
       "1832    95080362   \n",
       "2842   160935265   \n",
       "3203   181929554   \n",
       "3204   181930070   \n",
       "3542   199072816   \n",
       "3543   199072973   \n",
       "4757   270227263   \n",
       "4759   270227815   \n",
       "4832   275797183   \n",
       "4833   275812977   \n",
       "5140   298854514   \n",
       "5190   301925517   \n",
       "5743   339264823   \n",
       "5744   339265390   \n",
       "5752   339478276   \n",
       "5753   339478966   \n",
       "5832   345043812   \n",
       "5833   345043888   \n",
       "5852   346641598   \n",
       "5853   346641762   \n",
       "6193   375083006   \n",
       "6194   375157867   \n",
       "6221   377694722   \n",
       "6222   377694727   \n",
       "6947   444588772   \n",
       "6948   444589429   \n",
       "7128   463947914   \n",
       "7130   463947986   \n",
       "7312   481969878   \n",
       "7313   481970432   \n",
       "7503   501720037   \n",
       "7504   501720124   \n",
       "\n",
       "                                                                                                                                                                                                                                                                                                                                                                                                                                                                                                                                                                                                                                                                                                                                                                                                                                                                                                                                                                                                                                                                                                                                                                                                                                                                                                                                                                                                                                                                                                                                                                                                                                                                                                                                                                                                                                                                                                                                                                                                                                                                                                                                                                                                                                                                                                                                                                                                                                                                                                                                                                                                                                                                                                                                                                                                                                                                                                                                                                                                                                                                                                                                                                                                                                                                                                                                                                                                                                                                                                                                                                                                                                                                                                                                                                                                                                                                                                                                                                                                                                                                                                                                                                                                                                                                                                                                                                                                                                                                                                                                                                                                                                                                                                                                                                                                                                                                                                                                                                                                                                                                                                                                                                                                 text  \\\n",
       "1832                                                                                                                                                                                                                                                                                                                                                                                                                                                                                                                                                                                                                                                                                                                                                                                                                                                                                                                                                                                                                                                                                                                                                                                                                                                                                                                                                                                                                                                                                                                                                                                                                                                                                                                                                                                                                                                                                                                                                                                                                                                                                                                                                                                                                                                                                                                                                                                                                                                                                                                                                                                                                                                                                                                                                                                                                                                                                                                                                                                                                                                                                                                                                                                                                                                                                                                                                                                                                                                                                                                                                                                                                                                                                                                                                                                                                                                                                                                                                                                                                                                                                                                                                                                                                                                                                                                                                                                                                                                                                                                                                                                                                                                                                                                                                                                                                                                                                                                                                                                                                                                \" please do not add nonsense to social medium . it is considered vandalism. if you would like to experiment, use the sandbox. thank you. melmac \"   \n",
       "2842                                                                                                                                                                                                                                                                                                                                                                                                                                                                                                                                                                                                                                                                                                                                                                                                                                                                                                                                                                                                                                                                                                                                                                                                                                                                                                                                                                                                                                                                                                                                                                                                                                                                                                                                                                                                                                                                                                                                                                                                                                                                                                                                                                                                                                                                                                                                                                                                                                                                                                                                                                                                                                                                                                                                                                                                                                                                                                                                                                                                                                                                                                                                                                                                                                                                                                                                                                                                                                                                                                                                                                                                                                                                                                                                                                                                                                                                                                                                                                                                                                                                                                                                                                                                                                                                                                                                                                                                                                                                                                                                                                                                                                                                                                                                                                                                                                                                                                                                                                                                                                                \" please do not add nonsense to social medium . it is considered vandalism. if you would like to experiment, use the sandbox. thank you. melmac \"   \n",
       "3203                                                                                                                                                                                                                                                                                                                                                                                                                                                                                                                                                                                                                                                                                                                                                                                                                                                                                                                                                                                                                                                                                                                                                                                                                                                                                                                                                                                                                                                                                                                                                                                                                                                                                                                                                                                                                                                                                                                                                                                                                                                                                                                                                                                                                                                                                                                                                                                                                                                                                                                                                                                                                                                                                                                                                                                                                                                                                                                                                                                                                                                                                                                                                                                                                                                                                                                                                                                                                                                                                                                                                                                                                                                                                                                                                                                                                                                                                                                                                                                                                                                                                                                                                                                                                                                                                                                                                                                                                 \" defamatory and slanderous accusation made by against calls an abusive admin \"\"victim of abuse of power by an admin \"\" accuses of having bias \"\"you have revealed your self to be tremendously partial do economistbr is opinion\"\" calls a dictator \"\"i would appreciate some further explanation of your actions, rather than unsubstantiated dictatorial acts\"\" calls arrogant \"\"exercised his prerrogative to block the page in a somewhat arrogant and authoritarian way\"\" calls is opinion unfair \"\"economistbr, the user in question, appealed to an admin , user hu12, who took an unfair and unbalanced view\"\" this smearing campaign and personal attacks of against is is vengeance against , because is impartial ruling did not produce satisfactory results to . \"   \n",
       "3204                                                                                                                                                                                                                                                                                                                                                                                                                                                                                                                                                                                                                                                                                                                                                                                                                                                                                                                                                                                                                                                                                                                                                                                                                                                                                                                                                                                                                                                                                                                                                                                                                                                                                                                                                                                                                                                                                                                                                                                                                                                                                                                                                                                                                                                                                                                                                                                                                                                                                                                                                                                                                                                                                                                                                                                                                                                                                                                                                                                                                                                                                                                                                                                                                                                                                                                                                                                                                                                                                                                                                                                                                                                                                                                                                                                                                                                                                                                                                                                                                                                                                                                                                                                                                                                                                                                                                                                                                 \" defamatory and slanderous accusation made by against calls an abusive admin \"\"victim of abuse of power by an admin \"\" accuses of having bias \"\"you have revealed your self to be tremendously partial do economistbr is opinion\"\" calls a dictator \"\"i would appreciate some further explanation of your actions, rather than unsubstantiated dictatorial acts\"\" calls arrogant \"\"exercised his prerrogative to block the page in a somewhat arrogant and authoritarian way\"\" calls is opinion unfair \"\"economistbr, the user in question, appealed to an admin , user hu12, who took an unfair and unbalanced view\"\" this smearing campaign and personal attacks of against is is vengeance against , because is impartial ruling did not produce satisfactory results to . \"   \n",
       "3542                                                                                                                                                                                                                                                                                                                                                                                                                                                                                                                                                                                                                                                                                                                                                                                                                                                                                                                                                                                                                                                                                                                                                                                                                                                                                                                                                                                                                                                                                                                                                                                                                                                                                                                                                                                                                                                                                                                                                                                                                                                                                                                                                                                                                                                                                                                                                                                                                                                                                                                                                                                                                                                                                                                                                                                                                                                                                                                                                                                                                                                                                                                                                                                                                                                                                                                                                                                                                                                                                                                                                                                                                                                                                                                                                                                                                                                                                                                                                                                                                                                                                                                                                                                                                                                                                                                                                                                                                                                                                                                                                                                                                                                                                                                                                                                                                                                                                                                                                                                                                                                                                                                                     social medium - the encyclopedia that no one can edit boo !!   \n",
       "3543                                                                                                                                                                                                                                                                                                                                                                                                                                                                                                                                                                                                                                                                                                                                                                                                                                                                                                                                                                                                                                                                                                                                                                                                                                                                                                                                                                                                                                                                                                                                                                                                                                                                                                                                                                                                                                                                                                                                                                                                                                                                                                                                                                                                                                                                                                                                                                                                                                                                                                                                                                                                                                                                                                                                                                                                                                                                                                                                                                                                                                                                                                                                                                                                                                                                                                                                                                                                                                                                                                                                                                                                                                                                                                                                                                                                                                                                                                                                                                                                                                                                                                                                                                                                                                                                                                                                                                                                                                                                                                                                                                                                                                                                                                                                                                                                                                                                                                                                                                                                                                                                                                                                     social medium - the encyclopedia that no one can edit boo !!   \n",
       "4757  you are a mother fuck er dick sucker ! you are a mother fuck er dick sucker ! you are a mother fuck er dick sucker ! you are a mother fuck er dick sucker ! you are a mother fuck er dick sucker ! you are a mother fuck er dick sucker ! you are a mother fuck er dick sucker ! you are a mother fuck er dick sucker ! you are a mother fuck er dick sucker ! you are a mother fuck er dick sucker ! you are a mother fuck er dick sucker ! you are a mother fuck er dick sucker ! you are a mother fuck er dick sucker ! you are a mother fuck er dick sucker ! you are a mother fuck er dick sucker ! you are a mother fuck er dick sucker ! you are a mother fuck er dick sucker ! you are a mother fuck er dick sucker ! you are a mother fuck er dick sucker ! you are a mother fuck er dick sucker ! you are a mother fuck er dick sucker ! you are a mother fuck er dick sucker ! you are a mother fuck er dick sucker ! you are a mother fuck er dick sucker ! you are a mother fuck er dick sucker ! you are a mother fuck er dick sucker ! you are a mother fuck er dick sucker ! you are a mother fuck er dick sucker ! you are a mother fuck er dick sucker ! you are a mother fuck er dick sucker ! you are a mother fuck er dick sucker ! you are a mother fuck er dick sucker ! you are a mother fuck er dick sucker ! you are a mother fuck er dick sucker ! you are a mother fuck er dick sucker ! you are a mother fuck er dick sucker ! you are a mother fuck er dick sucker ! you are a mother fuck er dick sucker ! you are a mother fuck er dick sucker ! you are a mother fuck er dick sucker ! you are a mother fuck er dick sucker ! you are a mother fuck er dick sucker ! you are a mother fuck er dick sucker ! you are a mother fuck er dick sucker ! you are a mother fuck er dick sucker ! you are a mother fuck er dick sucker ! you are a mother fuck er dick sucker ! you are a mother fuck er dick sucker ! you are a mother fuck er dick sucker ! you are a mother fuck er dick sucker ! you are a mother fuck er dick sucker ! you are a mother fuck er dick sucker ! you are a mother fuck er dick sucker ! you are a mother fuck er dick sucker ! you are a mother fuck er dick sucker ! you are a mother fuck er dick sucker ! you are a mother fuck er dick sucker ! you are a mother fuck er dick sucker ! you are a mother fuck er dick sucker ! you are a mother fuck er dick sucker ! you are a mother fuck er dick sucker ! you are a mother fuck er dick sucker ! you are a mother fuck er dick sucker ! you are a mother fuck er dick sucker ! you are a mother fuck er dick sucker ! you are a mother fuck er dick sucker ! you are a mother fuck er dick sucker ! you are a mother fuck er dick sucker ! you are a mother fuck er dick sucker ! you are a mother fuck er dick sucker ! you are a mother fuck er dick sucker ! you are a mother fuck er dick sucker ! you are a mother fuck er dick sucker ! you are a mother fuck er dick sucker ! you are a mother fuck er dick sucker ! you are a mother fuck er dick sucker ! you are a mother fuck er dick sucker ! you are a mother fuck er dick sucker ! you are a mother fuck er dick sucker ! you are a mother fuck er dick sucker ! you are a mother fuck er dick sucker ! you are a mother fuck er dick sucker ! you are a mother fuck er dick sucker ! you are a mother fuck er dick sucker ! you are a mother fuck er dick sucker ! you are a mother fuck er dick sucker ! you are a mother fuck er dick sucker ! you are a mother fuck er dick sucker ! you are a mother fuck er dick sucker ! you are a mother fuck er dick sucker ! you are a mother fuck er dick sucker ! you are a mother fuck er dick sucker ! you are a mother fuck er dick sucker ! you are a mother fuck er dick sucker ! you are a mother fuck er dick sucker ! you are a mother fuck er dick sucker ! you are a mother fuck er dick sucker ! you are a mother fuck er dick sucker ! you are a mother fuck er dick sucker ! you are a mother fuck er dick sucker ! you are a mother fuck er dick sucker ! you are a mother fuck er dick sucker ! you are a mother fuck er dick sucker ! you are a mother fuck er dick sucker ! you are a mother fuck er dick sucker ! you are a mother fuck er dick sucker ! you are a mother fuck er dick sucker ! you are a mother fuck er dick sucker ! you are a mother fuck er dick sucker ! you are a mother fuck er dick sucker ! you are a mother fuck er dick sucker ! you are a mother fuck er dick sucker ! you are a mother fuck er dick sucker ! you are a mother fuck er dick sucker ! you are a mother fuck er dick sucker ! you are a mother fuck er dick sucker ! you are a mother fuck er dick sucker ! you are a mother fuck er dick sucker ! you are a mother fuck er dick sucker ! you are a mother fuck er dick sucker ! you are a mother fuck er dick sucker ! you are a mother fuck er dick sucker ! you are a mother fuck er dick sucker ! you are a mother fuck er dick sucker ! you are a mother fuck er dick sucker ! you are a mother fuck er dick sucker ! you are a mother fuck er dick sucker ! you are a mother fuck er dick sucker !   \n",
       "4759                                                                                                                                                                                                                                                                                                                                                                                                                                                                                                                                                                                                                                                                                                                                                                                                                                                                                                                                                                                                                                                                                                                                                                                                                                                                                                                                                                                                                                                                                                                                                                                                                                                                                                                                                                                                                                                                                                                                                                                                                                you are a mother fuck er dick sucker ! you are a mother fuck er dick sucker ! you are a mother fuck er dick sucker ! you are a mother fuck er dick sucker ! you are a mother fuck er dick sucker ! you are a mother fuck er dick sucker ! you are a mother fuck er dick sucker ! you are a mother fuck er dick sucker ! you are a mother fuck er dick sucker ! you are a mother fuck er dick sucker ! you are a mother fuck er dick sucker ! you are a mother fuck er dick sucker ! you are a mother fuck er dick sucker ! you are a mother fuck er dick sucker ! you are a mother fuck er dick sucker ! you are a mother fuck er dick sucker ! you are a mother fuck er dick sucker ! you are a mother fuck er dick sucker ! you are a mother fuck er dick sucker ! you are a mother fuck er dick sucker ! you are a mother fuck er dick sucker ! you are a mother fuck er dick sucker ! you are a mother fuck er dick sucker ! you are a mother fuck er dick sucker ! you are a mother fuck er dick sucker ! you are a mother fuck er dick sucker ! you are a mother fuck er dick sucker ! you are a mother fuck er dick sucker ! you are a mother fuck er dick sucker ! you are a mother fuck er dick sucker ! you are a mother fuck er dick sucker ! you are a mother fuck er dick sucker ! you are a mother fuck er dick sucker ! you are a mother fuck er dick sucker ! you are a mother fuck er dick sucker ! you are a mother fuck er dick sucker ! you are a mother fuck er dick sucker ! you are a mother fuck er dick sucker ! you are a mother fuck er dick sucker ! you are a mother fuck er dick sucker ! you are a mother fuck er dick sucker ! you are a mother fuck er dick sucker ! you are a mother fuck er dick sucker ! you are a mother fuck er dick sucker ! you are a mother fuck er dick sucker ! you are a mother fuck er dick sucker ! you are a mother fuck er dick sucker ! you are a mother fuck er dick sucker ! you are a mother fuck er dick sucker ! you are a mother fuck er dick sucker ! you are a mother fuck er dick sucker ! you are a mother fuck er dick sucker ! you are a mother fuck er dick sucker ! you are a mother fuck er dick sucker ! you are a mother fuck er dick sucker ! you are a mother fuck er dick sucker ! you are a mother fuck er dick sucker ! you are a mother fuck er dick sucker ! you are a mother fuck er dick sucker ! you are a mother fuck er dick sucker ! you are a mother fuck er dick sucker ! you are a mother fuck er dick sucker ! you are a mother fuck er dick sucker ! you are a mother fuck er dick sucker ! you are a mother fuck er dick sucker ! you are a mother fuck er dick sucker ! you are a mother fuck er dick sucker ! you are a mother fuck er dick sucker ! you are a mother fuck er dick sucker ! you are a mother fuck er dick sucker ! you are a mother fuck er dick sucker ! you are a mother fuck er dick sucker ! you are a mother fuck er dick sucker ! you are a mother fuck er dick sucker ! you are a mother fuck er dick sucker ! you are a mother fuck er dick sucker ! you are a mother fuck er dick sucker ! you are a mother fuck er dick sucker !   \n",
       "4832                                                                                                                                                                                                                                                                                                                                                                                                                                                                                                                                                                                                                                                                                                                                                                                                                                                                                                                                                                                                                                                                                                                                                                                                                                                                                                                                                                                                                                                                                                                                                                                                                                                                                                                                                                                                                                                                                                                                                                                                                                                                                                                                                                                                                                                                                                                                                                                                                                                                                                                                                                                                                                                                                                                                                                                                                                                                                                                                                                                                                                                                                                                                                                                                                                                                                                                                                                                                                                                                                                                                                                                                                                                                                                                                                                                                                                                                                                                                                                                                                                                                                                                                                                                                                                                                                                                                                                                                                                                                                                                                                                                                                                                                                                                                                                                                                                                                                                                                               hi could you please learn to interact like a sentient human being honestly, it is infuriating to read your posts which seem to be generated from a machine (albeit, an obese one) rather than a proper, thinking, caring, functioning human being.   \n",
       "4833                                                                                                                                                                                                                                                                                                                                                                                                                                                                                                                                                                                                                                                                                                                                                                                                                                                                                                                                                                                                                                                                                                                                                                                                                                                                                                                                                                                                                                                                                                                                                                                                                                                                                                                                                                                                                                                                                                                                                                                                                                                                                                                                                                                                                                                                                                                                                                                                                                                                                                                                                                                                                                                                                                                                                                                                                                                                                                                                                                                                                                                                                                                                                                                                                                                                                                                                                                                                                                                                                                                                                                                                                                                                                                                                                                                                                                                                                                                                                                                                                                                                                                                                                                                                                                                                                                                                                                                                                                                                                                                                                                                                                                                                                                                                                                                                                                                                                                                                               could you please learn to interact like a sentient human being honestly, it is infuriating to read your posts which seem to be generated from a machine (albeit, an obese one) rather than a proper, thinking, caring, functioning human being. hi   \n",
       "5140                                                                                                                                                                                                                                                                                                                                                                                                                                                                                                                                                                                                                                                                                                                                                                                                                                                                                                                                                                                                                                                                                                                                                                                                                                                                                                                                                                                                                                                                                                                                                                                                                                                                                                                                                                                                                                                                                                                                                                                                                                                                                                                                                                                                                                                                                                                                                                                                                                                                                                                                                                                                                                                                                                                                                                                                                                                                                                                                                                                                                                                                                                                                                                                                                                                                                                                                                                                                                                                                                                                                                                                                                                                                                                                                                                                                                                                                                                                                                                                                                                                                                                                                                                                                                                                                                                                                                                                                                                                                                                                                                                                                                                                                                                                                                                                                                                                                                                                                                                                                                                                                                       her ! poop, pee, toot, fart, gas, diareah ! zoey is poop. she stinks. i want to marry you baby ! call me !   \n",
       "5190                                                                                                                                                                                                                                                                                                                                                                                                                                                                                                                                                                                                                                                                                                                                                                                                                                                                                                                                                                                                                                                                                                                                                                                                                                                                                                                                                                                                                                                                                                                                                                                                                                                                                                                                                                                                                                                                                                                                                                                                                                                                                                                                                                                                                                                                                                                                                                                                                                                                                                                                                                                                                                                                                                                                                                                                                                                                                                                                                                                                                                                                                                                                                                                                                                                                                                                                                                                                                                                                                                                                                                                                                                                                                                                                                                                                                                                                                                                                                                                                                                                                                                                                                                                                                                                                                                                                                                                                                                                                                                                                                                                                                                                                                                                                                                                                                                                                                                                                                                                                                                                                                       her ! poop, pee, toot, fart, gas, diareah ! zoey is poop. she stinks. i want to marry you baby ! call me !   \n",
       "5743                                                                                                                                                                                                                                                                                                                                                                                                                                                                                                                                                                                                                                                                                                                                                                                                                                                                                                                                                                                                                                                                                                                                                                                                                                                                                                                                                                                                                                                                                                                                                                                                                                                                                                                                                                                                                                                                                                                                                                                                                                                                                                                                                                                                                                                                                                                                                                                                                                                                                                                                                                                                                                                                                                                                                                                                                                                                                                                                                                                                                                                                                                                                                                                                                                                                                                                                                                                                                                                                                                                                                                                                                                                                                                                                                                                                                                                                                                                                                                                                                                                                                                                                                                                                                                                                                                                                                                                                                                                                                                                                                                                                                                                                                                                                                                                                                                                                                                                                                                                                                                                                               you are 22 years older than your husband ! you are an old cougar ! you are an old cougar ! you are an old cougar !   \n",
       "5744                                                                                                                                                                                                                                                                                                                                                                                                                                                                                                                                                                                                                                                                                                                                                                                                                                                                                                                                                                                                                                                                                                                                                                                                                                                                                                                                                                                                                                                                                                                                                                                                                                                                                                                                                                                                                                                                                                                                                                                                                                                                                                                                                                                                                                                                                                                                                                                                                                                                                                                                                                                                                                                                                                                                                                                                                                                                                                                                                                                                                                                                                                                                                                                                                                                                                                                                                                                                                                                                                                                                                                                                                                                                                                                                                                                                                                                                                                                                                                                                                                                                                                                                                                                                                                                                                                                                                                                                                                                                                                                                                                                                                                                                                                                                                                                                                                                                                                                                                                                                                                                                               you are 22 years older than your husband ! you are an old cougar ! you are an old cougar ! you are an old cougar !   \n",
       "5752                                                                                                                                                                                                                                                                                                                                                                                                                                                                                                                                                                                                                                                                                                                                                                                                                                                                                                                                                                                                                                                                                                                                                                                                                                                                                                                                                                                                                                                                                                                                                                                                                                                                                                                                                                                                                                                                                                                                                                                                                                                                                                                                                                                                                                                                                                                                                                                                                                                                                                                                                                                                                                                                                                                                                                                                                                                                                                                                                                                                                                                                                                                                                                                                                                                                                                                                                                                                                                                                                                                                                                                                                                                                                                                                                                                                                                                                                                                                                                                                                                                                                                                                                                                                                                                                                                                                                                                                                                                                                                                                                                                                                                                                                                                                                                                                                                                                                                                                                                                                                                                      i am gonna beat you to a bloody pulp then shoot you, execution-style. i am gonna beat you to a bloody pulp then shoot you, execution-style.   \n",
       "5753                                                                                                                                                                                                                                                                                                                                                                                                                                                                                                                                                                                                                                                                                                                                                                                                                                                                                                                                                                                                                                                                                                                                                                                                                                                                                                                                                                                                                                                                                                                                                                                                                                                                                                                                                                                                                                                                                                                                                                                                                                                                                                                                                                                                                                                                                                                                                                                                                                                                                                                                                                                                                                                                                                                                                                                                                                                                                                                                                                                                                                                                                                                                                                                                                                                                                                                                                                                                                                                                                                                                                                                                                                                                                                                                                                                                                                                                                                                                                                                                                                                                                                                                                                                                                                                                                                                                                                                                                                                                                                                                                                                                                                                                                                                                                                                                                                                                                                                                                                                                                                                      i am gonna beat you to a bloody pulp then shoot you, execution-style. i am gonna beat you to a bloody pulp then shoot you, execution-style.   \n",
       "5832                                                                                                                                                                                                                                                                                                                                                                                                                                                                                                                                                                                                                                                                                                                                                                                                                                                                                                                                                                                                                                                                                                                                                                                                                                                                                                                                                                                                                                                                                                                                                                                                                                                                                                                                                                                                                                                                                                                                                                                                                                                                                                                                                                                                                                                                                                                                                                                                                                                                                                                                                                                                                                                                                                                                                                                                                                                                                                                                                                                                                                                                                                                                                                                                                                                                                                                                                                                                                                                                                                                                                                                                                                                                                                                                                                                                                                                                                                                                                                                                                                                                                                                                                                                                                                                                                                                                                                                                                                                                                                                                                                                                                                                                                                                                                                                                                                                                                                                                                                                                                                                                                                                                               jimbo said i could edit his page. you are a moron.   \n",
       "5833                                                                                                                                                                                                                                                                                                                                                                                                                                                                                                                                                                                                                                                                                                                                                                                                                                                                                                                                                                                                                                                                                                                                                                                                                                                                                                                                                                                                                                                                                                                                                                                                                                                                                                                                                                                                                                                                                                                                                                                                                                                                                                                                                                                                                                                                                                                                                                                                                                                                                                                                                                                                                                                                                                                                                                                                                                                                                                                                                                                                                                                                                                                                                                                                                                                                                                                                                                                                                                                                                                                                                                                                                                                                                                                                                                                                                                                                                                                                                                                                                                                                                                                                                                                                                                                                                                                                                                                                                                                                                                                                                                                                                                                                                                                                                                                                                                                                                                                                                                                                                                                                                                                                               jimbo said i could edit his page. you are a moron.   \n",
       "5852                                                                                                                                                                                                                                                                                                                                                                                                                                                                                                                                                                                                                                                                                                                                                                                                                                                                                                                                                                                                                                                                                                                                                                                                                                                                                                                                                                                                                                                                                                                                                                                                                                                                                                                                                                                                                                                                                                                                                                                                                                                                                                                                                                                                                                                                                                                                                                                                                                                                                                                                                                                                                                                                                                                                                                                                                                                                                                                                                                                                                                                                                                                                                                                                                                                                                                                                                                                                                                                                                                                                                                                                                                                                                                                                                                                                                                                                                                                                                                                                                                                                                                                                                                                                                                                                                                                                                                                                                                                                                                                                                                                                                                                                                                                                                                                                                                                                                                                                                                                                  we are going to make sure you are exposed !! drop your relations with anti american hate groups we are going to make sure you are exposed !! drop your relations with anti american hate groups   \n",
       "5853                                                                                                                                                                                                                                                                                                                                                                                                                                                                                                                                                                                                                                                                                                                                                                                                                                                                                                                                                                                                                                                                                                                                                                                                                                                                                                                                                                                                                                                                                                                                                                                                                                                                                                                                                                                                                                                                                                                                                                                                                                                                                                                                                                                                                                                                                                                                                                                                                                                                                                                                                                                                                                                                                                                                                                                                                                                                                                                                                                                                                                                                                                                                                                                                                                                                                                                                                                                                                                                                                                                                                                                                                                                                                                                                                                                                                                                                                                                                                                                                                                                                                                                                                                                                                                                                                                                                                                                                                                                                                                                                                                                                                                                                                                                                                                                                  we are going to make sure you are exposed !! drop your relations with anti american hate groups we are going to make sure you are exposed !! drop your relations with anti american hate groups we are going to make sure you are exposed !! drop your relations with anti american hate groups we are going to make sure you are exposed !! drop your relations with anti american hate groups   \n",
       "6193                                                                                                                                                                                                                                                                                                                                                                                                                                                                                                                                                                                                                                                                                                                                                                                                                                                                                                                                                                                                                                                                                                                                                                                                                                                                                                                                                                                                                                                                                                                                                                                                                                                                                                                                                                                                                                                                                                                                                                                                                                                                                                                                                                                                                                                                                                                                                                                                                                                                                                                                                                                                                                                                                                                                                                                                                                                                                                                                                                                                                                                                                                                                                                                                                                                                                                                                                                                                                                                                                                                                                                                                                                                                                                                                                                                                                                                                                                                                                                                                                                                                                                                                                                                                                                                                                                                                                                                                                                                                                                                                                                                                                                                                                                                                                                                                                                                                                                                                                                                                     fc k you why the fc k should i get a warning for doing nothing fc k you why the fc k should i get a warning for doing nothing fc k you why the fc k should i get a warning for doing nothing   \n",
       "6194                                                                                                                                                                                                                                                                                                                                                                                                                                                                                                                                                                                                                                                                                                                                                                                                                                                                                                                                                                                                                                                                                                                                                                                                                                                                                                                                                                                                                                                                                                                                                                                                                                                                                                                                                                                                                                                                                                                                                                                                                                                                                                                                                                                                                                                                                                                                                                                                                                                                                                                                                                                                                                                                                                                                                                                                                                                                                                                                                                                                                                                                                                                                                                                                                                                                                                                                                                                                                                                                                                                                                                                                                          fc k you why the fc k should i get a warning for doing nothing fc k you why the fc k should i get a warning for doing nothing fc k you why the fc k should i get a warning for doing nothing fc k you why the fc k should i get a warning for doing nothing fc k you why the fc k should i get a warning for doing nothing fc k you why the fc k should i get a warning for doing nothing fc k you why the fc k should i get a warning for doing nothing fc k you why the fc k should i get a warning for doing nothing fc k you why the fc k should i get a warning for doing nothing fc k you why the fc k should i get a warning for doing nothing fc k you why the fc k should i get a warning for doing nothing fc k you why the fc k should i get a warning for doing nothing fc k you why the fc k should i get a warning for doing nothing fc k you why the fc k should i get a warning for doing nothing fc k you why the fc k should i get a warning for doing nothing fc k you why the fc k should i get a warning for doing nothing fc k you why the fc k should i get a warning for doing nothing fc k you why the fc k should i get a warning for doing nothing fc k you why the fc k should i get a warning for doing nothing fc k you why the fc k should i get a warning for doing nothing fc k you why the fc k should i get a warning for doing nothing fc k you why the fc k should i get a warning for doing nothing fc k you why the fc k should i get a warning for doing nothing fc k you why the fc k should i get a warning for doing nothing   \n",
       "6221                                                                                                                                                                                                                                                                                                                                                                                                                                                                                                                                                                                                                                                                                                                                                                                                                                                                                                                                                                                                                                                                                                                                                                                                                                                                                                                                                                                                                                                                                                                                                                                                                                                                                                                                                                                                                                                                                                                                                                                                                                                                                                                                                                                                                                                                                                                                                                                                                                                                                                                                                                                                                                                                                                                                                                                                                                                                                                                                                                                                                                                                                                                                                                                                                                                                                                                                                                                                                                                                                                                                                                                                                                                                                                                                                                                                                                                                                                                                                                                                                                                                                                                                                                                                                                                                                                                                                                                                                                                                                                                                                                                           questions about your biased edits to australian politics social medium articles hello, i am from the university of sydney and i would like to review you as a political commentator. you were mentioned in one of our lectures as an avid contributor to australian politics in social medium . clearly, you have gone through some traumatic experience in life which has led to your extreme bias and left edits. the need for power, and your domineering nature. were you sexually abused by your father did he physically abuse you if you are interested in completing this survey, please email   \n",
       "6222                                                                                                                                                                                                                                                                                                                                                                                                                                                                                                                                                                                                                                                                                                                                                                                                                                                                                                                                                                                                                                                                                                                                                                                                                                                                                                                                                                                                                                                                                                                                                                                                                                                                                                                                                                                                                                                                                                                                                                                                                                                                                                                                                                                                                                                                                                                                                                                                                                                                                                                                                                                                                                                                                                                                                                                                                                                                                                                                                                                                                                                                                                                                                                                                                                                                                                                                                                                                                                                                                                                                                                                                                                                                                                                                                                                                                                                                                                                                                                                                                                                                                                                                                                                                                                                                                                                                                                                                                                                                                                                                                                                           questions about your biased edits to australian politics social medium articles hello, i am from the university of sydney and i would like to review you as a political commentator. you were mentioned in one of our lectures as an avid contributor to australian politics in social medium . clearly, you have gone through some traumatic experience in life which has led to your extreme bias and left edits. the need for power, and your domineering nature. were you sexually abused by your father did he physically abuse you if you are interested in completing this survey, please email   \n",
       "6947                                                                                                                                                                                                                                                                                                                                                                                                                                                                                                                                                                                                                                                                                                                                                                                                                                                                                                                                                                                                                                                                                                                                                                                                                                                                                                                                                                                                                                                                                                                                                                                                                                                                                                                                                                                                                                                                                                                                                                                                                                                                                                                                                                                                                                                                                                                                                                                                                                                                                                                                                                                                                                                                                                                                                                                                                                                                                                                                                                                                                                                                                                                                                                                                                                                                                                                                                                                                                                                                                                                                                                                                                                                                                                                                                                                                                                                                                                                                                                                                                                                                                                                                                                                                                                                                                                                                                                                                                                                                                                                                                                                                                                                                                                                                                                                                                                                                                                                                                                                                                                                                                                                                                i will ki ll you and wear your skin like a robe !   \n",
       "6948                                                                                                                                                                                                                                                                                                                                                                                                                                                                                                                                                                                                                                                                                                                                                                                                                                                                                                                                                                                                                                                                                                                                                                                                                                                                                                                                                                                                                                                                                                                                                                                                                                                                                                                                                                                                                                                                                                                                                                                                                                                                                                                                                                                                                                                                                                                                                                                                                                                                                                                                                                                                                                                                                                                                                                                                                                                                                                                                                                                                                                                                                                                                                                                                                                                                                                                                                                                                                                                                                                                                                                                                                                                                                                                                                                                                                                                                                                                                                                                                                                                                                                                                                                                                                                                                                                                                                                                                                                                                                                                                                                                                                                                                                                                                                                                                                                                                                                                                                                                                                                                                                                                                                i will ki ll you and wear your skin like a robe !   \n",
       "7128                                                                                                                                                                                                                                                                                                                                                                                                                                                                                                                                                                                                                                                                                                                                                                                                                                                                                                                                                                                                                                                                                                                                                                                                                                                                                                                                                                                                                                                                                                                                                                                                                                                                                                                                                                                                                                                                                                                                                                                                                                                                                                                                                                                                                                                                                                                                                                                                                                                                                                                                                                                                                                                                                                                                                                                                                                                                                                                                                                                                                                                                                                                                                                                                                                                                                                                                                                                                                                                                                                                                                                                                                                                                                                                                                                                                                                                                                                                                                                                                                                                                                                                                                                                                                                                                                                                                                                                                                                                                                                                                                                                                                                                                                                                                                                                                                                                                                                                                                                                                                                                                                                                                                leave our country. we do not want you arabs here.   \n",
       "7130                                                                                                                                                                                                                                                                                                                                                                                                                                                                                                                                                                                                                                                                                                                                                                                                                                                                                                                                                                                                                                                                                                                                                                                                                                                                                                                                                                                                                                                                                                                                                                                                                                                                                                                                                                                                                                                                                                                                                                                                                                                                                                                                                                                                                                                                                                                                                                                                                                                                                                                                                                                                                                                                                                                                                                                                                                                                                                                                                                                                                                                                                                                                                                                                                                                                                                                                                                                                                                                                                                                                                                                                                                                                                                                                                                                                                                                                                                                                                                                                                                                                                                                                                                                                                                                                                                                                                                                                                                                                                                                                                                                                                                                                                                                                                                                                                                                                                                                                                                                                                                                                                                                                                leave our country. we do not want you arabs here.   \n",
       "7312                                                                                                                                                                                                                                                                                                                                                                                                                                                                                                                                                                                                                                                                                                                                                                                                                                                                                                                                                                                                                                                                                                                                                                                                                                                                                                                                                                                                                                                                                                                                                                                                                                                                                                                                                                                                                                                                                                                                                                                                                                                                                                                                                                                                                                                                                                                                                                                                                                                                                                                                                                                                                                                                                                                                                                                                                                                                                                                                                                                                                                                                                                                                                                                                                                                                                                                                                                                                                                                                                                                                                                                                                                                                                                                                                                                                                                                                                                                                                                                                                                                                                                                                                                                                                                                                                                                                                                                                                                                                                                                                                                                                                                                                                                                                                                                                                                                                                                                                                                                                                                                        i will flay you alive, you fking stalker. i shall enjoy your screams of agony as your blood slowly pools across the floor of my basement.   \n",
       "7313                                                                                                                                                                                                                                                                                                                                                                                                                                                                                                                                                                                                                                                                                                                                                                                                                                                                                                                                                                                                                                                                                                                                                                                                                                                                                                                                                                                                                                                                                                                                                                                                                                                                                                                                                                                                                                                                                                                                                                                                                                                                                                                                                                                                                                                                                                                                                                                                                                                                                                                                                                                                                                                                                                                                                                                                                                                                                                                                                                                                                                                                                                                                                                                                                                                                                                                                                                                                                                                                                                                                                                                                                                                                                                                                                                                                                                                                                                                                                                                                                                                                                                                                                                                                                                                                                                                                                                                                                                                                                                                                                                                                                                                                                                                                                                                                                                                                                                                                                                                                                                                        i will flay you alive, you fking stalker. i shall enjoy your screams of agony as your blood slowly pools across the floor of my basement.   \n",
       "7503                                                                                                                                                                                                                                                                                                                                                                                                                                                                                                                                                                                                                                                                                                                                                                                                                                                                                                                                                                                                                                                                                                                                                                                                                                                                                                                                                                                                                                                                                                                                                                                                                                                                                                                                                                                                                                                                                                                                                                                                                                                                                                                                                                                                                                                                                                                                                                                                                                                                                                                                                                                                                                                                                                                                                                                                                                                                                                                                                                                                                                                                                                                                                                                                                                                                                                                                                                                                                                                                                                                                                                                                                                                                                                                                                                                                                                                                                                                                                                                                                                                                                                                                                                                                                                                                                                                                                                                                                                                                                                                                                                                                                                                                                                                                                                                                                                                                                                                                                                                                                                                                                                                                            eat shit nigger i have infinite ips i cant be blocked   \n",
       "7504                                                                                                                                                                                                                                                                                                                                                                                                                                                                                                                                                                                                                                                                                                                                                                                                                                                                                                                                                                                                                                                                                                                                                                                                                                                                                                                                                                                                                                                                                                                                                                                                                                                                                                                                                                                                                                                                                                                                                                                                                                                                                                                                                                                                                                                                                                                                                                                                                                                                                                                                                                                                                                                                                                                                                                                                                                                                                                                                                                                                                                                                                                                                                                                                                                                                                                                                                                                                                                                                                                                                                                                                                                                                                                                                                                                                                                                                                                                                                                                                                                                                                                                                                                                                                                                                                                                                                                                                                                                                                                                                                                                                                                                                                                                                                                                                                                                                                                                                                                                                                                                                                                                                            eat shit nigger i cant be blocked i have infinite ips   \n",
       "\n",
       "         score  \n",
       "1832 -0.262336  \n",
       "2842 -0.262336  \n",
       "3203  0.035991  \n",
       "3204  0.035991  \n",
       "3542 -0.506183  \n",
       "3543 -0.506183  \n",
       "4757  3.248524  \n",
       "4759  3.248524  \n",
       "4832 -0.212468  \n",
       "4833 -0.212468  \n",
       "5140  0.628247  \n",
       "5190  0.628247  \n",
       "5743 -0.030815  \n",
       "5744 -0.030815  \n",
       "5752  0.600670  \n",
       "5753  0.600670  \n",
       "5832  0.503026  \n",
       "5833  0.503026  \n",
       "5852  0.217596  \n",
       "5853  0.217596  \n",
       "6193  0.199341  \n",
       "6194  0.199341  \n",
       "6221  0.031026  \n",
       "6222  0.031026  \n",
       "6947  0.366882  \n",
       "6948  0.366882  \n",
       "7128  0.185514  \n",
       "7130  0.185514  \n",
       "7312  0.391563  \n",
       "7313  0.391563  \n",
       "7503  1.739438  \n",
       "7504  1.739438  "
      ]
     },
     "execution_count": 51,
     "metadata": {},
     "output_type": "execute_result"
    }
   ],
   "source": [
    "df_test[df_test[\"score\"].duplicated(keep=False)]"
   ]
  },
  {
   "cell_type": "code",
   "execution_count": 52,
   "id": "b996bb6b",
   "metadata": {
    "execution": {
     "iopub.execute_input": "2022-01-26T16:18:39.611223Z",
     "iopub.status.busy": "2022-01-26T16:18:39.610584Z",
     "iopub.status.idle": "2022-01-26T16:18:39.645553Z",
     "shell.execute_reply": "2022-01-26T16:18:39.646164Z",
     "shell.execute_reply.started": "2022-01-26T15:16:56.057871Z"
    },
    "papermill": {
     "duration": 0.108702,
     "end_time": "2022-01-26T16:18:39.646378",
     "exception": false,
     "start_time": "2022-01-26T16:18:39.537676",
     "status": "completed"
    },
    "tags": []
   },
   "outputs": [],
   "source": [
    "sub = df_test[[\"comment_id\",\"score\"]]\n",
    "sub.to_csv(\"submission.csv\", index=False)"
   ]
  },
  {
   "cell_type": "code",
   "execution_count": null,
   "id": "c3adfd2c",
   "metadata": {
    "papermill": {
     "duration": 0.065074,
     "end_time": "2022-01-26T16:18:39.776094",
     "exception": false,
     "start_time": "2022-01-26T16:18:39.711020",
     "status": "completed"
    },
    "tags": []
   },
   "outputs": [],
   "source": []
  }
 ],
 "metadata": {
  "kernelspec": {
   "display_name": "Python 3",
   "language": "python",
   "name": "python3"
  },
  "language_info": {
   "codemirror_mode": {
    "name": "ipython",
    "version": 3
   },
   "file_extension": ".py",
   "mimetype": "text/x-python",
   "name": "python",
   "nbconvert_exporter": "python",
   "pygments_lexer": "ipython3",
   "version": "3.7.10"
  },
  "papermill": {
   "default_parameters": {},
   "duration": 3655.318116,
   "end_time": "2022-01-26T16:18:42.266472",
   "environment_variables": {},
   "exception": null,
   "input_path": "__notebook__.ipynb",
   "output_path": "__notebook__.ipynb",
   "parameters": {},
   "start_time": "2022-01-26T15:17:46.948356",
   "version": "2.3.3"
  },
  "widgets": {
   "application/vnd.jupyter.widget-state+json": {
    "state": {
     "0532c4cf26ad48bd9b71804d61907124": {
      "model_module": "@jupyter-widgets/controls",
      "model_module_version": "1.5.0",
      "model_name": "DescriptionStyleModel",
      "state": {
       "_model_module": "@jupyter-widgets/controls",
       "_model_module_version": "1.5.0",
       "_model_name": "DescriptionStyleModel",
       "_view_count": null,
       "_view_module": "@jupyter-widgets/base",
       "_view_module_version": "1.2.0",
       "_view_name": "StyleView",
       "description_width": ""
      }
     },
     "084e71c77e2f44b2a30d30b7c2d01431": {
      "model_module": "@jupyter-widgets/base",
      "model_module_version": "1.2.0",
      "model_name": "LayoutModel",
      "state": {
       "_model_module": "@jupyter-widgets/base",
       "_model_module_version": "1.2.0",
       "_model_name": "LayoutModel",
       "_view_count": null,
       "_view_module": "@jupyter-widgets/base",
       "_view_module_version": "1.2.0",
       "_view_name": "LayoutView",
       "align_content": null,
       "align_items": null,
       "align_self": null,
       "border": null,
       "bottom": null,
       "display": null,
       "flex": null,
       "flex_flow": null,
       "grid_area": null,
       "grid_auto_columns": null,
       "grid_auto_flow": null,
       "grid_auto_rows": null,
       "grid_column": null,
       "grid_gap": null,
       "grid_row": null,
       "grid_template_areas": null,
       "grid_template_columns": null,
       "grid_template_rows": null,
       "height": null,
       "justify_content": null,
       "justify_items": null,
       "left": null,
       "margin": null,
       "max_height": null,
       "max_width": null,
       "min_height": null,
       "min_width": null,
       "object_fit": null,
       "object_position": null,
       "order": null,
       "overflow": null,
       "overflow_x": null,
       "overflow_y": null,
       "padding": null,
       "right": null,
       "top": null,
       "visibility": null,
       "width": null
      }
     },
     "0cd94ac87c874686a9e146df7b608eab": {
      "model_module": "@jupyter-widgets/base",
      "model_module_version": "1.2.0",
      "model_name": "LayoutModel",
      "state": {
       "_model_module": "@jupyter-widgets/base",
       "_model_module_version": "1.2.0",
       "_model_name": "LayoutModel",
       "_view_count": null,
       "_view_module": "@jupyter-widgets/base",
       "_view_module_version": "1.2.0",
       "_view_name": "LayoutView",
       "align_content": null,
       "align_items": null,
       "align_self": null,
       "border": null,
       "bottom": null,
       "display": null,
       "flex": null,
       "flex_flow": null,
       "grid_area": null,
       "grid_auto_columns": null,
       "grid_auto_flow": null,
       "grid_auto_rows": null,
       "grid_column": null,
       "grid_gap": null,
       "grid_row": null,
       "grid_template_areas": null,
       "grid_template_columns": null,
       "grid_template_rows": null,
       "height": null,
       "justify_content": null,
       "justify_items": null,
       "left": null,
       "margin": null,
       "max_height": null,
       "max_width": null,
       "min_height": null,
       "min_width": null,
       "object_fit": null,
       "object_position": null,
       "order": null,
       "overflow": null,
       "overflow_x": null,
       "overflow_y": null,
       "padding": null,
       "right": null,
       "top": null,
       "visibility": null,
       "width": null
      }
     },
     "0d0c56c8b53a44eabb6e21a1df31ada2": {
      "model_module": "@jupyter-widgets/controls",
      "model_module_version": "1.5.0",
      "model_name": "ProgressStyleModel",
      "state": {
       "_model_module": "@jupyter-widgets/controls",
       "_model_module_version": "1.5.0",
       "_model_name": "ProgressStyleModel",
       "_view_count": null,
       "_view_module": "@jupyter-widgets/base",
       "_view_module_version": "1.2.0",
       "_view_name": "StyleView",
       "bar_color": null,
       "description_width": ""
      }
     },
     "0dcf26d759b841dead0a39868a87b83a": {
      "model_module": "@jupyter-widgets/controls",
      "model_module_version": "1.5.0",
      "model_name": "HBoxModel",
      "state": {
       "_dom_classes": [],
       "_model_module": "@jupyter-widgets/controls",
       "_model_module_version": "1.5.0",
       "_model_name": "HBoxModel",
       "_view_count": null,
       "_view_module": "@jupyter-widgets/controls",
       "_view_module_version": "1.5.0",
       "_view_name": "HBoxView",
       "box_style": "",
       "children": [
        "IPY_MODEL_4f1b4b5037884294aba91e2fdfc8cafa",
        "IPY_MODEL_4b4ae19b13e54130992dec6832c1c665",
        "IPY_MODEL_4c2b67dde3fd44db82e1f188b44042fc"
       ],
       "layout": "IPY_MODEL_0cd94ac87c874686a9e146df7b608eab"
      }
     },
     "1361ba66047447cd9f31bc0b94690b9e": {
      "model_module": "@jupyter-widgets/controls",
      "model_module_version": "1.5.0",
      "model_name": "HTMLModel",
      "state": {
       "_dom_classes": [],
       "_model_module": "@jupyter-widgets/controls",
       "_model_module_version": "1.5.0",
       "_model_name": "HTMLModel",
       "_view_count": null,
       "_view_module": "@jupyter-widgets/controls",
       "_view_module_version": "1.5.0",
       "_view_name": "HTMLView",
       "description": "",
       "description_tooltip": null,
       "layout": "IPY_MODEL_dd19fbb1b33d4b099a19c75f26706118",
       "placeholder": "​",
       "style": "IPY_MODEL_0532c4cf26ad48bd9b71804d61907124",
       "value": "100%"
      }
     },
     "1c9d2b1ff933419f9c513ffc07830d19": {
      "model_module": "@jupyter-widgets/controls",
      "model_module_version": "1.5.0",
      "model_name": "HTMLModel",
      "state": {
       "_dom_classes": [],
       "_model_module": "@jupyter-widgets/controls",
       "_model_module_version": "1.5.0",
       "_model_name": "HTMLModel",
       "_view_count": null,
       "_view_module": "@jupyter-widgets/controls",
       "_view_module_version": "1.5.0",
       "_view_name": "HTMLView",
       "description": "",
       "description_tooltip": null,
       "layout": "IPY_MODEL_63e190bb03be4b059fe1acb4abd3925f",
       "placeholder": "​",
       "style": "IPY_MODEL_4899f9b85a0e46ddae0578acb5c53158",
       "value": " 1804874/1804874 [08:14&lt;00:00, 3651.51it/s]"
      }
     },
     "20f5b09d7ce243f4b8185895587a3d82": {
      "model_module": "@jupyter-widgets/controls",
      "model_module_version": "1.5.0",
      "model_name": "HTMLModel",
      "state": {
       "_dom_classes": [],
       "_model_module": "@jupyter-widgets/controls",
       "_model_module_version": "1.5.0",
       "_model_name": "HTMLModel",
       "_view_count": null,
       "_view_module": "@jupyter-widgets/controls",
       "_view_module_version": "1.5.0",
       "_view_name": "HTMLView",
       "description": "",
       "description_tooltip": null,
       "layout": "IPY_MODEL_8674dfac324a44068ec6f9f8f6e96f23",
       "placeholder": "​",
       "style": "IPY_MODEL_aa57c59ca33f4bff90ed1050660fe51b",
       "value": "100%"
      }
     },
     "218b0b7c5c534afbac5db50f184aea6e": {
      "model_module": "@jupyter-widgets/controls",
      "model_module_version": "1.5.0",
      "model_name": "DescriptionStyleModel",
      "state": {
       "_model_module": "@jupyter-widgets/controls",
       "_model_module_version": "1.5.0",
       "_model_name": "DescriptionStyleModel",
       "_view_count": null,
       "_view_module": "@jupyter-widgets/base",
       "_view_module_version": "1.2.0",
       "_view_name": "StyleView",
       "description_width": ""
      }
     },
     "24df2e6d3e6e41b7ae7bf635294bd5d2": {
      "model_module": "@jupyter-widgets/base",
      "model_module_version": "1.2.0",
      "model_name": "LayoutModel",
      "state": {
       "_model_module": "@jupyter-widgets/base",
       "_model_module_version": "1.2.0",
       "_model_name": "LayoutModel",
       "_view_count": null,
       "_view_module": "@jupyter-widgets/base",
       "_view_module_version": "1.2.0",
       "_view_name": "LayoutView",
       "align_content": null,
       "align_items": null,
       "align_self": null,
       "border": null,
       "bottom": null,
       "display": null,
       "flex": null,
       "flex_flow": null,
       "grid_area": null,
       "grid_auto_columns": null,
       "grid_auto_flow": null,
       "grid_auto_rows": null,
       "grid_column": null,
       "grid_gap": null,
       "grid_row": null,
       "grid_template_areas": null,
       "grid_template_columns": null,
       "grid_template_rows": null,
       "height": null,
       "justify_content": null,
       "justify_items": null,
       "left": null,
       "margin": null,
       "max_height": null,
       "max_width": null,
       "min_height": null,
       "min_width": null,
       "object_fit": null,
       "object_position": null,
       "order": null,
       "overflow": null,
       "overflow_x": null,
       "overflow_y": null,
       "padding": null,
       "right": null,
       "top": null,
       "visibility": null,
       "width": null
      }
     },
     "25911c2dc8f144a7aeb5316fae045558": {
      "model_module": "@jupyter-widgets/base",
      "model_module_version": "1.2.0",
      "model_name": "LayoutModel",
      "state": {
       "_model_module": "@jupyter-widgets/base",
       "_model_module_version": "1.2.0",
       "_model_name": "LayoutModel",
       "_view_count": null,
       "_view_module": "@jupyter-widgets/base",
       "_view_module_version": "1.2.0",
       "_view_name": "LayoutView",
       "align_content": null,
       "align_items": null,
       "align_self": null,
       "border": null,
       "bottom": null,
       "display": null,
       "flex": null,
       "flex_flow": null,
       "grid_area": null,
       "grid_auto_columns": null,
       "grid_auto_flow": null,
       "grid_auto_rows": null,
       "grid_column": null,
       "grid_gap": null,
       "grid_row": null,
       "grid_template_areas": null,
       "grid_template_columns": null,
       "grid_template_rows": null,
       "height": null,
       "justify_content": null,
       "justify_items": null,
       "left": null,
       "margin": null,
       "max_height": null,
       "max_width": null,
       "min_height": null,
       "min_width": null,
       "object_fit": null,
       "object_position": null,
       "order": null,
       "overflow": null,
       "overflow_x": null,
       "overflow_y": null,
       "padding": null,
       "right": null,
       "top": null,
       "visibility": null,
       "width": null
      }
     },
     "25e224bf485a4311ba6ff6c4957174b1": {
      "model_module": "@jupyter-widgets/controls",
      "model_module_version": "1.5.0",
      "model_name": "HTMLModel",
      "state": {
       "_dom_classes": [],
       "_model_module": "@jupyter-widgets/controls",
       "_model_module_version": "1.5.0",
       "_model_name": "HTMLModel",
       "_view_count": null,
       "_view_module": "@jupyter-widgets/controls",
       "_view_module_version": "1.5.0",
       "_view_name": "HTMLView",
       "description": "",
       "description_tooltip": null,
       "layout": "IPY_MODEL_fe401ebe9b90410b9e99c694a90ca3ea",
       "placeholder": "​",
       "style": "IPY_MODEL_218b0b7c5c534afbac5db50f184aea6e",
       "value": "100%"
      }
     },
     "2d5fb6f1fe114fcdb001a797f1e1787d": {
      "model_module": "@jupyter-widgets/controls",
      "model_module_version": "1.5.0",
      "model_name": "HBoxModel",
      "state": {
       "_dom_classes": [],
       "_model_module": "@jupyter-widgets/controls",
       "_model_module_version": "1.5.0",
       "_model_name": "HBoxModel",
       "_view_count": null,
       "_view_module": "@jupyter-widgets/controls",
       "_view_module_version": "1.5.0",
       "_view_name": "HBoxView",
       "box_style": "",
       "children": [
        "IPY_MODEL_1361ba66047447cd9f31bc0b94690b9e",
        "IPY_MODEL_bf4a90bb0b4643cfa25a136f5df7cc70",
        "IPY_MODEL_4ee6b81da5ca447ca962a5d9ee3b5c01"
       ],
       "layout": "IPY_MODEL_f781c34a7cd3461f9f1b994d264a0e60"
      }
     },
     "31121ac2b5c542a2934ee23fd7abc9f5": {
      "model_module": "@jupyter-widgets/controls",
      "model_module_version": "1.5.0",
      "model_name": "HBoxModel",
      "state": {
       "_dom_classes": [],
       "_model_module": "@jupyter-widgets/controls",
       "_model_module_version": "1.5.0",
       "_model_name": "HBoxModel",
       "_view_count": null,
       "_view_module": "@jupyter-widgets/controls",
       "_view_module_version": "1.5.0",
       "_view_name": "HBoxView",
       "box_style": "",
       "children": [
        "IPY_MODEL_562986136b41406d9e250afb7a583abf",
        "IPY_MODEL_6f7dd6dd72cd4790bae78c28c4fcb39b",
        "IPY_MODEL_72ef7b88c1f847c6bbf00c506372aaa5"
       ],
       "layout": "IPY_MODEL_ff785fb7efb0481294f94274934a30ff"
      }
     },
     "3a1cf6c60be54395b3334b7d8e4900db": {
      "model_module": "@jupyter-widgets/base",
      "model_module_version": "1.2.0",
      "model_name": "LayoutModel",
      "state": {
       "_model_module": "@jupyter-widgets/base",
       "_model_module_version": "1.2.0",
       "_model_name": "LayoutModel",
       "_view_count": null,
       "_view_module": "@jupyter-widgets/base",
       "_view_module_version": "1.2.0",
       "_view_name": "LayoutView",
       "align_content": null,
       "align_items": null,
       "align_self": null,
       "border": null,
       "bottom": null,
       "display": null,
       "flex": null,
       "flex_flow": null,
       "grid_area": null,
       "grid_auto_columns": null,
       "grid_auto_flow": null,
       "grid_auto_rows": null,
       "grid_column": null,
       "grid_gap": null,
       "grid_row": null,
       "grid_template_areas": null,
       "grid_template_columns": null,
       "grid_template_rows": null,
       "height": null,
       "justify_content": null,
       "justify_items": null,
       "left": null,
       "margin": null,
       "max_height": null,
       "max_width": null,
       "min_height": null,
       "min_width": null,
       "object_fit": null,
       "object_position": null,
       "order": null,
       "overflow": null,
       "overflow_x": null,
       "overflow_y": null,
       "padding": null,
       "right": null,
       "top": null,
       "visibility": null,
       "width": null
      }
     },
     "442e981bb25e4c748c11494562768896": {
      "model_module": "@jupyter-widgets/base",
      "model_module_version": "1.2.0",
      "model_name": "LayoutModel",
      "state": {
       "_model_module": "@jupyter-widgets/base",
       "_model_module_version": "1.2.0",
       "_model_name": "LayoutModel",
       "_view_count": null,
       "_view_module": "@jupyter-widgets/base",
       "_view_module_version": "1.2.0",
       "_view_name": "LayoutView",
       "align_content": null,
       "align_items": null,
       "align_self": null,
       "border": null,
       "bottom": null,
       "display": null,
       "flex": null,
       "flex_flow": null,
       "grid_area": null,
       "grid_auto_columns": null,
       "grid_auto_flow": null,
       "grid_auto_rows": null,
       "grid_column": null,
       "grid_gap": null,
       "grid_row": null,
       "grid_template_areas": null,
       "grid_template_columns": null,
       "grid_template_rows": null,
       "height": null,
       "justify_content": null,
       "justify_items": null,
       "left": null,
       "margin": null,
       "max_height": null,
       "max_width": null,
       "min_height": null,
       "min_width": null,
       "object_fit": null,
       "object_position": null,
       "order": null,
       "overflow": null,
       "overflow_x": null,
       "overflow_y": null,
       "padding": null,
       "right": null,
       "top": null,
       "visibility": null,
       "width": null
      }
     },
     "487708c6de82446c85b65e9f62c76e9f": {
      "model_module": "@jupyter-widgets/controls",
      "model_module_version": "1.5.0",
      "model_name": "DescriptionStyleModel",
      "state": {
       "_model_module": "@jupyter-widgets/controls",
       "_model_module_version": "1.5.0",
       "_model_name": "DescriptionStyleModel",
       "_view_count": null,
       "_view_module": "@jupyter-widgets/base",
       "_view_module_version": "1.2.0",
       "_view_name": "StyleView",
       "description_width": ""
      }
     },
     "4899f9b85a0e46ddae0578acb5c53158": {
      "model_module": "@jupyter-widgets/controls",
      "model_module_version": "1.5.0",
      "model_name": "DescriptionStyleModel",
      "state": {
       "_model_module": "@jupyter-widgets/controls",
       "_model_module_version": "1.5.0",
       "_model_name": "DescriptionStyleModel",
       "_view_count": null,
       "_view_module": "@jupyter-widgets/base",
       "_view_module_version": "1.2.0",
       "_view_name": "StyleView",
       "description_width": ""
      }
     },
     "4b4ae19b13e54130992dec6832c1c665": {
      "model_module": "@jupyter-widgets/controls",
      "model_module_version": "1.5.0",
      "model_name": "FloatProgressModel",
      "state": {
       "_dom_classes": [],
       "_model_module": "@jupyter-widgets/controls",
       "_model_module_version": "1.5.0",
       "_model_name": "FloatProgressModel",
       "_view_count": null,
       "_view_module": "@jupyter-widgets/controls",
       "_view_module_version": "1.5.0",
       "_view_name": "ProgressView",
       "bar_style": "success",
       "description": "",
       "description_tooltip": null,
       "layout": "IPY_MODEL_fae576e2c53d4abeb20cdb52b838bc03",
       "max": 159571.0,
       "min": 0.0,
       "orientation": "horizontal",
       "style": "IPY_MODEL_d914aee95a8445e484ad123af06f512f",
       "value": 159571.0
      }
     },
     "4c2b67dde3fd44db82e1f188b44042fc": {
      "model_module": "@jupyter-widgets/controls",
      "model_module_version": "1.5.0",
      "model_name": "HTMLModel",
      "state": {
       "_dom_classes": [],
       "_model_module": "@jupyter-widgets/controls",
       "_model_module_version": "1.5.0",
       "_model_name": "HTMLModel",
       "_view_count": null,
       "_view_module": "@jupyter-widgets/controls",
       "_view_module_version": "1.5.0",
       "_view_name": "HTMLView",
       "description": "",
       "description_tooltip": null,
       "layout": "IPY_MODEL_f1eac8e47eed43bbaf18c5068e46949b",
       "placeholder": "​",
       "style": "IPY_MODEL_94f613696d624471a1bbb019b89d1990",
       "value": " 159571/159571 [00:44&lt;00:00, 3608.02it/s]"
      }
     },
     "4ee6b81da5ca447ca962a5d9ee3b5c01": {
      "model_module": "@jupyter-widgets/controls",
      "model_module_version": "1.5.0",
      "model_name": "HTMLModel",
      "state": {
       "_dom_classes": [],
       "_model_module": "@jupyter-widgets/controls",
       "_model_module_version": "1.5.0",
       "_model_name": "HTMLModel",
       "_view_count": null,
       "_view_module": "@jupyter-widgets/controls",
       "_view_module_version": "1.5.0",
       "_view_name": "HTMLView",
       "description": "",
       "description_tooltip": null,
       "layout": "IPY_MODEL_a1d467628ec94df2a852af06c352099d",
       "placeholder": "​",
       "style": "IPY_MODEL_c75200d9301242afb7a2f4a470862804",
       "value": " 7537/7537 [00:02&lt;00:00, 3267.07it/s]"
      }
     },
     "4f178d1623514c00bd5fb1c5af3f33d6": {
      "model_module": "@jupyter-widgets/controls",
      "model_module_version": "1.5.0",
      "model_name": "ProgressStyleModel",
      "state": {
       "_model_module": "@jupyter-widgets/controls",
       "_model_module_version": "1.5.0",
       "_model_name": "ProgressStyleModel",
       "_view_count": null,
       "_view_module": "@jupyter-widgets/base",
       "_view_module_version": "1.2.0",
       "_view_name": "StyleView",
       "bar_color": null,
       "description_width": ""
      }
     },
     "4f1b4b5037884294aba91e2fdfc8cafa": {
      "model_module": "@jupyter-widgets/controls",
      "model_module_version": "1.5.0",
      "model_name": "HTMLModel",
      "state": {
       "_dom_classes": [],
       "_model_module": "@jupyter-widgets/controls",
       "_model_module_version": "1.5.0",
       "_model_name": "HTMLModel",
       "_view_count": null,
       "_view_module": "@jupyter-widgets/controls",
       "_view_module_version": "1.5.0",
       "_view_name": "HTMLView",
       "description": "",
       "description_tooltip": null,
       "layout": "IPY_MODEL_bebc36b5fbdf459fb98423f253b337c2",
       "placeholder": "​",
       "style": "IPY_MODEL_487708c6de82446c85b65e9f62c76e9f",
       "value": "100%"
      }
     },
     "4f47502a6e1944b686ff2815b0e872c1": {
      "model_module": "@jupyter-widgets/base",
      "model_module_version": "1.2.0",
      "model_name": "LayoutModel",
      "state": {
       "_model_module": "@jupyter-widgets/base",
       "_model_module_version": "1.2.0",
       "_model_name": "LayoutModel",
       "_view_count": null,
       "_view_module": "@jupyter-widgets/base",
       "_view_module_version": "1.2.0",
       "_view_name": "LayoutView",
       "align_content": null,
       "align_items": null,
       "align_self": null,
       "border": null,
       "bottom": null,
       "display": null,
       "flex": null,
       "flex_flow": null,
       "grid_area": null,
       "grid_auto_columns": null,
       "grid_auto_flow": null,
       "grid_auto_rows": null,
       "grid_column": null,
       "grid_gap": null,
       "grid_row": null,
       "grid_template_areas": null,
       "grid_template_columns": null,
       "grid_template_rows": null,
       "height": null,
       "justify_content": null,
       "justify_items": null,
       "left": null,
       "margin": null,
       "max_height": null,
       "max_width": null,
       "min_height": null,
       "min_width": null,
       "object_fit": null,
       "object_position": null,
       "order": null,
       "overflow": null,
       "overflow_x": null,
       "overflow_y": null,
       "padding": null,
       "right": null,
       "top": null,
       "visibility": null,
       "width": null
      }
     },
     "52f1faa26db741ce9d68f2d6bc1c6247": {
      "model_module": "@jupyter-widgets/controls",
      "model_module_version": "1.5.0",
      "model_name": "ProgressStyleModel",
      "state": {
       "_model_module": "@jupyter-widgets/controls",
       "_model_module_version": "1.5.0",
       "_model_name": "ProgressStyleModel",
       "_view_count": null,
       "_view_module": "@jupyter-widgets/base",
       "_view_module_version": "1.2.0",
       "_view_name": "StyleView",
       "bar_color": null,
       "description_width": ""
      }
     },
     "562986136b41406d9e250afb7a583abf": {
      "model_module": "@jupyter-widgets/controls",
      "model_module_version": "1.5.0",
      "model_name": "HTMLModel",
      "state": {
       "_dom_classes": [],
       "_model_module": "@jupyter-widgets/controls",
       "_model_module_version": "1.5.0",
       "_model_name": "HTMLModel",
       "_view_count": null,
       "_view_module": "@jupyter-widgets/controls",
       "_view_module_version": "1.5.0",
       "_view_name": "HTMLView",
       "description": "",
       "description_tooltip": null,
       "layout": "IPY_MODEL_084e71c77e2f44b2a30d30b7c2d01431",
       "placeholder": "​",
       "style": "IPY_MODEL_57f8b1f202f449c9914d64874a7c1400",
       "value": "100%"
      }
     },
     "56a2ec1c41174334a5ac25cc2314dff1": {
      "model_module": "@jupyter-widgets/controls",
      "model_module_version": "1.5.0",
      "model_name": "DescriptionStyleModel",
      "state": {
       "_model_module": "@jupyter-widgets/controls",
       "_model_module_version": "1.5.0",
       "_model_name": "DescriptionStyleModel",
       "_view_count": null,
       "_view_module": "@jupyter-widgets/base",
       "_view_module_version": "1.2.0",
       "_view_name": "StyleView",
       "description_width": ""
      }
     },
     "57ea1801f19346b1826a30d0154a2fc3": {
      "model_module": "@jupyter-widgets/base",
      "model_module_version": "1.2.0",
      "model_name": "LayoutModel",
      "state": {
       "_model_module": "@jupyter-widgets/base",
       "_model_module_version": "1.2.0",
       "_model_name": "LayoutModel",
       "_view_count": null,
       "_view_module": "@jupyter-widgets/base",
       "_view_module_version": "1.2.0",
       "_view_name": "LayoutView",
       "align_content": null,
       "align_items": null,
       "align_self": null,
       "border": null,
       "bottom": null,
       "display": null,
       "flex": null,
       "flex_flow": null,
       "grid_area": null,
       "grid_auto_columns": null,
       "grid_auto_flow": null,
       "grid_auto_rows": null,
       "grid_column": null,
       "grid_gap": null,
       "grid_row": null,
       "grid_template_areas": null,
       "grid_template_columns": null,
       "grid_template_rows": null,
       "height": null,
       "justify_content": null,
       "justify_items": null,
       "left": null,
       "margin": null,
       "max_height": null,
       "max_width": null,
       "min_height": null,
       "min_width": null,
       "object_fit": null,
       "object_position": null,
       "order": null,
       "overflow": null,
       "overflow_x": null,
       "overflow_y": null,
       "padding": null,
       "right": null,
       "top": null,
       "visibility": null,
       "width": null
      }
     },
     "57f8b1f202f449c9914d64874a7c1400": {
      "model_module": "@jupyter-widgets/controls",
      "model_module_version": "1.5.0",
      "model_name": "DescriptionStyleModel",
      "state": {
       "_model_module": "@jupyter-widgets/controls",
       "_model_module_version": "1.5.0",
       "_model_name": "DescriptionStyleModel",
       "_view_count": null,
       "_view_module": "@jupyter-widgets/base",
       "_view_module_version": "1.2.0",
       "_view_name": "StyleView",
       "description_width": ""
      }
     },
     "5f5292b8a6354c41a224437b61371e14": {
      "model_module": "@jupyter-widgets/controls",
      "model_module_version": "1.5.0",
      "model_name": "DescriptionStyleModel",
      "state": {
       "_model_module": "@jupyter-widgets/controls",
       "_model_module_version": "1.5.0",
       "_model_name": "DescriptionStyleModel",
       "_view_count": null,
       "_view_module": "@jupyter-widgets/base",
       "_view_module_version": "1.2.0",
       "_view_name": "StyleView",
       "description_width": ""
      }
     },
     "63e190bb03be4b059fe1acb4abd3925f": {
      "model_module": "@jupyter-widgets/base",
      "model_module_version": "1.2.0",
      "model_name": "LayoutModel",
      "state": {
       "_model_module": "@jupyter-widgets/base",
       "_model_module_version": "1.2.0",
       "_model_name": "LayoutModel",
       "_view_count": null,
       "_view_module": "@jupyter-widgets/base",
       "_view_module_version": "1.2.0",
       "_view_name": "LayoutView",
       "align_content": null,
       "align_items": null,
       "align_self": null,
       "border": null,
       "bottom": null,
       "display": null,
       "flex": null,
       "flex_flow": null,
       "grid_area": null,
       "grid_auto_columns": null,
       "grid_auto_flow": null,
       "grid_auto_rows": null,
       "grid_column": null,
       "grid_gap": null,
       "grid_row": null,
       "grid_template_areas": null,
       "grid_template_columns": null,
       "grid_template_rows": null,
       "height": null,
       "justify_content": null,
       "justify_items": null,
       "left": null,
       "margin": null,
       "max_height": null,
       "max_width": null,
       "min_height": null,
       "min_width": null,
       "object_fit": null,
       "object_position": null,
       "order": null,
       "overflow": null,
       "overflow_x": null,
       "overflow_y": null,
       "padding": null,
       "right": null,
       "top": null,
       "visibility": null,
       "width": null
      }
     },
     "6f7dd6dd72cd4790bae78c28c4fcb39b": {
      "model_module": "@jupyter-widgets/controls",
      "model_module_version": "1.5.0",
      "model_name": "FloatProgressModel",
      "state": {
       "_dom_classes": [],
       "_model_module": "@jupyter-widgets/controls",
       "_model_module_version": "1.5.0",
       "_model_name": "FloatProgressModel",
       "_view_count": null,
       "_view_module": "@jupyter-widgets/controls",
       "_view_module_version": "1.5.0",
       "_view_name": "ProgressView",
       "bar_style": "success",
       "description": "",
       "description_tooltip": null,
       "layout": "IPY_MODEL_3a1cf6c60be54395b3334b7d8e4900db",
       "max": 30108.0,
       "min": 0.0,
       "orientation": "horizontal",
       "style": "IPY_MODEL_0d0c56c8b53a44eabb6e21a1df31ada2",
       "value": 30108.0
      }
     },
     "72ef7b88c1f847c6bbf00c506372aaa5": {
      "model_module": "@jupyter-widgets/controls",
      "model_module_version": "1.5.0",
      "model_name": "HTMLModel",
      "state": {
       "_dom_classes": [],
       "_model_module": "@jupyter-widgets/controls",
       "_model_module_version": "1.5.0",
       "_model_name": "HTMLModel",
       "_view_count": null,
       "_view_module": "@jupyter-widgets/controls",
       "_view_module_version": "1.5.0",
       "_view_name": "HTMLView",
       "description": "",
       "description_tooltip": null,
       "layout": "IPY_MODEL_25911c2dc8f144a7aeb5316fae045558",
       "placeholder": "​",
       "style": "IPY_MODEL_b0c6a68e55754c64925a33b47a541b22",
       "value": " 30108/30108 [00:09&lt;00:00, 3240.91it/s]"
      }
     },
     "7a7759283c314fdc85fd385a48a4a359": {
      "model_module": "@jupyter-widgets/controls",
      "model_module_version": "1.5.0",
      "model_name": "ProgressStyleModel",
      "state": {
       "_model_module": "@jupyter-widgets/controls",
       "_model_module_version": "1.5.0",
       "_model_name": "ProgressStyleModel",
       "_view_count": null,
       "_view_module": "@jupyter-widgets/base",
       "_view_module_version": "1.2.0",
       "_view_name": "StyleView",
       "bar_color": null,
       "description_width": ""
      }
     },
     "80e4654fd5714108aba7834389f8c584": {
      "model_module": "@jupyter-widgets/base",
      "model_module_version": "1.2.0",
      "model_name": "LayoutModel",
      "state": {
       "_model_module": "@jupyter-widgets/base",
       "_model_module_version": "1.2.0",
       "_model_name": "LayoutModel",
       "_view_count": null,
       "_view_module": "@jupyter-widgets/base",
       "_view_module_version": "1.2.0",
       "_view_name": "LayoutView",
       "align_content": null,
       "align_items": null,
       "align_self": null,
       "border": null,
       "bottom": null,
       "display": null,
       "flex": null,
       "flex_flow": null,
       "grid_area": null,
       "grid_auto_columns": null,
       "grid_auto_flow": null,
       "grid_auto_rows": null,
       "grid_column": null,
       "grid_gap": null,
       "grid_row": null,
       "grid_template_areas": null,
       "grid_template_columns": null,
       "grid_template_rows": null,
       "height": null,
       "justify_content": null,
       "justify_items": null,
       "left": null,
       "margin": null,
       "max_height": null,
       "max_width": null,
       "min_height": null,
       "min_width": null,
       "object_fit": null,
       "object_position": null,
       "order": null,
       "overflow": null,
       "overflow_x": null,
       "overflow_y": null,
       "padding": null,
       "right": null,
       "top": null,
       "visibility": null,
       "width": null
      }
     },
     "86688d2a88ab49abb295239ebb393b42": {
      "model_module": "@jupyter-widgets/controls",
      "model_module_version": "1.5.0",
      "model_name": "HTMLModel",
      "state": {
       "_dom_classes": [],
       "_model_module": "@jupyter-widgets/controls",
       "_model_module_version": "1.5.0",
       "_model_name": "HTMLModel",
       "_view_count": null,
       "_view_module": "@jupyter-widgets/controls",
       "_view_module_version": "1.5.0",
       "_view_name": "HTMLView",
       "description": "",
       "description_tooltip": null,
       "layout": "IPY_MODEL_4f47502a6e1944b686ff2815b0e872c1",
       "placeholder": "​",
       "style": "IPY_MODEL_d23a362276d64151bbd7efd47621c14a",
       "value": " 5722/5722 [00:01&lt;00:00, 3967.86it/s]"
      }
     },
     "8674dfac324a44068ec6f9f8f6e96f23": {
      "model_module": "@jupyter-widgets/base",
      "model_module_version": "1.2.0",
      "model_name": "LayoutModel",
      "state": {
       "_model_module": "@jupyter-widgets/base",
       "_model_module_version": "1.2.0",
       "_model_name": "LayoutModel",
       "_view_count": null,
       "_view_module": "@jupyter-widgets/base",
       "_view_module_version": "1.2.0",
       "_view_name": "LayoutView",
       "align_content": null,
       "align_items": null,
       "align_self": null,
       "border": null,
       "bottom": null,
       "display": null,
       "flex": null,
       "flex_flow": null,
       "grid_area": null,
       "grid_auto_columns": null,
       "grid_auto_flow": null,
       "grid_auto_rows": null,
       "grid_column": null,
       "grid_gap": null,
       "grid_row": null,
       "grid_template_areas": null,
       "grid_template_columns": null,
       "grid_template_rows": null,
       "height": null,
       "justify_content": null,
       "justify_items": null,
       "left": null,
       "margin": null,
       "max_height": null,
       "max_width": null,
       "min_height": null,
       "min_width": null,
       "object_fit": null,
       "object_position": null,
       "order": null,
       "overflow": null,
       "overflow_x": null,
       "overflow_y": null,
       "padding": null,
       "right": null,
       "top": null,
       "visibility": null,
       "width": null
      }
     },
     "8d2a8cc7939e4c4fa2de3dcbb2ac1222": {
      "model_module": "@jupyter-widgets/base",
      "model_module_version": "1.2.0",
      "model_name": "LayoutModel",
      "state": {
       "_model_module": "@jupyter-widgets/base",
       "_model_module_version": "1.2.0",
       "_model_name": "LayoutModel",
       "_view_count": null,
       "_view_module": "@jupyter-widgets/base",
       "_view_module_version": "1.2.0",
       "_view_name": "LayoutView",
       "align_content": null,
       "align_items": null,
       "align_self": null,
       "border": null,
       "bottom": null,
       "display": null,
       "flex": null,
       "flex_flow": null,
       "grid_area": null,
       "grid_auto_columns": null,
       "grid_auto_flow": null,
       "grid_auto_rows": null,
       "grid_column": null,
       "grid_gap": null,
       "grid_row": null,
       "grid_template_areas": null,
       "grid_template_columns": null,
       "grid_template_rows": null,
       "height": null,
       "justify_content": null,
       "justify_items": null,
       "left": null,
       "margin": null,
       "max_height": null,
       "max_width": null,
       "min_height": null,
       "min_width": null,
       "object_fit": null,
       "object_position": null,
       "order": null,
       "overflow": null,
       "overflow_x": null,
       "overflow_y": null,
       "padding": null,
       "right": null,
       "top": null,
       "visibility": null,
       "width": null
      }
     },
     "9069adc0e29e4cddb62f7a0d3c59cb5a": {
      "model_module": "@jupyter-widgets/base",
      "model_module_version": "1.2.0",
      "model_name": "LayoutModel",
      "state": {
       "_model_module": "@jupyter-widgets/base",
       "_model_module_version": "1.2.0",
       "_model_name": "LayoutModel",
       "_view_count": null,
       "_view_module": "@jupyter-widgets/base",
       "_view_module_version": "1.2.0",
       "_view_name": "LayoutView",
       "align_content": null,
       "align_items": null,
       "align_self": null,
       "border": null,
       "bottom": null,
       "display": null,
       "flex": null,
       "flex_flow": null,
       "grid_area": null,
       "grid_auto_columns": null,
       "grid_auto_flow": null,
       "grid_auto_rows": null,
       "grid_column": null,
       "grid_gap": null,
       "grid_row": null,
       "grid_template_areas": null,
       "grid_template_columns": null,
       "grid_template_rows": null,
       "height": null,
       "justify_content": null,
       "justify_items": null,
       "left": null,
       "margin": null,
       "max_height": null,
       "max_width": null,
       "min_height": null,
       "min_width": null,
       "object_fit": null,
       "object_position": null,
       "order": null,
       "overflow": null,
       "overflow_x": null,
       "overflow_y": null,
       "padding": null,
       "right": null,
       "top": null,
       "visibility": null,
       "width": null
      }
     },
     "936fc9e873994eeeb930e34eac3b7bac": {
      "model_module": "@jupyter-widgets/controls",
      "model_module_version": "1.5.0",
      "model_name": "HBoxModel",
      "state": {
       "_dom_classes": [],
       "_model_module": "@jupyter-widgets/controls",
       "_model_module_version": "1.5.0",
       "_model_name": "HBoxModel",
       "_view_count": null,
       "_view_module": "@jupyter-widgets/controls",
       "_view_module_version": "1.5.0",
       "_view_name": "HBoxView",
       "box_style": "",
       "children": [
        "IPY_MODEL_93d2111dc3cf469082a458a9274a98f5",
        "IPY_MODEL_afe4f7f46e014a14a302e04490bdc2bf",
        "IPY_MODEL_86688d2a88ab49abb295239ebb393b42"
       ],
       "layout": "IPY_MODEL_442e981bb25e4c748c11494562768896"
      }
     },
     "93d2111dc3cf469082a458a9274a98f5": {
      "model_module": "@jupyter-widgets/controls",
      "model_module_version": "1.5.0",
      "model_name": "HTMLModel",
      "state": {
       "_dom_classes": [],
       "_model_module": "@jupyter-widgets/controls",
       "_model_module_version": "1.5.0",
       "_model_name": "HTMLModel",
       "_view_count": null,
       "_view_module": "@jupyter-widgets/controls",
       "_view_module_version": "1.5.0",
       "_view_name": "HTMLView",
       "description": "",
       "description_tooltip": null,
       "layout": "IPY_MODEL_8d2a8cc7939e4c4fa2de3dcbb2ac1222",
       "placeholder": "​",
       "style": "IPY_MODEL_5f5292b8a6354c41a224437b61371e14",
       "value": "100%"
      }
     },
     "94f613696d624471a1bbb019b89d1990": {
      "model_module": "@jupyter-widgets/controls",
      "model_module_version": "1.5.0",
      "model_name": "DescriptionStyleModel",
      "state": {
       "_model_module": "@jupyter-widgets/controls",
       "_model_module_version": "1.5.0",
       "_model_name": "DescriptionStyleModel",
       "_view_count": null,
       "_view_module": "@jupyter-widgets/base",
       "_view_module_version": "1.2.0",
       "_view_name": "StyleView",
       "description_width": ""
      }
     },
     "952962ed61d346bfaf7556216723354a": {
      "model_module": "@jupyter-widgets/controls",
      "model_module_version": "1.5.0",
      "model_name": "FloatProgressModel",
      "state": {
       "_dom_classes": [],
       "_model_module": "@jupyter-widgets/controls",
       "_model_module_version": "1.5.0",
       "_model_name": "FloatProgressModel",
       "_view_count": null,
       "_view_module": "@jupyter-widgets/controls",
       "_view_module_version": "1.5.0",
       "_view_name": "ProgressView",
       "bar_style": "success",
       "description": "",
       "description_tooltip": null,
       "layout": "IPY_MODEL_bc832fce84744fe99a01b7f3575c98b7",
       "max": 30108.0,
       "min": 0.0,
       "orientation": "horizontal",
       "style": "IPY_MODEL_4f178d1623514c00bd5fb1c5af3f33d6",
       "value": 30108.0
      }
     },
     "9a3148889b3542aba1c7fd88e5388427": {
      "model_module": "@jupyter-widgets/base",
      "model_module_version": "1.2.0",
      "model_name": "LayoutModel",
      "state": {
       "_model_module": "@jupyter-widgets/base",
       "_model_module_version": "1.2.0",
       "_model_name": "LayoutModel",
       "_view_count": null,
       "_view_module": "@jupyter-widgets/base",
       "_view_module_version": "1.2.0",
       "_view_name": "LayoutView",
       "align_content": null,
       "align_items": null,
       "align_self": null,
       "border": null,
       "bottom": null,
       "display": null,
       "flex": null,
       "flex_flow": null,
       "grid_area": null,
       "grid_auto_columns": null,
       "grid_auto_flow": null,
       "grid_auto_rows": null,
       "grid_column": null,
       "grid_gap": null,
       "grid_row": null,
       "grid_template_areas": null,
       "grid_template_columns": null,
       "grid_template_rows": null,
       "height": null,
       "justify_content": null,
       "justify_items": null,
       "left": null,
       "margin": null,
       "max_height": null,
       "max_width": null,
       "min_height": null,
       "min_width": null,
       "object_fit": null,
       "object_position": null,
       "order": null,
       "overflow": null,
       "overflow_x": null,
       "overflow_y": null,
       "padding": null,
       "right": null,
       "top": null,
       "visibility": null,
       "width": null
      }
     },
     "a1d467628ec94df2a852af06c352099d": {
      "model_module": "@jupyter-widgets/base",
      "model_module_version": "1.2.0",
      "model_name": "LayoutModel",
      "state": {
       "_model_module": "@jupyter-widgets/base",
       "_model_module_version": "1.2.0",
       "_model_name": "LayoutModel",
       "_view_count": null,
       "_view_module": "@jupyter-widgets/base",
       "_view_module_version": "1.2.0",
       "_view_name": "LayoutView",
       "align_content": null,
       "align_items": null,
       "align_self": null,
       "border": null,
       "bottom": null,
       "display": null,
       "flex": null,
       "flex_flow": null,
       "grid_area": null,
       "grid_auto_columns": null,
       "grid_auto_flow": null,
       "grid_auto_rows": null,
       "grid_column": null,
       "grid_gap": null,
       "grid_row": null,
       "grid_template_areas": null,
       "grid_template_columns": null,
       "grid_template_rows": null,
       "height": null,
       "justify_content": null,
       "justify_items": null,
       "left": null,
       "margin": null,
       "max_height": null,
       "max_width": null,
       "min_height": null,
       "min_width": null,
       "object_fit": null,
       "object_position": null,
       "order": null,
       "overflow": null,
       "overflow_x": null,
       "overflow_y": null,
       "padding": null,
       "right": null,
       "top": null,
       "visibility": null,
       "width": null
      }
     },
     "aa57c59ca33f4bff90ed1050660fe51b": {
      "model_module": "@jupyter-widgets/controls",
      "model_module_version": "1.5.0",
      "model_name": "DescriptionStyleModel",
      "state": {
       "_model_module": "@jupyter-widgets/controls",
       "_model_module_version": "1.5.0",
       "_model_name": "DescriptionStyleModel",
       "_view_count": null,
       "_view_module": "@jupyter-widgets/base",
       "_view_module_version": "1.2.0",
       "_view_name": "StyleView",
       "description_width": ""
      }
     },
     "afe4f7f46e014a14a302e04490bdc2bf": {
      "model_module": "@jupyter-widgets/controls",
      "model_module_version": "1.5.0",
      "model_name": "FloatProgressModel",
      "state": {
       "_dom_classes": [],
       "_model_module": "@jupyter-widgets/controls",
       "_model_module_version": "1.5.0",
       "_model_name": "FloatProgressModel",
       "_view_count": null,
       "_view_module": "@jupyter-widgets/controls",
       "_view_module_version": "1.5.0",
       "_view_name": "ProgressView",
       "bar_style": "success",
       "description": "",
       "description_tooltip": null,
       "layout": "IPY_MODEL_9069adc0e29e4cddb62f7a0d3c59cb5a",
       "max": 5722.0,
       "min": 0.0,
       "orientation": "horizontal",
       "style": "IPY_MODEL_7a7759283c314fdc85fd385a48a4a359",
       "value": 5722.0
      }
     },
     "b0c6a68e55754c64925a33b47a541b22": {
      "model_module": "@jupyter-widgets/controls",
      "model_module_version": "1.5.0",
      "model_name": "DescriptionStyleModel",
      "state": {
       "_model_module": "@jupyter-widgets/controls",
       "_model_module_version": "1.5.0",
       "_model_name": "DescriptionStyleModel",
       "_view_count": null,
       "_view_module": "@jupyter-widgets/base",
       "_view_module_version": "1.2.0",
       "_view_name": "StyleView",
       "description_width": ""
      }
     },
     "b2772ead2c7f438092067b19c291c8ae": {
      "model_module": "@jupyter-widgets/controls",
      "model_module_version": "1.5.0",
      "model_name": "HTMLModel",
      "state": {
       "_dom_classes": [],
       "_model_module": "@jupyter-widgets/controls",
       "_model_module_version": "1.5.0",
       "_model_name": "HTMLModel",
       "_view_count": null,
       "_view_module": "@jupyter-widgets/controls",
       "_view_module_version": "1.5.0",
       "_view_name": "HTMLView",
       "description": "",
       "description_tooltip": null,
       "layout": "IPY_MODEL_da4cf9b8458d4330a40dd1140f6e7c60",
       "placeholder": "​",
       "style": "IPY_MODEL_56a2ec1c41174334a5ac25cc2314dff1",
       "value": " 30108/30108 [00:09&lt;00:00, 3261.19it/s]"
      }
     },
     "bc832fce84744fe99a01b7f3575c98b7": {
      "model_module": "@jupyter-widgets/base",
      "model_module_version": "1.2.0",
      "model_name": "LayoutModel",
      "state": {
       "_model_module": "@jupyter-widgets/base",
       "_model_module_version": "1.2.0",
       "_model_name": "LayoutModel",
       "_view_count": null,
       "_view_module": "@jupyter-widgets/base",
       "_view_module_version": "1.2.0",
       "_view_name": "LayoutView",
       "align_content": null,
       "align_items": null,
       "align_self": null,
       "border": null,
       "bottom": null,
       "display": null,
       "flex": null,
       "flex_flow": null,
       "grid_area": null,
       "grid_auto_columns": null,
       "grid_auto_flow": null,
       "grid_auto_rows": null,
       "grid_column": null,
       "grid_gap": null,
       "grid_row": null,
       "grid_template_areas": null,
       "grid_template_columns": null,
       "grid_template_rows": null,
       "height": null,
       "justify_content": null,
       "justify_items": null,
       "left": null,
       "margin": null,
       "max_height": null,
       "max_width": null,
       "min_height": null,
       "min_width": null,
       "object_fit": null,
       "object_position": null,
       "order": null,
       "overflow": null,
       "overflow_x": null,
       "overflow_y": null,
       "padding": null,
       "right": null,
       "top": null,
       "visibility": null,
       "width": null
      }
     },
     "bebc36b5fbdf459fb98423f253b337c2": {
      "model_module": "@jupyter-widgets/base",
      "model_module_version": "1.2.0",
      "model_name": "LayoutModel",
      "state": {
       "_model_module": "@jupyter-widgets/base",
       "_model_module_version": "1.2.0",
       "_model_name": "LayoutModel",
       "_view_count": null,
       "_view_module": "@jupyter-widgets/base",
       "_view_module_version": "1.2.0",
       "_view_name": "LayoutView",
       "align_content": null,
       "align_items": null,
       "align_self": null,
       "border": null,
       "bottom": null,
       "display": null,
       "flex": null,
       "flex_flow": null,
       "grid_area": null,
       "grid_auto_columns": null,
       "grid_auto_flow": null,
       "grid_auto_rows": null,
       "grid_column": null,
       "grid_gap": null,
       "grid_row": null,
       "grid_template_areas": null,
       "grid_template_columns": null,
       "grid_template_rows": null,
       "height": null,
       "justify_content": null,
       "justify_items": null,
       "left": null,
       "margin": null,
       "max_height": null,
       "max_width": null,
       "min_height": null,
       "min_width": null,
       "object_fit": null,
       "object_position": null,
       "order": null,
       "overflow": null,
       "overflow_x": null,
       "overflow_y": null,
       "padding": null,
       "right": null,
       "top": null,
       "visibility": null,
       "width": null
      }
     },
     "bf4a90bb0b4643cfa25a136f5df7cc70": {
      "model_module": "@jupyter-widgets/controls",
      "model_module_version": "1.5.0",
      "model_name": "FloatProgressModel",
      "state": {
       "_dom_classes": [],
       "_model_module": "@jupyter-widgets/controls",
       "_model_module_version": "1.5.0",
       "_model_name": "FloatProgressModel",
       "_view_count": null,
       "_view_module": "@jupyter-widgets/controls",
       "_view_module_version": "1.5.0",
       "_view_name": "ProgressView",
       "bar_style": "success",
       "description": "",
       "description_tooltip": null,
       "layout": "IPY_MODEL_24df2e6d3e6e41b7ae7bf635294bd5d2",
       "max": 7537.0,
       "min": 0.0,
       "orientation": "horizontal",
       "style": "IPY_MODEL_52f1faa26db741ce9d68f2d6bc1c6247",
       "value": 7537.0
      }
     },
     "c000f169b83942828957244069629c68": {
      "model_module": "@jupyter-widgets/controls",
      "model_module_version": "1.5.0",
      "model_name": "HBoxModel",
      "state": {
       "_dom_classes": [],
       "_model_module": "@jupyter-widgets/controls",
       "_model_module_version": "1.5.0",
       "_model_name": "HBoxModel",
       "_view_count": null,
       "_view_module": "@jupyter-widgets/controls",
       "_view_module_version": "1.5.0",
       "_view_name": "HBoxView",
       "box_style": "",
       "children": [
        "IPY_MODEL_25e224bf485a4311ba6ff6c4957174b1",
        "IPY_MODEL_c0c26c07b1f94c6086c1348a6ef266bf",
        "IPY_MODEL_1c9d2b1ff933419f9c513ffc07830d19"
       ],
       "layout": "IPY_MODEL_80e4654fd5714108aba7834389f8c584"
      }
     },
     "c0c26c07b1f94c6086c1348a6ef266bf": {
      "model_module": "@jupyter-widgets/controls",
      "model_module_version": "1.5.0",
      "model_name": "FloatProgressModel",
      "state": {
       "_dom_classes": [],
       "_model_module": "@jupyter-widgets/controls",
       "_model_module_version": "1.5.0",
       "_model_name": "FloatProgressModel",
       "_view_count": null,
       "_view_module": "@jupyter-widgets/controls",
       "_view_module_version": "1.5.0",
       "_view_name": "ProgressView",
       "bar_style": "success",
       "description": "",
       "description_tooltip": null,
       "layout": "IPY_MODEL_57ea1801f19346b1826a30d0154a2fc3",
       "max": 1804874.0,
       "min": 0.0,
       "orientation": "horizontal",
       "style": "IPY_MODEL_e8f90be230214d888e3a2028d0fe607c",
       "value": 1804874.0
      }
     },
     "c75200d9301242afb7a2f4a470862804": {
      "model_module": "@jupyter-widgets/controls",
      "model_module_version": "1.5.0",
      "model_name": "DescriptionStyleModel",
      "state": {
       "_model_module": "@jupyter-widgets/controls",
       "_model_module_version": "1.5.0",
       "_model_name": "DescriptionStyleModel",
       "_view_count": null,
       "_view_module": "@jupyter-widgets/base",
       "_view_module_version": "1.2.0",
       "_view_name": "StyleView",
       "description_width": ""
      }
     },
     "d23a362276d64151bbd7efd47621c14a": {
      "model_module": "@jupyter-widgets/controls",
      "model_module_version": "1.5.0",
      "model_name": "DescriptionStyleModel",
      "state": {
       "_model_module": "@jupyter-widgets/controls",
       "_model_module_version": "1.5.0",
       "_model_name": "DescriptionStyleModel",
       "_view_count": null,
       "_view_module": "@jupyter-widgets/base",
       "_view_module_version": "1.2.0",
       "_view_name": "StyleView",
       "description_width": ""
      }
     },
     "d914aee95a8445e484ad123af06f512f": {
      "model_module": "@jupyter-widgets/controls",
      "model_module_version": "1.5.0",
      "model_name": "ProgressStyleModel",
      "state": {
       "_model_module": "@jupyter-widgets/controls",
       "_model_module_version": "1.5.0",
       "_model_name": "ProgressStyleModel",
       "_view_count": null,
       "_view_module": "@jupyter-widgets/base",
       "_view_module_version": "1.2.0",
       "_view_name": "StyleView",
       "bar_color": null,
       "description_width": ""
      }
     },
     "da4cf9b8458d4330a40dd1140f6e7c60": {
      "model_module": "@jupyter-widgets/base",
      "model_module_version": "1.2.0",
      "model_name": "LayoutModel",
      "state": {
       "_model_module": "@jupyter-widgets/base",
       "_model_module_version": "1.2.0",
       "_model_name": "LayoutModel",
       "_view_count": null,
       "_view_module": "@jupyter-widgets/base",
       "_view_module_version": "1.2.0",
       "_view_name": "LayoutView",
       "align_content": null,
       "align_items": null,
       "align_self": null,
       "border": null,
       "bottom": null,
       "display": null,
       "flex": null,
       "flex_flow": null,
       "grid_area": null,
       "grid_auto_columns": null,
       "grid_auto_flow": null,
       "grid_auto_rows": null,
       "grid_column": null,
       "grid_gap": null,
       "grid_row": null,
       "grid_template_areas": null,
       "grid_template_columns": null,
       "grid_template_rows": null,
       "height": null,
       "justify_content": null,
       "justify_items": null,
       "left": null,
       "margin": null,
       "max_height": null,
       "max_width": null,
       "min_height": null,
       "min_width": null,
       "object_fit": null,
       "object_position": null,
       "order": null,
       "overflow": null,
       "overflow_x": null,
       "overflow_y": null,
       "padding": null,
       "right": null,
       "top": null,
       "visibility": null,
       "width": null
      }
     },
     "dd19fbb1b33d4b099a19c75f26706118": {
      "model_module": "@jupyter-widgets/base",
      "model_module_version": "1.2.0",
      "model_name": "LayoutModel",
      "state": {
       "_model_module": "@jupyter-widgets/base",
       "_model_module_version": "1.2.0",
       "_model_name": "LayoutModel",
       "_view_count": null,
       "_view_module": "@jupyter-widgets/base",
       "_view_module_version": "1.2.0",
       "_view_name": "LayoutView",
       "align_content": null,
       "align_items": null,
       "align_self": null,
       "border": null,
       "bottom": null,
       "display": null,
       "flex": null,
       "flex_flow": null,
       "grid_area": null,
       "grid_auto_columns": null,
       "grid_auto_flow": null,
       "grid_auto_rows": null,
       "grid_column": null,
       "grid_gap": null,
       "grid_row": null,
       "grid_template_areas": null,
       "grid_template_columns": null,
       "grid_template_rows": null,
       "height": null,
       "justify_content": null,
       "justify_items": null,
       "left": null,
       "margin": null,
       "max_height": null,
       "max_width": null,
       "min_height": null,
       "min_width": null,
       "object_fit": null,
       "object_position": null,
       "order": null,
       "overflow": null,
       "overflow_x": null,
       "overflow_y": null,
       "padding": null,
       "right": null,
       "top": null,
       "visibility": null,
       "width": null
      }
     },
     "e8f90be230214d888e3a2028d0fe607c": {
      "model_module": "@jupyter-widgets/controls",
      "model_module_version": "1.5.0",
      "model_name": "ProgressStyleModel",
      "state": {
       "_model_module": "@jupyter-widgets/controls",
       "_model_module_version": "1.5.0",
       "_model_name": "ProgressStyleModel",
       "_view_count": null,
       "_view_module": "@jupyter-widgets/base",
       "_view_module_version": "1.2.0",
       "_view_name": "StyleView",
       "bar_color": null,
       "description_width": ""
      }
     },
     "f1eac8e47eed43bbaf18c5068e46949b": {
      "model_module": "@jupyter-widgets/base",
      "model_module_version": "1.2.0",
      "model_name": "LayoutModel",
      "state": {
       "_model_module": "@jupyter-widgets/base",
       "_model_module_version": "1.2.0",
       "_model_name": "LayoutModel",
       "_view_count": null,
       "_view_module": "@jupyter-widgets/base",
       "_view_module_version": "1.2.0",
       "_view_name": "LayoutView",
       "align_content": null,
       "align_items": null,
       "align_self": null,
       "border": null,
       "bottom": null,
       "display": null,
       "flex": null,
       "flex_flow": null,
       "grid_area": null,
       "grid_auto_columns": null,
       "grid_auto_flow": null,
       "grid_auto_rows": null,
       "grid_column": null,
       "grid_gap": null,
       "grid_row": null,
       "grid_template_areas": null,
       "grid_template_columns": null,
       "grid_template_rows": null,
       "height": null,
       "justify_content": null,
       "justify_items": null,
       "left": null,
       "margin": null,
       "max_height": null,
       "max_width": null,
       "min_height": null,
       "min_width": null,
       "object_fit": null,
       "object_position": null,
       "order": null,
       "overflow": null,
       "overflow_x": null,
       "overflow_y": null,
       "padding": null,
       "right": null,
       "top": null,
       "visibility": null,
       "width": null
      }
     },
     "f781c34a7cd3461f9f1b994d264a0e60": {
      "model_module": "@jupyter-widgets/base",
      "model_module_version": "1.2.0",
      "model_name": "LayoutModel",
      "state": {
       "_model_module": "@jupyter-widgets/base",
       "_model_module_version": "1.2.0",
       "_model_name": "LayoutModel",
       "_view_count": null,
       "_view_module": "@jupyter-widgets/base",
       "_view_module_version": "1.2.0",
       "_view_name": "LayoutView",
       "align_content": null,
       "align_items": null,
       "align_self": null,
       "border": null,
       "bottom": null,
       "display": null,
       "flex": null,
       "flex_flow": null,
       "grid_area": null,
       "grid_auto_columns": null,
       "grid_auto_flow": null,
       "grid_auto_rows": null,
       "grid_column": null,
       "grid_gap": null,
       "grid_row": null,
       "grid_template_areas": null,
       "grid_template_columns": null,
       "grid_template_rows": null,
       "height": null,
       "justify_content": null,
       "justify_items": null,
       "left": null,
       "margin": null,
       "max_height": null,
       "max_width": null,
       "min_height": null,
       "min_width": null,
       "object_fit": null,
       "object_position": null,
       "order": null,
       "overflow": null,
       "overflow_x": null,
       "overflow_y": null,
       "padding": null,
       "right": null,
       "top": null,
       "visibility": null,
       "width": null
      }
     },
     "f8a84eaf04b34c8d95201ad318f04e9d": {
      "model_module": "@jupyter-widgets/controls",
      "model_module_version": "1.5.0",
      "model_name": "HBoxModel",
      "state": {
       "_dom_classes": [],
       "_model_module": "@jupyter-widgets/controls",
       "_model_module_version": "1.5.0",
       "_model_name": "HBoxModel",
       "_view_count": null,
       "_view_module": "@jupyter-widgets/controls",
       "_view_module_version": "1.5.0",
       "_view_name": "HBoxView",
       "box_style": "",
       "children": [
        "IPY_MODEL_20f5b09d7ce243f4b8185895587a3d82",
        "IPY_MODEL_952962ed61d346bfaf7556216723354a",
        "IPY_MODEL_b2772ead2c7f438092067b19c291c8ae"
       ],
       "layout": "IPY_MODEL_9a3148889b3542aba1c7fd88e5388427"
      }
     },
     "fae576e2c53d4abeb20cdb52b838bc03": {
      "model_module": "@jupyter-widgets/base",
      "model_module_version": "1.2.0",
      "model_name": "LayoutModel",
      "state": {
       "_model_module": "@jupyter-widgets/base",
       "_model_module_version": "1.2.0",
       "_model_name": "LayoutModel",
       "_view_count": null,
       "_view_module": "@jupyter-widgets/base",
       "_view_module_version": "1.2.0",
       "_view_name": "LayoutView",
       "align_content": null,
       "align_items": null,
       "align_self": null,
       "border": null,
       "bottom": null,
       "display": null,
       "flex": null,
       "flex_flow": null,
       "grid_area": null,
       "grid_auto_columns": null,
       "grid_auto_flow": null,
       "grid_auto_rows": null,
       "grid_column": null,
       "grid_gap": null,
       "grid_row": null,
       "grid_template_areas": null,
       "grid_template_columns": null,
       "grid_template_rows": null,
       "height": null,
       "justify_content": null,
       "justify_items": null,
       "left": null,
       "margin": null,
       "max_height": null,
       "max_width": null,
       "min_height": null,
       "min_width": null,
       "object_fit": null,
       "object_position": null,
       "order": null,
       "overflow": null,
       "overflow_x": null,
       "overflow_y": null,
       "padding": null,
       "right": null,
       "top": null,
       "visibility": null,
       "width": null
      }
     },
     "fe401ebe9b90410b9e99c694a90ca3ea": {
      "model_module": "@jupyter-widgets/base",
      "model_module_version": "1.2.0",
      "model_name": "LayoutModel",
      "state": {
       "_model_module": "@jupyter-widgets/base",
       "_model_module_version": "1.2.0",
       "_model_name": "LayoutModel",
       "_view_count": null,
       "_view_module": "@jupyter-widgets/base",
       "_view_module_version": "1.2.0",
       "_view_name": "LayoutView",
       "align_content": null,
       "align_items": null,
       "align_self": null,
       "border": null,
       "bottom": null,
       "display": null,
       "flex": null,
       "flex_flow": null,
       "grid_area": null,
       "grid_auto_columns": null,
       "grid_auto_flow": null,
       "grid_auto_rows": null,
       "grid_column": null,
       "grid_gap": null,
       "grid_row": null,
       "grid_template_areas": null,
       "grid_template_columns": null,
       "grid_template_rows": null,
       "height": null,
       "justify_content": null,
       "justify_items": null,
       "left": null,
       "margin": null,
       "max_height": null,
       "max_width": null,
       "min_height": null,
       "min_width": null,
       "object_fit": null,
       "object_position": null,
       "order": null,
       "overflow": null,
       "overflow_x": null,
       "overflow_y": null,
       "padding": null,
       "right": null,
       "top": null,
       "visibility": null,
       "width": null
      }
     },
     "ff785fb7efb0481294f94274934a30ff": {
      "model_module": "@jupyter-widgets/base",
      "model_module_version": "1.2.0",
      "model_name": "LayoutModel",
      "state": {
       "_model_module": "@jupyter-widgets/base",
       "_model_module_version": "1.2.0",
       "_model_name": "LayoutModel",
       "_view_count": null,
       "_view_module": "@jupyter-widgets/base",
       "_view_module_version": "1.2.0",
       "_view_name": "LayoutView",
       "align_content": null,
       "align_items": null,
       "align_self": null,
       "border": null,
       "bottom": null,
       "display": null,
       "flex": null,
       "flex_flow": null,
       "grid_area": null,
       "grid_auto_columns": null,
       "grid_auto_flow": null,
       "grid_auto_rows": null,
       "grid_column": null,
       "grid_gap": null,
       "grid_row": null,
       "grid_template_areas": null,
       "grid_template_columns": null,
       "grid_template_rows": null,
       "height": null,
       "justify_content": null,
       "justify_items": null,
       "left": null,
       "margin": null,
       "max_height": null,
       "max_width": null,
       "min_height": null,
       "min_width": null,
       "object_fit": null,
       "object_position": null,
       "order": null,
       "overflow": null,
       "overflow_x": null,
       "overflow_y": null,
       "padding": null,
       "right": null,
       "top": null,
       "visibility": null,
       "width": null
      }
     }
    },
    "version_major": 2,
    "version_minor": 0
   }
  }
 },
 "nbformat": 4,
 "nbformat_minor": 5
}
